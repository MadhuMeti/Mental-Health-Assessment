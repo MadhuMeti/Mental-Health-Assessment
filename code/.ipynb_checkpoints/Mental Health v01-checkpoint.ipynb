{
 "cells": [
  {
   "cell_type": "code",
   "execution_count": 338,
   "id": "fadcfa14",
   "metadata": {},
   "outputs": [],
   "source": [
    "import numpy as np\n",
    "import pandas as pd\n",
    "import seaborn as sns\n",
    "from sklearn import preprocessing\n",
    "import matplotlib.pyplot as plt"
   ]
  },
  {
   "cell_type": "code",
   "execution_count": 339,
   "id": "cebe020a",
   "metadata": {},
   "outputs": [],
   "source": [
    "data=pd.read_csv('demoDataSet_v01.csv')"
   ]
  },
  {
   "cell_type": "code",
   "execution_count": 340,
   "id": "4915cb2b",
   "metadata": {},
   "outputs": [
    {
     "data": {
      "text/html": [
       "<div>\n",
       "<style scoped>\n",
       "    .dataframe tbody tr th:only-of-type {\n",
       "        vertical-align: middle;\n",
       "    }\n",
       "\n",
       "    .dataframe tbody tr th {\n",
       "        vertical-align: top;\n",
       "    }\n",
       "\n",
       "    .dataframe thead th {\n",
       "        text-align: right;\n",
       "    }\n",
       "</style>\n",
       "<table border=\"1\" class=\"dataframe\">\n",
       "  <thead>\n",
       "    <tr style=\"text-align: right;\">\n",
       "      <th></th>\n",
       "      <th>Age</th>\n",
       "      <th>Gender</th>\n",
       "      <th>Dryness in mouth. (Since 1 month)</th>\n",
       "      <th>Difficulty in breathing. (Since 1 month)</th>\n",
       "      <th>Experience trembling. (Since 1 month)</th>\n",
       "      <th>Worried about panic and make a fool of themselves. (Since 1 month)</th>\n",
       "      <th>Close to panic. (Since 1 month)</th>\n",
       "      <th>Aware of the action of the heart in the absence of physical exertion. (Since 1 month)</th>\n",
       "      <th>Felt scared without any good reason. (Since 1 month)</th>\n",
       "      <th>Difficult to work up the initiative to do things. (Since 1 month)</th>\n",
       "      <th>Couldn't experience the positive feeling. (Since 1 month)</th>\n",
       "      <th>Nothing to look forward. (Since 1 month)</th>\n",
       "      <th>Felt down hearted and blue. (Since 1 month)</th>\n",
       "      <th>Unable to become enthusiastic. (Since 1 month)</th>\n",
       "      <th>Felt wasn't worth much as person. (Since 1 month)</th>\n",
       "      <th>Felt life was meaningless. (Since 1 month)</th>\n",
       "      <th>AScore</th>\n",
       "      <th>DScore</th>\n",
       "    </tr>\n",
       "  </thead>\n",
       "  <tbody>\n",
       "    <tr>\n",
       "      <th>0</th>\n",
       "      <td>21</td>\n",
       "      <td>Male</td>\n",
       "      <td>0</td>\n",
       "      <td>0</td>\n",
       "      <td>0</td>\n",
       "      <td>0</td>\n",
       "      <td>0</td>\n",
       "      <td>0</td>\n",
       "      <td>0</td>\n",
       "      <td>0</td>\n",
       "      <td>0</td>\n",
       "      <td>0</td>\n",
       "      <td>0</td>\n",
       "      <td>0</td>\n",
       "      <td>0</td>\n",
       "      <td>0</td>\n",
       "      <td>0</td>\n",
       "      <td>0</td>\n",
       "    </tr>\n",
       "    <tr>\n",
       "      <th>1</th>\n",
       "      <td>17</td>\n",
       "      <td>Female</td>\n",
       "      <td>0</td>\n",
       "      <td>0</td>\n",
       "      <td>0</td>\n",
       "      <td>0</td>\n",
       "      <td>0</td>\n",
       "      <td>0</td>\n",
       "      <td>0</td>\n",
       "      <td>1</td>\n",
       "      <td>0</td>\n",
       "      <td>0</td>\n",
       "      <td>0</td>\n",
       "      <td>0</td>\n",
       "      <td>0</td>\n",
       "      <td>0</td>\n",
       "      <td>0</td>\n",
       "      <td>2</td>\n",
       "    </tr>\n",
       "    <tr>\n",
       "      <th>2</th>\n",
       "      <td>21</td>\n",
       "      <td>Female</td>\n",
       "      <td>0</td>\n",
       "      <td>1</td>\n",
       "      <td>0</td>\n",
       "      <td>0</td>\n",
       "      <td>0</td>\n",
       "      <td>0</td>\n",
       "      <td>0</td>\n",
       "      <td>0</td>\n",
       "      <td>0</td>\n",
       "      <td>0</td>\n",
       "      <td>0</td>\n",
       "      <td>0</td>\n",
       "      <td>0</td>\n",
       "      <td>0</td>\n",
       "      <td>2</td>\n",
       "      <td>0</td>\n",
       "    </tr>\n",
       "    <tr>\n",
       "      <th>3</th>\n",
       "      <td>21</td>\n",
       "      <td>Male</td>\n",
       "      <td>0</td>\n",
       "      <td>0</td>\n",
       "      <td>0</td>\n",
       "      <td>1</td>\n",
       "      <td>0</td>\n",
       "      <td>0</td>\n",
       "      <td>0</td>\n",
       "      <td>0</td>\n",
       "      <td>0</td>\n",
       "      <td>0</td>\n",
       "      <td>0</td>\n",
       "      <td>0</td>\n",
       "      <td>0</td>\n",
       "      <td>0</td>\n",
       "      <td>2</td>\n",
       "      <td>0</td>\n",
       "    </tr>\n",
       "    <tr>\n",
       "      <th>4</th>\n",
       "      <td>19</td>\n",
       "      <td>Male</td>\n",
       "      <td>0</td>\n",
       "      <td>0</td>\n",
       "      <td>0</td>\n",
       "      <td>0</td>\n",
       "      <td>0</td>\n",
       "      <td>0</td>\n",
       "      <td>0</td>\n",
       "      <td>0</td>\n",
       "      <td>0</td>\n",
       "      <td>0</td>\n",
       "      <td>0</td>\n",
       "      <td>0</td>\n",
       "      <td>1</td>\n",
       "      <td>0</td>\n",
       "      <td>0</td>\n",
       "      <td>2</td>\n",
       "    </tr>\n",
       "  </tbody>\n",
       "</table>\n",
       "</div>"
      ],
      "text/plain": [
       "   Age  Gender  Dryness in mouth. (Since 1 month)  \\\n",
       "0   21    Male                                  0   \n",
       "1   17  Female                                  0   \n",
       "2   21  Female                                  0   \n",
       "3   21    Male                                  0   \n",
       "4   19    Male                                  0   \n",
       "\n",
       "   Difficulty in breathing. (Since 1 month)  \\\n",
       "0                                         0   \n",
       "1                                         0   \n",
       "2                                         1   \n",
       "3                                         0   \n",
       "4                                         0   \n",
       "\n",
       "   Experience trembling. (Since 1 month)  \\\n",
       "0                                      0   \n",
       "1                                      0   \n",
       "2                                      0   \n",
       "3                                      0   \n",
       "4                                      0   \n",
       "\n",
       "   Worried about panic and make a fool of themselves. (Since 1 month)  \\\n",
       "0                                                  0                    \n",
       "1                                                  0                    \n",
       "2                                                  0                    \n",
       "3                                                  1                    \n",
       "4                                                  0                    \n",
       "\n",
       "   Close to panic. (Since 1 month)  \\\n",
       "0                                0   \n",
       "1                                0   \n",
       "2                                0   \n",
       "3                                0   \n",
       "4                                0   \n",
       "\n",
       "   Aware of the action of the heart in the absence of physical exertion. (Since 1 month)  \\\n",
       "0                                                  0                                       \n",
       "1                                                  0                                       \n",
       "2                                                  0                                       \n",
       "3                                                  0                                       \n",
       "4                                                  0                                       \n",
       "\n",
       "   Felt scared without any good reason. (Since 1 month)  \\\n",
       "0                                                  0      \n",
       "1                                                  0      \n",
       "2                                                  0      \n",
       "3                                                  0      \n",
       "4                                                  0      \n",
       "\n",
       "   Difficult to work up the initiative to do things. (Since 1 month)  \\\n",
       "0                                                  0                   \n",
       "1                                                  1                   \n",
       "2                                                  0                   \n",
       "3                                                  0                   \n",
       "4                                                  0                   \n",
       "\n",
       "   Couldn't experience the positive feeling. (Since 1 month)  \\\n",
       "0                                                  0           \n",
       "1                                                  0           \n",
       "2                                                  0           \n",
       "3                                                  0           \n",
       "4                                                  0           \n",
       "\n",
       "   Nothing to look forward. (Since 1 month)  \\\n",
       "0                                         0   \n",
       "1                                         0   \n",
       "2                                         0   \n",
       "3                                         0   \n",
       "4                                         0   \n",
       "\n",
       "   Felt down hearted and blue. (Since 1 month)  \\\n",
       "0                                            0   \n",
       "1                                            0   \n",
       "2                                            0   \n",
       "3                                            0   \n",
       "4                                            0   \n",
       "\n",
       "   Unable to become enthusiastic. (Since 1 month)  \\\n",
       "0                                               0   \n",
       "1                                               0   \n",
       "2                                               0   \n",
       "3                                               0   \n",
       "4                                               0   \n",
       "\n",
       "   Felt wasn't worth much as person. (Since 1 month)  \\\n",
       "0                                                  0   \n",
       "1                                                  0   \n",
       "2                                                  0   \n",
       "3                                                  0   \n",
       "4                                                  1   \n",
       "\n",
       "   Felt life was meaningless. (Since 1 month)  AScore  DScore  \n",
       "0                                           0       0       0  \n",
       "1                                           0       0       2  \n",
       "2                                           0       2       0  \n",
       "3                                           0       2       0  \n",
       "4                                           0       0       2  "
      ]
     },
     "execution_count": 340,
     "metadata": {},
     "output_type": "execute_result"
    }
   ],
   "source": [
    "data.head()"
   ]
  },
  {
   "cell_type": "code",
   "execution_count": 341,
   "id": "5802ce88",
   "metadata": {},
   "outputs": [
    {
     "data": {
      "text/plain": [
       "(999, 18)"
      ]
     },
     "execution_count": 341,
     "metadata": {},
     "output_type": "execute_result"
    }
   ],
   "source": [
    "data.shape"
   ]
  },
  {
   "cell_type": "code",
   "execution_count": 342,
   "id": "385231aa",
   "metadata": {},
   "outputs": [
    {
     "name": "stdout",
     "output_type": "stream",
     "text": [
      "<class 'pandas.core.frame.DataFrame'>\n",
      "RangeIndex: 999 entries, 0 to 998\n",
      "Data columns (total 18 columns):\n",
      " #   Column                                                                                 Non-Null Count  Dtype \n",
      "---  ------                                                                                 --------------  ----- \n",
      " 0   Age                                                                                    999 non-null    int64 \n",
      " 1   Gender                                                                                 999 non-null    object\n",
      " 2   Dryness in mouth. (Since 1 month)                                                      999 non-null    int64 \n",
      " 3   Difficulty in breathing. (Since 1 month)                                               999 non-null    int64 \n",
      " 4   Experience trembling. (Since 1 month)                                                  999 non-null    int64 \n",
      " 5   Worried about panic and make a fool of themselves. (Since 1 month)                     999 non-null    int64 \n",
      " 6   Close to panic. (Since 1 month)                                                        999 non-null    int64 \n",
      " 7   Aware of the action of the heart in the absence of physical exertion. (Since 1 month)  999 non-null    int64 \n",
      " 8   Felt scared without any good reason. (Since 1 month)                                   999 non-null    int64 \n",
      " 9   Difficult to work up the initiative to do things. (Since 1 month)                      999 non-null    int64 \n",
      " 10  Couldn't experience the positive feeling. (Since 1 month)                              999 non-null    int64 \n",
      " 11  Nothing to look forward. (Since 1 month)                                               999 non-null    int64 \n",
      " 12  Felt down hearted and blue. (Since 1 month)                                            999 non-null    int64 \n",
      " 13  Unable to become enthusiastic. (Since 1 month)                                         999 non-null    int64 \n",
      " 14  Felt wasn't worth much as person. (Since 1 month)                                      999 non-null    int64 \n",
      " 15  Felt life was meaningless. (Since 1 month)                                             999 non-null    int64 \n",
      " 16  AScore                                                                                 999 non-null    int64 \n",
      " 17  DScore                                                                                 999 non-null    int64 \n",
      "dtypes: int64(17), object(1)\n",
      "memory usage: 140.6+ KB\n"
     ]
    }
   ],
   "source": [
    "data.info()"
   ]
  },
  {
   "cell_type": "code",
   "execution_count": 343,
   "id": "f559f203",
   "metadata": {},
   "outputs": [
    {
     "data": {
      "text/html": [
       "<div>\n",
       "<style scoped>\n",
       "    .dataframe tbody tr th:only-of-type {\n",
       "        vertical-align: middle;\n",
       "    }\n",
       "\n",
       "    .dataframe tbody tr th {\n",
       "        vertical-align: top;\n",
       "    }\n",
       "\n",
       "    .dataframe thead th {\n",
       "        text-align: right;\n",
       "    }\n",
       "</style>\n",
       "<table border=\"1\" class=\"dataframe\">\n",
       "  <thead>\n",
       "    <tr style=\"text-align: right;\">\n",
       "      <th></th>\n",
       "      <th>Age</th>\n",
       "      <th>Gender</th>\n",
       "      <th>Dryness in mouth. (Since 1 month)</th>\n",
       "      <th>Difficulty in breathing. (Since 1 month)</th>\n",
       "      <th>Experience trembling. (Since 1 month)</th>\n",
       "      <th>Worried about panic and make a fool of themselves. (Since 1 month)</th>\n",
       "      <th>Close to panic. (Since 1 month)</th>\n",
       "      <th>Aware of the action of the heart in the absence of physical exertion. (Since 1 month)</th>\n",
       "      <th>Felt scared without any good reason. (Since 1 month)</th>\n",
       "      <th>Difficult to work up the initiative to do things. (Since 1 month)</th>\n",
       "      <th>Couldn't experience the positive feeling. (Since 1 month)</th>\n",
       "      <th>Nothing to look forward. (Since 1 month)</th>\n",
       "      <th>Felt down hearted and blue. (Since 1 month)</th>\n",
       "      <th>Unable to become enthusiastic. (Since 1 month)</th>\n",
       "      <th>Felt wasn't worth much as person. (Since 1 month)</th>\n",
       "      <th>Felt life was meaningless. (Since 1 month)</th>\n",
       "      <th>AScore</th>\n",
       "      <th>DScore</th>\n",
       "    </tr>\n",
       "  </thead>\n",
       "  <tbody>\n",
       "    <tr>\n",
       "      <th>0</th>\n",
       "      <td>21</td>\n",
       "      <td>Male</td>\n",
       "      <td>0</td>\n",
       "      <td>0</td>\n",
       "      <td>0</td>\n",
       "      <td>0</td>\n",
       "      <td>0</td>\n",
       "      <td>0</td>\n",
       "      <td>0</td>\n",
       "      <td>0</td>\n",
       "      <td>0</td>\n",
       "      <td>0</td>\n",
       "      <td>0</td>\n",
       "      <td>0</td>\n",
       "      <td>0</td>\n",
       "      <td>0</td>\n",
       "      <td>0</td>\n",
       "      <td>0</td>\n",
       "    </tr>\n",
       "    <tr>\n",
       "      <th>1</th>\n",
       "      <td>17</td>\n",
       "      <td>Female</td>\n",
       "      <td>0</td>\n",
       "      <td>0</td>\n",
       "      <td>0</td>\n",
       "      <td>0</td>\n",
       "      <td>0</td>\n",
       "      <td>0</td>\n",
       "      <td>0</td>\n",
       "      <td>1</td>\n",
       "      <td>0</td>\n",
       "      <td>0</td>\n",
       "      <td>0</td>\n",
       "      <td>0</td>\n",
       "      <td>0</td>\n",
       "      <td>0</td>\n",
       "      <td>0</td>\n",
       "      <td>2</td>\n",
       "    </tr>\n",
       "    <tr>\n",
       "      <th>2</th>\n",
       "      <td>21</td>\n",
       "      <td>Female</td>\n",
       "      <td>0</td>\n",
       "      <td>1</td>\n",
       "      <td>0</td>\n",
       "      <td>0</td>\n",
       "      <td>0</td>\n",
       "      <td>0</td>\n",
       "      <td>0</td>\n",
       "      <td>0</td>\n",
       "      <td>0</td>\n",
       "      <td>0</td>\n",
       "      <td>0</td>\n",
       "      <td>0</td>\n",
       "      <td>0</td>\n",
       "      <td>0</td>\n",
       "      <td>2</td>\n",
       "      <td>0</td>\n",
       "    </tr>\n",
       "    <tr>\n",
       "      <th>3</th>\n",
       "      <td>21</td>\n",
       "      <td>Male</td>\n",
       "      <td>0</td>\n",
       "      <td>0</td>\n",
       "      <td>0</td>\n",
       "      <td>1</td>\n",
       "      <td>0</td>\n",
       "      <td>0</td>\n",
       "      <td>0</td>\n",
       "      <td>0</td>\n",
       "      <td>0</td>\n",
       "      <td>0</td>\n",
       "      <td>0</td>\n",
       "      <td>0</td>\n",
       "      <td>0</td>\n",
       "      <td>0</td>\n",
       "      <td>2</td>\n",
       "      <td>0</td>\n",
       "    </tr>\n",
       "    <tr>\n",
       "      <th>4</th>\n",
       "      <td>19</td>\n",
       "      <td>Male</td>\n",
       "      <td>0</td>\n",
       "      <td>0</td>\n",
       "      <td>0</td>\n",
       "      <td>0</td>\n",
       "      <td>0</td>\n",
       "      <td>0</td>\n",
       "      <td>0</td>\n",
       "      <td>0</td>\n",
       "      <td>0</td>\n",
       "      <td>0</td>\n",
       "      <td>0</td>\n",
       "      <td>0</td>\n",
       "      <td>1</td>\n",
       "      <td>0</td>\n",
       "      <td>0</td>\n",
       "      <td>2</td>\n",
       "    </tr>\n",
       "    <tr>\n",
       "      <th>...</th>\n",
       "      <td>...</td>\n",
       "      <td>...</td>\n",
       "      <td>...</td>\n",
       "      <td>...</td>\n",
       "      <td>...</td>\n",
       "      <td>...</td>\n",
       "      <td>...</td>\n",
       "      <td>...</td>\n",
       "      <td>...</td>\n",
       "      <td>...</td>\n",
       "      <td>...</td>\n",
       "      <td>...</td>\n",
       "      <td>...</td>\n",
       "      <td>...</td>\n",
       "      <td>...</td>\n",
       "      <td>...</td>\n",
       "      <td>...</td>\n",
       "      <td>...</td>\n",
       "    </tr>\n",
       "    <tr>\n",
       "      <th>994</th>\n",
       "      <td>20</td>\n",
       "      <td>Female</td>\n",
       "      <td>2</td>\n",
       "      <td>0</td>\n",
       "      <td>1</td>\n",
       "      <td>3</td>\n",
       "      <td>3</td>\n",
       "      <td>2</td>\n",
       "      <td>3</td>\n",
       "      <td>0</td>\n",
       "      <td>0</td>\n",
       "      <td>1</td>\n",
       "      <td>0</td>\n",
       "      <td>1</td>\n",
       "      <td>1</td>\n",
       "      <td>3</td>\n",
       "      <td>28</td>\n",
       "      <td>12</td>\n",
       "    </tr>\n",
       "    <tr>\n",
       "      <th>995</th>\n",
       "      <td>23</td>\n",
       "      <td>Male</td>\n",
       "      <td>0</td>\n",
       "      <td>0</td>\n",
       "      <td>1</td>\n",
       "      <td>0</td>\n",
       "      <td>2</td>\n",
       "      <td>3</td>\n",
       "      <td>0</td>\n",
       "      <td>2</td>\n",
       "      <td>2</td>\n",
       "      <td>2</td>\n",
       "      <td>1</td>\n",
       "      <td>0</td>\n",
       "      <td>1</td>\n",
       "      <td>3</td>\n",
       "      <td>12</td>\n",
       "      <td>22</td>\n",
       "    </tr>\n",
       "    <tr>\n",
       "      <th>996</th>\n",
       "      <td>21</td>\n",
       "      <td>Male</td>\n",
       "      <td>0</td>\n",
       "      <td>1</td>\n",
       "      <td>3</td>\n",
       "      <td>3</td>\n",
       "      <td>2</td>\n",
       "      <td>2</td>\n",
       "      <td>0</td>\n",
       "      <td>1</td>\n",
       "      <td>3</td>\n",
       "      <td>1</td>\n",
       "      <td>0</td>\n",
       "      <td>0</td>\n",
       "      <td>1</td>\n",
       "      <td>1</td>\n",
       "      <td>22</td>\n",
       "      <td>14</td>\n",
       "    </tr>\n",
       "    <tr>\n",
       "      <th>997</th>\n",
       "      <td>21</td>\n",
       "      <td>Male</td>\n",
       "      <td>1</td>\n",
       "      <td>0</td>\n",
       "      <td>3</td>\n",
       "      <td>0</td>\n",
       "      <td>2</td>\n",
       "      <td>2</td>\n",
       "      <td>3</td>\n",
       "      <td>0</td>\n",
       "      <td>1</td>\n",
       "      <td>3</td>\n",
       "      <td>3</td>\n",
       "      <td>0</td>\n",
       "      <td>0</td>\n",
       "      <td>2</td>\n",
       "      <td>22</td>\n",
       "      <td>18</td>\n",
       "    </tr>\n",
       "    <tr>\n",
       "      <th>998</th>\n",
       "      <td>23</td>\n",
       "      <td>Female</td>\n",
       "      <td>2</td>\n",
       "      <td>1</td>\n",
       "      <td>3</td>\n",
       "      <td>0</td>\n",
       "      <td>2</td>\n",
       "      <td>3</td>\n",
       "      <td>3</td>\n",
       "      <td>0</td>\n",
       "      <td>1</td>\n",
       "      <td>3</td>\n",
       "      <td>3</td>\n",
       "      <td>3</td>\n",
       "      <td>1</td>\n",
       "      <td>1</td>\n",
       "      <td>28</td>\n",
       "      <td>24</td>\n",
       "    </tr>\n",
       "  </tbody>\n",
       "</table>\n",
       "<p>999 rows × 18 columns</p>\n",
       "</div>"
      ],
      "text/plain": [
       "     Age  Gender  Dryness in mouth. (Since 1 month)  \\\n",
       "0     21    Male                                  0   \n",
       "1     17  Female                                  0   \n",
       "2     21  Female                                  0   \n",
       "3     21    Male                                  0   \n",
       "4     19    Male                                  0   \n",
       "..   ...     ...                                ...   \n",
       "994   20  Female                                  2   \n",
       "995   23    Male                                  0   \n",
       "996   21    Male                                  0   \n",
       "997   21    Male                                  1   \n",
       "998   23  Female                                  2   \n",
       "\n",
       "     Difficulty in breathing. (Since 1 month)  \\\n",
       "0                                           0   \n",
       "1                                           0   \n",
       "2                                           1   \n",
       "3                                           0   \n",
       "4                                           0   \n",
       "..                                        ...   \n",
       "994                                         0   \n",
       "995                                         0   \n",
       "996                                         1   \n",
       "997                                         0   \n",
       "998                                         1   \n",
       "\n",
       "     Experience trembling. (Since 1 month)  \\\n",
       "0                                        0   \n",
       "1                                        0   \n",
       "2                                        0   \n",
       "3                                        0   \n",
       "4                                        0   \n",
       "..                                     ...   \n",
       "994                                      1   \n",
       "995                                      1   \n",
       "996                                      3   \n",
       "997                                      3   \n",
       "998                                      3   \n",
       "\n",
       "     Worried about panic and make a fool of themselves. (Since 1 month)  \\\n",
       "0                                                    0                    \n",
       "1                                                    0                    \n",
       "2                                                    0                    \n",
       "3                                                    1                    \n",
       "4                                                    0                    \n",
       "..                                                 ...                    \n",
       "994                                                  3                    \n",
       "995                                                  0                    \n",
       "996                                                  3                    \n",
       "997                                                  0                    \n",
       "998                                                  0                    \n",
       "\n",
       "     Close to panic. (Since 1 month)  \\\n",
       "0                                  0   \n",
       "1                                  0   \n",
       "2                                  0   \n",
       "3                                  0   \n",
       "4                                  0   \n",
       "..                               ...   \n",
       "994                                3   \n",
       "995                                2   \n",
       "996                                2   \n",
       "997                                2   \n",
       "998                                2   \n",
       "\n",
       "     Aware of the action of the heart in the absence of physical exertion. (Since 1 month)  \\\n",
       "0                                                    0                                       \n",
       "1                                                    0                                       \n",
       "2                                                    0                                       \n",
       "3                                                    0                                       \n",
       "4                                                    0                                       \n",
       "..                                                 ...                                       \n",
       "994                                                  2                                       \n",
       "995                                                  3                                       \n",
       "996                                                  2                                       \n",
       "997                                                  2                                       \n",
       "998                                                  3                                       \n",
       "\n",
       "     Felt scared without any good reason. (Since 1 month)  \\\n",
       "0                                                    0      \n",
       "1                                                    0      \n",
       "2                                                    0      \n",
       "3                                                    0      \n",
       "4                                                    0      \n",
       "..                                                 ...      \n",
       "994                                                  3      \n",
       "995                                                  0      \n",
       "996                                                  0      \n",
       "997                                                  3      \n",
       "998                                                  3      \n",
       "\n",
       "     Difficult to work up the initiative to do things. (Since 1 month)  \\\n",
       "0                                                    0                   \n",
       "1                                                    1                   \n",
       "2                                                    0                   \n",
       "3                                                    0                   \n",
       "4                                                    0                   \n",
       "..                                                 ...                   \n",
       "994                                                  0                   \n",
       "995                                                  2                   \n",
       "996                                                  1                   \n",
       "997                                                  0                   \n",
       "998                                                  0                   \n",
       "\n",
       "     Couldn't experience the positive feeling. (Since 1 month)  \\\n",
       "0                                                    0           \n",
       "1                                                    0           \n",
       "2                                                    0           \n",
       "3                                                    0           \n",
       "4                                                    0           \n",
       "..                                                 ...           \n",
       "994                                                  0           \n",
       "995                                                  2           \n",
       "996                                                  3           \n",
       "997                                                  1           \n",
       "998                                                  1           \n",
       "\n",
       "     Nothing to look forward. (Since 1 month)  \\\n",
       "0                                           0   \n",
       "1                                           0   \n",
       "2                                           0   \n",
       "3                                           0   \n",
       "4                                           0   \n",
       "..                                        ...   \n",
       "994                                         1   \n",
       "995                                         2   \n",
       "996                                         1   \n",
       "997                                         3   \n",
       "998                                         3   \n",
       "\n",
       "     Felt down hearted and blue. (Since 1 month)  \\\n",
       "0                                              0   \n",
       "1                                              0   \n",
       "2                                              0   \n",
       "3                                              0   \n",
       "4                                              0   \n",
       "..                                           ...   \n",
       "994                                            0   \n",
       "995                                            1   \n",
       "996                                            0   \n",
       "997                                            3   \n",
       "998                                            3   \n",
       "\n",
       "     Unable to become enthusiastic. (Since 1 month)  \\\n",
       "0                                                 0   \n",
       "1                                                 0   \n",
       "2                                                 0   \n",
       "3                                                 0   \n",
       "4                                                 0   \n",
       "..                                              ...   \n",
       "994                                               1   \n",
       "995                                               0   \n",
       "996                                               0   \n",
       "997                                               0   \n",
       "998                                               3   \n",
       "\n",
       "     Felt wasn't worth much as person. (Since 1 month)  \\\n",
       "0                                                    0   \n",
       "1                                                    0   \n",
       "2                                                    0   \n",
       "3                                                    0   \n",
       "4                                                    1   \n",
       "..                                                 ...   \n",
       "994                                                  1   \n",
       "995                                                  1   \n",
       "996                                                  1   \n",
       "997                                                  0   \n",
       "998                                                  1   \n",
       "\n",
       "     Felt life was meaningless. (Since 1 month)  AScore  DScore  \n",
       "0                                             0       0       0  \n",
       "1                                             0       0       2  \n",
       "2                                             0       2       0  \n",
       "3                                             0       2       0  \n",
       "4                                             0       0       2  \n",
       "..                                          ...     ...     ...  \n",
       "994                                           3      28      12  \n",
       "995                                           3      12      22  \n",
       "996                                           1      22      14  \n",
       "997                                           2      22      18  \n",
       "998                                           1      28      24  \n",
       "\n",
       "[999 rows x 18 columns]"
      ]
     },
     "execution_count": 343,
     "metadata": {},
     "output_type": "execute_result"
    }
   ],
   "source": [
    "df = data[['Age', 'Gender','Dryness in mouth. (Since 1 month)', 'Difficulty in breathing. (Since 1 month)', 'Experience trembling. (Since 1 month)',\n",
    "       'Worried about panic and make a fool of themselves. (Since 1 month)', 'Close to panic. (Since 1 month)', 'Aware of the action of the heart in the absence of physical exertion. (Since 1 month)', 'Felt scared without any good reason. (Since 1 month)',\n",
    "       'Difficult to work up the initiative to do things. (Since 1 month)',\"Couldn't experience the positive feeling. (Since 1 month)\",'Nothing to look forward. (Since 1 month)','Felt down hearted and blue. (Since 1 month)','Unable to become enthusiastic. (Since 1 month)',\"Felt wasn't worth much as person. (Since 1 month)\",'Felt life was meaningless. (Since 1 month)','AScore','DScore']]\n",
    "df"
   ]
  },
  {
   "cell_type": "code",
   "execution_count": 344,
   "id": "6a5187dc",
   "metadata": {},
   "outputs": [
    {
     "data": {
      "text/html": [
       "<div>\n",
       "<style scoped>\n",
       "    .dataframe tbody tr th:only-of-type {\n",
       "        vertical-align: middle;\n",
       "    }\n",
       "\n",
       "    .dataframe tbody tr th {\n",
       "        vertical-align: top;\n",
       "    }\n",
       "\n",
       "    .dataframe thead th {\n",
       "        text-align: right;\n",
       "    }\n",
       "</style>\n",
       "<table border=\"1\" class=\"dataframe\">\n",
       "  <thead>\n",
       "    <tr style=\"text-align: right;\">\n",
       "      <th></th>\n",
       "      <th>Age</th>\n",
       "      <th>Gender</th>\n",
       "      <th>One</th>\n",
       "      <th>Two</th>\n",
       "      <th>Three</th>\n",
       "      <th>Four</th>\n",
       "      <th>Five</th>\n",
       "      <th>Six</th>\n",
       "      <th>Seven</th>\n",
       "      <th>Eight</th>\n",
       "      <th>Nine</th>\n",
       "      <th>Ten</th>\n",
       "      <th>Eleven</th>\n",
       "      <th>Twelve</th>\n",
       "      <th>Thirteen</th>\n",
       "      <th>Fourteen</th>\n",
       "      <th>AScore</th>\n",
       "      <th>DScore</th>\n",
       "    </tr>\n",
       "  </thead>\n",
       "  <tbody>\n",
       "    <tr>\n",
       "      <th>0</th>\n",
       "      <td>21</td>\n",
       "      <td>Male</td>\n",
       "      <td>0</td>\n",
       "      <td>0</td>\n",
       "      <td>0</td>\n",
       "      <td>0</td>\n",
       "      <td>0</td>\n",
       "      <td>0</td>\n",
       "      <td>0</td>\n",
       "      <td>0</td>\n",
       "      <td>0</td>\n",
       "      <td>0</td>\n",
       "      <td>0</td>\n",
       "      <td>0</td>\n",
       "      <td>0</td>\n",
       "      <td>0</td>\n",
       "      <td>0</td>\n",
       "      <td>0</td>\n",
       "    </tr>\n",
       "    <tr>\n",
       "      <th>1</th>\n",
       "      <td>17</td>\n",
       "      <td>Female</td>\n",
       "      <td>0</td>\n",
       "      <td>0</td>\n",
       "      <td>0</td>\n",
       "      <td>0</td>\n",
       "      <td>0</td>\n",
       "      <td>0</td>\n",
       "      <td>0</td>\n",
       "      <td>1</td>\n",
       "      <td>0</td>\n",
       "      <td>0</td>\n",
       "      <td>0</td>\n",
       "      <td>0</td>\n",
       "      <td>0</td>\n",
       "      <td>0</td>\n",
       "      <td>0</td>\n",
       "      <td>2</td>\n",
       "    </tr>\n",
       "    <tr>\n",
       "      <th>2</th>\n",
       "      <td>21</td>\n",
       "      <td>Female</td>\n",
       "      <td>0</td>\n",
       "      <td>1</td>\n",
       "      <td>0</td>\n",
       "      <td>0</td>\n",
       "      <td>0</td>\n",
       "      <td>0</td>\n",
       "      <td>0</td>\n",
       "      <td>0</td>\n",
       "      <td>0</td>\n",
       "      <td>0</td>\n",
       "      <td>0</td>\n",
       "      <td>0</td>\n",
       "      <td>0</td>\n",
       "      <td>0</td>\n",
       "      <td>2</td>\n",
       "      <td>0</td>\n",
       "    </tr>\n",
       "    <tr>\n",
       "      <th>3</th>\n",
       "      <td>21</td>\n",
       "      <td>Male</td>\n",
       "      <td>0</td>\n",
       "      <td>0</td>\n",
       "      <td>0</td>\n",
       "      <td>1</td>\n",
       "      <td>0</td>\n",
       "      <td>0</td>\n",
       "      <td>0</td>\n",
       "      <td>0</td>\n",
       "      <td>0</td>\n",
       "      <td>0</td>\n",
       "      <td>0</td>\n",
       "      <td>0</td>\n",
       "      <td>0</td>\n",
       "      <td>0</td>\n",
       "      <td>2</td>\n",
       "      <td>0</td>\n",
       "    </tr>\n",
       "    <tr>\n",
       "      <th>4</th>\n",
       "      <td>19</td>\n",
       "      <td>Male</td>\n",
       "      <td>0</td>\n",
       "      <td>0</td>\n",
       "      <td>0</td>\n",
       "      <td>0</td>\n",
       "      <td>0</td>\n",
       "      <td>0</td>\n",
       "      <td>0</td>\n",
       "      <td>0</td>\n",
       "      <td>0</td>\n",
       "      <td>0</td>\n",
       "      <td>0</td>\n",
       "      <td>0</td>\n",
       "      <td>1</td>\n",
       "      <td>0</td>\n",
       "      <td>0</td>\n",
       "      <td>2</td>\n",
       "    </tr>\n",
       "    <tr>\n",
       "      <th>...</th>\n",
       "      <td>...</td>\n",
       "      <td>...</td>\n",
       "      <td>...</td>\n",
       "      <td>...</td>\n",
       "      <td>...</td>\n",
       "      <td>...</td>\n",
       "      <td>...</td>\n",
       "      <td>...</td>\n",
       "      <td>...</td>\n",
       "      <td>...</td>\n",
       "      <td>...</td>\n",
       "      <td>...</td>\n",
       "      <td>...</td>\n",
       "      <td>...</td>\n",
       "      <td>...</td>\n",
       "      <td>...</td>\n",
       "      <td>...</td>\n",
       "      <td>...</td>\n",
       "    </tr>\n",
       "    <tr>\n",
       "      <th>994</th>\n",
       "      <td>20</td>\n",
       "      <td>Female</td>\n",
       "      <td>2</td>\n",
       "      <td>0</td>\n",
       "      <td>1</td>\n",
       "      <td>3</td>\n",
       "      <td>3</td>\n",
       "      <td>2</td>\n",
       "      <td>3</td>\n",
       "      <td>0</td>\n",
       "      <td>0</td>\n",
       "      <td>1</td>\n",
       "      <td>0</td>\n",
       "      <td>1</td>\n",
       "      <td>1</td>\n",
       "      <td>3</td>\n",
       "      <td>28</td>\n",
       "      <td>12</td>\n",
       "    </tr>\n",
       "    <tr>\n",
       "      <th>995</th>\n",
       "      <td>23</td>\n",
       "      <td>Male</td>\n",
       "      <td>0</td>\n",
       "      <td>0</td>\n",
       "      <td>1</td>\n",
       "      <td>0</td>\n",
       "      <td>2</td>\n",
       "      <td>3</td>\n",
       "      <td>0</td>\n",
       "      <td>2</td>\n",
       "      <td>2</td>\n",
       "      <td>2</td>\n",
       "      <td>1</td>\n",
       "      <td>0</td>\n",
       "      <td>1</td>\n",
       "      <td>3</td>\n",
       "      <td>12</td>\n",
       "      <td>22</td>\n",
       "    </tr>\n",
       "    <tr>\n",
       "      <th>996</th>\n",
       "      <td>21</td>\n",
       "      <td>Male</td>\n",
       "      <td>0</td>\n",
       "      <td>1</td>\n",
       "      <td>3</td>\n",
       "      <td>3</td>\n",
       "      <td>2</td>\n",
       "      <td>2</td>\n",
       "      <td>0</td>\n",
       "      <td>1</td>\n",
       "      <td>3</td>\n",
       "      <td>1</td>\n",
       "      <td>0</td>\n",
       "      <td>0</td>\n",
       "      <td>1</td>\n",
       "      <td>1</td>\n",
       "      <td>22</td>\n",
       "      <td>14</td>\n",
       "    </tr>\n",
       "    <tr>\n",
       "      <th>997</th>\n",
       "      <td>21</td>\n",
       "      <td>Male</td>\n",
       "      <td>1</td>\n",
       "      <td>0</td>\n",
       "      <td>3</td>\n",
       "      <td>0</td>\n",
       "      <td>2</td>\n",
       "      <td>2</td>\n",
       "      <td>3</td>\n",
       "      <td>0</td>\n",
       "      <td>1</td>\n",
       "      <td>3</td>\n",
       "      <td>3</td>\n",
       "      <td>0</td>\n",
       "      <td>0</td>\n",
       "      <td>2</td>\n",
       "      <td>22</td>\n",
       "      <td>18</td>\n",
       "    </tr>\n",
       "    <tr>\n",
       "      <th>998</th>\n",
       "      <td>23</td>\n",
       "      <td>Female</td>\n",
       "      <td>2</td>\n",
       "      <td>1</td>\n",
       "      <td>3</td>\n",
       "      <td>0</td>\n",
       "      <td>2</td>\n",
       "      <td>3</td>\n",
       "      <td>3</td>\n",
       "      <td>0</td>\n",
       "      <td>1</td>\n",
       "      <td>3</td>\n",
       "      <td>3</td>\n",
       "      <td>3</td>\n",
       "      <td>1</td>\n",
       "      <td>1</td>\n",
       "      <td>28</td>\n",
       "      <td>24</td>\n",
       "    </tr>\n",
       "  </tbody>\n",
       "</table>\n",
       "<p>999 rows × 18 columns</p>\n",
       "</div>"
      ],
      "text/plain": [
       "     Age  Gender  One  Two  Three  Four  Five  Six  Seven  Eight  Nine  Ten  \\\n",
       "0     21    Male    0    0      0     0     0    0      0      0     0    0   \n",
       "1     17  Female    0    0      0     0     0    0      0      1     0    0   \n",
       "2     21  Female    0    1      0     0     0    0      0      0     0    0   \n",
       "3     21    Male    0    0      0     1     0    0      0      0     0    0   \n",
       "4     19    Male    0    0      0     0     0    0      0      0     0    0   \n",
       "..   ...     ...  ...  ...    ...   ...   ...  ...    ...    ...   ...  ...   \n",
       "994   20  Female    2    0      1     3     3    2      3      0     0    1   \n",
       "995   23    Male    0    0      1     0     2    3      0      2     2    2   \n",
       "996   21    Male    0    1      3     3     2    2      0      1     3    1   \n",
       "997   21    Male    1    0      3     0     2    2      3      0     1    3   \n",
       "998   23  Female    2    1      3     0     2    3      3      0     1    3   \n",
       "\n",
       "     Eleven  Twelve  Thirteen  Fourteen  AScore  DScore  \n",
       "0         0       0         0         0       0       0  \n",
       "1         0       0         0         0       0       2  \n",
       "2         0       0         0         0       2       0  \n",
       "3         0       0         0         0       2       0  \n",
       "4         0       0         1         0       0       2  \n",
       "..      ...     ...       ...       ...     ...     ...  \n",
       "994       0       1         1         3      28      12  \n",
       "995       1       0         1         3      12      22  \n",
       "996       0       0         1         1      22      14  \n",
       "997       3       0         0         2      22      18  \n",
       "998       3       3         1         1      28      24  \n",
       "\n",
       "[999 rows x 18 columns]"
      ]
     },
     "execution_count": 344,
     "metadata": {},
     "output_type": "execute_result"
    }
   ],
   "source": [
    "df=df.copy()\n",
    "df.rename(columns={'Dryness in mouth. (Since 1 month)':'One','Difficulty in breathing. (Since 1 month)':'Two','Experience trembling. (Since 1 month)':'Three','Worried about panic and make a fool of themselves. (Since 1 month)':'Four','Close to panic. (Since 1 month)':'Five','Aware of the action of the heart in the absence of physical exertion. (Since 1 month)':'Six','Felt scared without any good reason. (Since 1 month)':'Seven','Difficult to work up the initiative to do things. (Since 1 month)':'Eight',\"Couldn't experience the positive feeling. (Since 1 month)\":'Nine','Nothing to look forward. (Since 1 month)':'Ten','Felt down hearted and blue. (Since 1 month)':'Eleven','Unable to become enthusiastic. (Since 1 month)':'Twelve',\"Felt wasn't worth much as person. (Since 1 month)\":'Thirteen','Felt life was meaningless. (Since 1 month)':'Fourteen'},inplace=True)\n",
    "df"
   ]
  },
  {
   "cell_type": "code",
   "execution_count": 345,
   "id": "bd0df4c3",
   "metadata": {},
   "outputs": [],
   "source": [
    "from sklearn.preprocessing import LabelEncoder\n",
    "le = LabelEncoder()\n",
    "#df['Age'] = le.fit_transform(df['Age'])\n",
    "df['Gender'] = le.fit_transform(df['Gender'])\n",
    "#df['One'] = le.fit_transform(df['One'])\n",
    "#df['Two'] = le.fit_transform(df['Two'])\n",
    "#df['Three'] = le.fit_transform(df['Three'])\n",
    "#df['Four'] = le.fit_transform(df['Four'])\n",
    "#df['Five'] = le.fit_transform(df['Five'])\n",
    "#df['Six'] = le.fit_transform(df['Six'])\n",
    "#df['Seven'] = le.fit_transform(df['Seven'])\n",
    "#df['Eight'] = le.fit_transform(df['Eight'])\n",
    "#df['Nine'] = le.fit_transform(df[\"Nine\"])\n",
    "#df['Ten'] = le.fit_transform(df['Ten'])\n",
    "#df['Eleven'] = le.fit_transform(df['Eleven'])\n",
    "#df['Twelve'] = le.fit_transform(df['Twelve'])\n",
    "#df['Thirteen'] = le.fit_transform(df[\"Thirteen\"])\n",
    "#df['Fourteen'] = le.fit_transform(df['Fourteen'])"
   ]
  },
  {
   "cell_type": "code",
   "execution_count": 346,
   "id": "17e1c69b",
   "metadata": {},
   "outputs": [
    {
     "data": {
      "text/html": [
       "<div>\n",
       "<style scoped>\n",
       "    .dataframe tbody tr th:only-of-type {\n",
       "        vertical-align: middle;\n",
       "    }\n",
       "\n",
       "    .dataframe tbody tr th {\n",
       "        vertical-align: top;\n",
       "    }\n",
       "\n",
       "    .dataframe thead th {\n",
       "        text-align: right;\n",
       "    }\n",
       "</style>\n",
       "<table border=\"1\" class=\"dataframe\">\n",
       "  <thead>\n",
       "    <tr style=\"text-align: right;\">\n",
       "      <th></th>\n",
       "      <th>Age</th>\n",
       "      <th>Gender</th>\n",
       "      <th>One</th>\n",
       "      <th>Two</th>\n",
       "      <th>Three</th>\n",
       "      <th>Four</th>\n",
       "      <th>Five</th>\n",
       "      <th>Six</th>\n",
       "      <th>Seven</th>\n",
       "      <th>Eight</th>\n",
       "      <th>Nine</th>\n",
       "      <th>Ten</th>\n",
       "      <th>Eleven</th>\n",
       "      <th>Twelve</th>\n",
       "      <th>Thirteen</th>\n",
       "      <th>Fourteen</th>\n",
       "      <th>AScore</th>\n",
       "      <th>DScore</th>\n",
       "    </tr>\n",
       "  </thead>\n",
       "  <tbody>\n",
       "    <tr>\n",
       "      <th>0</th>\n",
       "      <td>21</td>\n",
       "      <td>1</td>\n",
       "      <td>0</td>\n",
       "      <td>0</td>\n",
       "      <td>0</td>\n",
       "      <td>0</td>\n",
       "      <td>0</td>\n",
       "      <td>0</td>\n",
       "      <td>0</td>\n",
       "      <td>0</td>\n",
       "      <td>0</td>\n",
       "      <td>0</td>\n",
       "      <td>0</td>\n",
       "      <td>0</td>\n",
       "      <td>0</td>\n",
       "      <td>0</td>\n",
       "      <td>0</td>\n",
       "      <td>0</td>\n",
       "    </tr>\n",
       "    <tr>\n",
       "      <th>1</th>\n",
       "      <td>17</td>\n",
       "      <td>0</td>\n",
       "      <td>0</td>\n",
       "      <td>0</td>\n",
       "      <td>0</td>\n",
       "      <td>0</td>\n",
       "      <td>0</td>\n",
       "      <td>0</td>\n",
       "      <td>0</td>\n",
       "      <td>1</td>\n",
       "      <td>0</td>\n",
       "      <td>0</td>\n",
       "      <td>0</td>\n",
       "      <td>0</td>\n",
       "      <td>0</td>\n",
       "      <td>0</td>\n",
       "      <td>0</td>\n",
       "      <td>2</td>\n",
       "    </tr>\n",
       "    <tr>\n",
       "      <th>2</th>\n",
       "      <td>21</td>\n",
       "      <td>0</td>\n",
       "      <td>0</td>\n",
       "      <td>1</td>\n",
       "      <td>0</td>\n",
       "      <td>0</td>\n",
       "      <td>0</td>\n",
       "      <td>0</td>\n",
       "      <td>0</td>\n",
       "      <td>0</td>\n",
       "      <td>0</td>\n",
       "      <td>0</td>\n",
       "      <td>0</td>\n",
       "      <td>0</td>\n",
       "      <td>0</td>\n",
       "      <td>0</td>\n",
       "      <td>2</td>\n",
       "      <td>0</td>\n",
       "    </tr>\n",
       "    <tr>\n",
       "      <th>3</th>\n",
       "      <td>21</td>\n",
       "      <td>1</td>\n",
       "      <td>0</td>\n",
       "      <td>0</td>\n",
       "      <td>0</td>\n",
       "      <td>1</td>\n",
       "      <td>0</td>\n",
       "      <td>0</td>\n",
       "      <td>0</td>\n",
       "      <td>0</td>\n",
       "      <td>0</td>\n",
       "      <td>0</td>\n",
       "      <td>0</td>\n",
       "      <td>0</td>\n",
       "      <td>0</td>\n",
       "      <td>0</td>\n",
       "      <td>2</td>\n",
       "      <td>0</td>\n",
       "    </tr>\n",
       "    <tr>\n",
       "      <th>4</th>\n",
       "      <td>19</td>\n",
       "      <td>1</td>\n",
       "      <td>0</td>\n",
       "      <td>0</td>\n",
       "      <td>0</td>\n",
       "      <td>0</td>\n",
       "      <td>0</td>\n",
       "      <td>0</td>\n",
       "      <td>0</td>\n",
       "      <td>0</td>\n",
       "      <td>0</td>\n",
       "      <td>0</td>\n",
       "      <td>0</td>\n",
       "      <td>0</td>\n",
       "      <td>1</td>\n",
       "      <td>0</td>\n",
       "      <td>0</td>\n",
       "      <td>2</td>\n",
       "    </tr>\n",
       "  </tbody>\n",
       "</table>\n",
       "</div>"
      ],
      "text/plain": [
       "   Age  Gender  One  Two  Three  Four  Five  Six  Seven  Eight  Nine  Ten  \\\n",
       "0   21       1    0    0      0     0     0    0      0      0     0    0   \n",
       "1   17       0    0    0      0     0     0    0      0      1     0    0   \n",
       "2   21       0    0    1      0     0     0    0      0      0     0    0   \n",
       "3   21       1    0    0      0     1     0    0      0      0     0    0   \n",
       "4   19       1    0    0      0     0     0    0      0      0     0    0   \n",
       "\n",
       "   Eleven  Twelve  Thirteen  Fourteen  AScore  DScore  \n",
       "0       0       0         0         0       0       0  \n",
       "1       0       0         0         0       0       2  \n",
       "2       0       0         0         0       2       0  \n",
       "3       0       0         0         0       2       0  \n",
       "4       0       0         1         0       0       2  "
      ]
     },
     "execution_count": 346,
     "metadata": {},
     "output_type": "execute_result"
    }
   ],
   "source": [
    "#df = df.reset_index()\n",
    "df.head()"
   ]
  },
  {
   "cell_type": "code",
   "execution_count": 347,
   "id": "510241a8",
   "metadata": {},
   "outputs": [],
   "source": [
    "from sklearn.linear_model import LogisticRegression\n",
    "from sklearn.ensemble import RandomForestClassifier\n",
    "from sklearn.svm import SVC\n",
    "from sklearn.tree import DecisionTreeClassifier\n",
    "from sklearn.neighbors import KNeighborsClassifier\n",
    "from sklearn.naive_bayes import GaussianNB\n",
    "import sklearn.metrics as metrics\n",
    "from sklearn.metrics import accuracy_score"
   ]
  },
  {
   "cell_type": "code",
   "execution_count": 348,
   "id": "5224feb0",
   "metadata": {},
   "outputs": [],
   "source": [
    "from sklearn.model_selection import train_test_split"
   ]
  },
  {
   "cell_type": "markdown",
   "id": "97ccfd15",
   "metadata": {},
   "source": [
    "# Anxiety"
   ]
  },
  {
   "cell_type": "code",
   "execution_count": 349,
   "id": "39a2e072",
   "metadata": {},
   "outputs": [],
   "source": [
    "x = df.drop(columns=['Eight','Nine','Ten','Eleven','Twelve','Thirteen','Fourteen','AScore','DScore'],axis=1)\n",
    "y = df['AScore']"
   ]
  },
  {
   "cell_type": "code",
   "execution_count": 350,
   "id": "28f08da3",
   "metadata": {},
   "outputs": [],
   "source": [
    "x_train,x_test,y_train,y_test = train_test_split(x,y,test_size=0.2,random_state=45)"
   ]
  },
  {
   "cell_type": "code",
   "execution_count": 351,
   "id": "3951d13d",
   "metadata": {},
   "outputs": [
    {
     "data": {
      "text/plain": [
       "(799, 9)"
      ]
     },
     "execution_count": 351,
     "metadata": {},
     "output_type": "execute_result"
    }
   ],
   "source": [
    "x_train.shape"
   ]
  },
  {
   "cell_type": "code",
   "execution_count": 352,
   "id": "c297b26d",
   "metadata": {},
   "outputs": [
    {
     "data": {
      "text/plain": [
       "(200, 9)"
      ]
     },
     "execution_count": 352,
     "metadata": {},
     "output_type": "execute_result"
    }
   ],
   "source": [
    "x_test.shape"
   ]
  },
  {
   "cell_type": "code",
   "execution_count": 353,
   "id": "10defd0b",
   "metadata": {
    "scrolled": true
   },
   "outputs": [
    {
     "name": "stderr",
     "output_type": "stream",
     "text": [
      "C:\\Users\\madhu\\anaconda3\\lib\\site-packages\\sklearn\\linear_model\\_logistic.py:814: ConvergenceWarning: lbfgs failed to converge (status=1):\n",
      "STOP: TOTAL NO. of ITERATIONS REACHED LIMIT.\n",
      "\n",
      "Increase the number of iterations (max_iter) or scale the data as shown in:\n",
      "    https://scikit-learn.org/stable/modules/preprocessing.html\n",
      "Please also refer to the documentation for alternative solver options:\n",
      "    https://scikit-learn.org/stable/modules/linear_model.html#logistic-regression\n",
      "  n_iter_i = _check_optimize_result(\n"
     ]
    },
    {
     "data": {
      "text/plain": [
       "0.32"
      ]
     },
     "execution_count": 353,
     "metadata": {},
     "output_type": "execute_result"
    }
   ],
   "source": [
    "model = LogisticRegression()\n",
    "model.fit(x_train, y_train)\n",
    "predicted_output = model.predict(x_test)\n",
    "score=accuracy_score(predicted_output,y_test)\n",
    "score"
   ]
  },
  {
   "cell_type": "code",
   "execution_count": 354,
   "id": "08113991",
   "metadata": {},
   "outputs": [
    {
     "data": {
      "text/plain": [
       "0.31"
      ]
     },
     "execution_count": 354,
     "metadata": {},
     "output_type": "execute_result"
    }
   ],
   "source": [
    "model2=RandomForestClassifier()\n",
    "model2.fit(x_train, y_train)\n",
    "preds=model2.predict(x_test)\n",
    "score2=accuracy_score(preds,y_test)\n",
    "score2"
   ]
  },
  {
   "cell_type": "code",
   "execution_count": 355,
   "id": "f2e49e03",
   "metadata": {},
   "outputs": [
    {
     "data": {
      "text/plain": [
       "0.25"
      ]
     },
     "execution_count": 355,
     "metadata": {},
     "output_type": "execute_result"
    }
   ],
   "source": [
    "model3=DecisionTreeClassifier()\n",
    "model3.fit(x_train, y_train)\n",
    "pred1=model3.predict(x_test)\n",
    "score3=accuracy_score(pred1,y_test)\n",
    "score3"
   ]
  },
  {
   "cell_type": "code",
   "execution_count": 356,
   "id": "2afd591a",
   "metadata": {},
   "outputs": [
    {
     "data": {
      "text/plain": [
       "0.33"
      ]
     },
     "execution_count": 356,
     "metadata": {},
     "output_type": "execute_result"
    }
   ],
   "source": [
    "model4=GaussianNB()\n",
    "model4.fit(x_train, y_train)\n",
    "pred2=model4.predict(x_test)\n",
    "score4=accuracy_score(pred2,y_test)\n",
    "score4"
   ]
  },
  {
   "cell_type": "code",
   "execution_count": 357,
   "id": "a96e7e74",
   "metadata": {},
   "outputs": [
    {
     "name": "stderr",
     "output_type": "stream",
     "text": [
      "C:\\Users\\madhu\\anaconda3\\lib\\site-packages\\sklearn\\neighbors\\_classification.py:228: FutureWarning: Unlike other reduction functions (e.g. `skew`, `kurtosis`), the default behavior of `mode` typically preserves the axis it acts along. In SciPy 1.11.0, this behavior will change: the default value of `keepdims` will become False, the `axis` over which the statistic is taken will be eliminated, and the value None will no longer be accepted. Set `keepdims` to True or False to avoid this warning.\n",
      "  mode, _ = stats.mode(_y[neigh_ind, k], axis=1)\n"
     ]
    },
    {
     "data": {
      "text/plain": [
       "0.22"
      ]
     },
     "execution_count": 357,
     "metadata": {},
     "output_type": "execute_result"
    }
   ],
   "source": [
    "model5=KNeighborsClassifier()\n",
    "model5.fit(x_train, y_train)\n",
    "pred3=model5.predict(x_test)\n",
    "score5=accuracy_score(pred3,y_test)\n",
    "score5"
   ]
  },
  {
   "cell_type": "code",
   "execution_count": 358,
   "id": "485b3163",
   "metadata": {},
   "outputs": [
    {
     "data": {
      "text/plain": [
       "0.125"
      ]
     },
     "execution_count": 358,
     "metadata": {},
     "output_type": "execute_result"
    }
   ],
   "source": [
    "model6=SVC()\n",
    "model6.fit(x_train, y_train)\n",
    "pred4=model6.predict(x_test)\n",
    "score6=accuracy_score(pred4,y_test)\n",
    "score6"
   ]
  },
  {
   "cell_type": "code",
   "execution_count": 374,
   "id": "1a23c7d0",
   "metadata": {},
   "outputs": [
    {
     "name": "stderr",
     "output_type": "stream",
     "text": [
      "C:\\Users\\madhu\\anaconda3\\lib\\site-packages\\sklearn\\base.py:450: UserWarning: X does not have valid feature names, but GaussianNB was fitted with feature names\n",
      "  warnings.warn(\n"
     ]
    },
    {
     "data": {
      "text/plain": [
       "array([22], dtype=int64)"
      ]
     },
     "execution_count": 374,
     "metadata": {},
     "output_type": "execute_result"
    }
   ],
   "source": [
    "input_new=[21,1,1,0,2,3,1,3,2]\n",
    "result=model4.predict([input_new])\n",
    "result"
   ]
  },
  {
   "cell_type": "code",
   "execution_count": 375,
   "id": "48799374",
   "metadata": {},
   "outputs": [
    {
     "name": "stderr",
     "output_type": "stream",
     "text": [
      "C:\\Users\\madhu\\anaconda3\\lib\\site-packages\\sklearn\\base.py:450: UserWarning: X does not have valid feature names, but DecisionTreeClassifier was fitted with feature names\n",
      "  warnings.warn(\n"
     ]
    },
    {
     "data": {
      "text/plain": [
       "array([26], dtype=int64)"
      ]
     },
     "execution_count": 375,
     "metadata": {},
     "output_type": "execute_result"
    }
   ],
   "source": [
    "input_new=[19,0,1,1,3,2,0,3,3]\n",
    "result1=model3.predict([input_new])\n",
    "result1"
   ]
  },
  {
   "cell_type": "code",
   "execution_count": 377,
   "id": "9165e271",
   "metadata": {},
   "outputs": [
    {
     "name": "stderr",
     "output_type": "stream",
     "text": [
      "C:\\Users\\madhu\\anaconda3\\lib\\site-packages\\sklearn\\base.py:450: UserWarning: X does not have valid feature names, but DecisionTreeClassifier was fitted with feature names\n",
      "  warnings.warn(\n"
     ]
    },
    {
     "data": {
      "text/plain": [
       "array([24], dtype=int64)"
      ]
     },
     "execution_count": 377,
     "metadata": {},
     "output_type": "execute_result"
    }
   ],
   "source": [
    "input_new=[20,1,1,2,3,2,0,1,2]\n",
    "result2=model3.predict([input_new])\n",
    "result2"
   ]
  },
  {
   "cell_type": "code",
   "execution_count": 382,
   "id": "9d26100f",
   "metadata": {
    "scrolled": true
   },
   "outputs": [
    {
     "name": "stdout",
     "output_type": "stream",
     "text": [
      "Precision: 0.3333333333333333\n"
     ]
    }
   ],
   "source": [
    "from sklearn.metrics import precision_score\n",
    "\n",
    "# True labels\n",
    "y_true = [24, 26, 22]\n",
    "\n",
    "# Predicted labels\n",
    "y_pred = [22, 26, 24]\n",
    "\n",
    "# Calculate precision\n",
    "precision = precision_score(y_true, y_pred, average='micro')  # Choose an appropriate average setting\n",
    "\n",
    "# Print the precision\n",
    "print('Precision:', precision)\n"
   ]
  },
  {
   "cell_type": "markdown",
   "id": "5e36a5b9",
   "metadata": {},
   "source": [
    "# Depression"
   ]
  },
  {
   "cell_type": "code",
   "execution_count": 383,
   "id": "21b5fdf1",
   "metadata": {},
   "outputs": [],
   "source": [
    "u = df.drop(columns=['One','Two','Three','Four','Five','Six','Seven','AScore','DScore'],axis=1)\n",
    "v = df['DScore']"
   ]
  },
  {
   "cell_type": "code",
   "execution_count": 384,
   "id": "85a01feb",
   "metadata": {},
   "outputs": [],
   "source": [
    "u_train,u_test,v_train,v_test = train_test_split(u,v,test_size=0.2,random_state=0)"
   ]
  },
  {
   "cell_type": "code",
   "execution_count": 385,
   "id": "b7fcb277",
   "metadata": {},
   "outputs": [
    {
     "data": {
      "text/plain": [
       "(799, 9)"
      ]
     },
     "execution_count": 385,
     "metadata": {},
     "output_type": "execute_result"
    }
   ],
   "source": [
    "u_train.shape"
   ]
  },
  {
   "cell_type": "code",
   "execution_count": 386,
   "id": "94aad7e3",
   "metadata": {},
   "outputs": [
    {
     "data": {
      "text/plain": [
       "(200, 9)"
      ]
     },
     "execution_count": 386,
     "metadata": {},
     "output_type": "execute_result"
    }
   ],
   "source": [
    "u_test.shape"
   ]
  },
  {
   "cell_type": "code",
   "execution_count": 387,
   "id": "fd46abf3",
   "metadata": {},
   "outputs": [
    {
     "name": "stderr",
     "output_type": "stream",
     "text": [
      "C:\\Users\\madhu\\anaconda3\\lib\\site-packages\\sklearn\\linear_model\\_logistic.py:814: ConvergenceWarning: lbfgs failed to converge (status=1):\n",
      "STOP: TOTAL NO. of ITERATIONS REACHED LIMIT.\n",
      "\n",
      "Increase the number of iterations (max_iter) or scale the data as shown in:\n",
      "    https://scikit-learn.org/stable/modules/preprocessing.html\n",
      "Please also refer to the documentation for alternative solver options:\n",
      "    https://scikit-learn.org/stable/modules/linear_model.html#logistic-regression\n",
      "  n_iter_i = _check_optimize_result(\n"
     ]
    },
    {
     "data": {
      "text/plain": [
       "0.29"
      ]
     },
     "execution_count": 387,
     "metadata": {},
     "output_type": "execute_result"
    }
   ],
   "source": [
    "d_model = LogisticRegression()\n",
    "d_model.fit(u_train, v_train)\n",
    "d_predicted_output = d_model.predict(u_test)\n",
    "d_score=accuracy_score(d_predicted_output,v_test)\n",
    "d_score"
   ]
  },
  {
   "cell_type": "code",
   "execution_count": 388,
   "id": "e57bb460",
   "metadata": {},
   "outputs": [
    {
     "data": {
      "text/plain": [
       "0.33"
      ]
     },
     "execution_count": 388,
     "metadata": {},
     "output_type": "execute_result"
    }
   ],
   "source": [
    "d_model2=RandomForestClassifier()\n",
    "d_model2.fit(u_train, v_train)\n",
    "d_preds=d_model2.predict(u_test)\n",
    "d_score2=accuracy_score(d_preds,v_test)\n",
    "d_score2"
   ]
  },
  {
   "cell_type": "code",
   "execution_count": 389,
   "id": "53b6c517",
   "metadata": {},
   "outputs": [
    {
     "data": {
      "text/plain": [
       "0.285"
      ]
     },
     "execution_count": 389,
     "metadata": {},
     "output_type": "execute_result"
    }
   ],
   "source": [
    "d_model3=DecisionTreeClassifier()\n",
    "d_model3.fit(u_train, v_train)\n",
    "d_pred1=d_model3.predict(u_test)\n",
    "d_score3=accuracy_score(d_pred1,v_test)\n",
    "d_score3"
   ]
  },
  {
   "cell_type": "code",
   "execution_count": 390,
   "id": "f004db29",
   "metadata": {},
   "outputs": [
    {
     "data": {
      "text/plain": [
       "0.325"
      ]
     },
     "execution_count": 390,
     "metadata": {},
     "output_type": "execute_result"
    }
   ],
   "source": [
    "d_model4=GaussianNB()\n",
    "d_model4.fit(u_train, v_train)\n",
    "d_pred2=d_model4.predict(u_test)\n",
    "d_score4=accuracy_score(d_pred2,v_test)\n",
    "d_score4"
   ]
  },
  {
   "cell_type": "code",
   "execution_count": 391,
   "id": "a347a402",
   "metadata": {},
   "outputs": [
    {
     "name": "stderr",
     "output_type": "stream",
     "text": [
      "C:\\Users\\madhu\\anaconda3\\lib\\site-packages\\sklearn\\neighbors\\_classification.py:228: FutureWarning: Unlike other reduction functions (e.g. `skew`, `kurtosis`), the default behavior of `mode` typically preserves the axis it acts along. In SciPy 1.11.0, this behavior will change: the default value of `keepdims` will become False, the `axis` over which the statistic is taken will be eliminated, and the value None will no longer be accepted. Set `keepdims` to True or False to avoid this warning.\n",
      "  mode, _ = stats.mode(_y[neigh_ind, k], axis=1)\n"
     ]
    },
    {
     "data": {
      "text/plain": [
       "0.22"
      ]
     },
     "execution_count": 391,
     "metadata": {},
     "output_type": "execute_result"
    }
   ],
   "source": [
    "d_model5=KNeighborsClassifier()\n",
    "d_model5.fit(u_train, v_train)\n",
    "d_pred3=d_model5.predict(u_test)\n",
    "d_score5=accuracy_score(d_pred3,v_test)\n",
    "d_score5"
   ]
  },
  {
   "cell_type": "code",
   "execution_count": 392,
   "id": "24d9e850",
   "metadata": {},
   "outputs": [
    {
     "data": {
      "text/plain": [
       "0.175"
      ]
     },
     "execution_count": 392,
     "metadata": {},
     "output_type": "execute_result"
    }
   ],
   "source": [
    "d_model6=SVC()\n",
    "d_model6.fit(u_train, v_train)\n",
    "d_pred4=d_model6.predict(u_test)\n",
    "d_score6=accuracy_score(d_pred4,v_test)\n",
    "d_score6"
   ]
  },
  {
   "cell_type": "code",
   "execution_count": 393,
   "id": "5e7aa414",
   "metadata": {},
   "outputs": [
    {
     "name": "stderr",
     "output_type": "stream",
     "text": [
      "C:\\Users\\madhu\\anaconda3\\lib\\site-packages\\sklearn\\base.py:450: UserWarning: X does not have valid feature names, but DecisionTreeClassifier was fitted with feature names\n",
      "  warnings.warn(\n"
     ]
    },
    {
     "data": {
      "text/plain": [
       "array([22], dtype=int64)"
      ]
     },
     "execution_count": 393,
     "metadata": {},
     "output_type": "execute_result"
    }
   ],
   "source": [
    "d_input_new=[21,1,1,0,2,3,1,3,2]\n",
    "d_result=d_model3.predict([d_input_new])\n",
    "d_result"
   ]
  },
  {
   "cell_type": "code",
   "execution_count": null,
   "id": "60f5ea2b",
   "metadata": {},
   "outputs": [],
   "source": []
  }
 ],
 "metadata": {
  "kernelspec": {
   "display_name": "Python 3 (ipykernel)",
   "language": "python",
   "name": "python3"
  },
  "language_info": {
   "codemirror_mode": {
    "name": "ipython",
    "version": 3
   },
   "file_extension": ".py",
   "mimetype": "text/x-python",
   "name": "python",
   "nbconvert_exporter": "python",
   "pygments_lexer": "ipython3",
   "version": "3.9.12"
  }
 },
 "nbformat": 4,
 "nbformat_minor": 5
}
