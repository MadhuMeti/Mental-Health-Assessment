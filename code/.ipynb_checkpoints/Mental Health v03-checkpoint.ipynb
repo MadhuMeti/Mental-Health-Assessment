{
 "cells": [
  {
   "cell_type": "code",
   "execution_count": 1,
   "id": "fadcfa14",
   "metadata": {},
   "outputs": [],
   "source": [
    "import numpy as np\n",
    "import pandas as pd\n",
    "import seaborn as sns\n",
    "from sklearn import preprocessing\n",
    "import matplotlib.pyplot as plt"
   ]
  },
  {
   "cell_type": "code",
   "execution_count": 2,
   "id": "cebe020a",
   "metadata": {},
   "outputs": [],
   "source": [
    "data=pd.read_csv('data2.csv')"
   ]
  },
  {
   "cell_type": "code",
   "execution_count": 3,
   "id": "4915cb2b",
   "metadata": {},
   "outputs": [
    {
     "data": {
      "text/html": [
       "<div>\n",
       "<style scoped>\n",
       "    .dataframe tbody tr th:only-of-type {\n",
       "        vertical-align: middle;\n",
       "    }\n",
       "\n",
       "    .dataframe tbody tr th {\n",
       "        vertical-align: top;\n",
       "    }\n",
       "\n",
       "    .dataframe thead th {\n",
       "        text-align: right;\n",
       "    }\n",
       "</style>\n",
       "<table border=\"1\" class=\"dataframe\">\n",
       "  <thead>\n",
       "    <tr style=\"text-align: right;\">\n",
       "      <th></th>\n",
       "      <th>Age</th>\n",
       "      <th>Gender</th>\n",
       "      <th>Dryness in mouth. (Since 1 month)</th>\n",
       "      <th>Difficulty in breathing. (Since 1 month)</th>\n",
       "      <th>Experience trembling. (Since 1 month)</th>\n",
       "      <th>Worried about panic and make a fool of themselves. (Since 1 month)</th>\n",
       "      <th>Close to panic. (Since 1 month)</th>\n",
       "      <th>Aware of the action of the heart in the absence of physical exertion. (Since 1 month)</th>\n",
       "      <th>Felt scared without any good reason. (Since 1 month)</th>\n",
       "      <th>Difficult to work up the initiative to do things. (Since 1 month)</th>\n",
       "      <th>Couldn't experience the positive feeling. (Since 1 month)</th>\n",
       "      <th>Nothing to look forward. (Since 1 month)</th>\n",
       "      <th>Felt down hearted and blue. (Since 1 month)</th>\n",
       "      <th>Unable to become enthusiastic. (Since 1 month)</th>\n",
       "      <th>Felt wasn't worth much as person. (Since 1 month)</th>\n",
       "      <th>Felt life was meaningless. (Since 1 month)</th>\n",
       "      <th>AScore</th>\n",
       "      <th>DScore</th>\n",
       "    </tr>\n",
       "  </thead>\n",
       "  <tbody>\n",
       "    <tr>\n",
       "      <th>0</th>\n",
       "      <td>21</td>\n",
       "      <td>Male</td>\n",
       "      <td>0</td>\n",
       "      <td>3</td>\n",
       "      <td>1</td>\n",
       "      <td>2</td>\n",
       "      <td>1</td>\n",
       "      <td>3</td>\n",
       "      <td>0</td>\n",
       "      <td>0</td>\n",
       "      <td>2</td>\n",
       "      <td>1</td>\n",
       "      <td>1</td>\n",
       "      <td>0</td>\n",
       "      <td>0</td>\n",
       "      <td>0</td>\n",
       "      <td>20</td>\n",
       "      <td>8</td>\n",
       "    </tr>\n",
       "    <tr>\n",
       "      <th>1</th>\n",
       "      <td>17</td>\n",
       "      <td>Female</td>\n",
       "      <td>0</td>\n",
       "      <td>0</td>\n",
       "      <td>2</td>\n",
       "      <td>2</td>\n",
       "      <td>3</td>\n",
       "      <td>1</td>\n",
       "      <td>2</td>\n",
       "      <td>0</td>\n",
       "      <td>3</td>\n",
       "      <td>1</td>\n",
       "      <td>0</td>\n",
       "      <td>2</td>\n",
       "      <td>3</td>\n",
       "      <td>1</td>\n",
       "      <td>20</td>\n",
       "      <td>20</td>\n",
       "    </tr>\n",
       "    <tr>\n",
       "      <th>2</th>\n",
       "      <td>21</td>\n",
       "      <td>Female</td>\n",
       "      <td>0</td>\n",
       "      <td>3</td>\n",
       "      <td>1</td>\n",
       "      <td>2</td>\n",
       "      <td>3</td>\n",
       "      <td>3</td>\n",
       "      <td>0</td>\n",
       "      <td>0</td>\n",
       "      <td>1</td>\n",
       "      <td>2</td>\n",
       "      <td>2</td>\n",
       "      <td>3</td>\n",
       "      <td>3</td>\n",
       "      <td>3</td>\n",
       "      <td>24</td>\n",
       "      <td>28</td>\n",
       "    </tr>\n",
       "    <tr>\n",
       "      <th>3</th>\n",
       "      <td>21</td>\n",
       "      <td>Male</td>\n",
       "      <td>0</td>\n",
       "      <td>3</td>\n",
       "      <td>3</td>\n",
       "      <td>1</td>\n",
       "      <td>1</td>\n",
       "      <td>2</td>\n",
       "      <td>2</td>\n",
       "      <td>0</td>\n",
       "      <td>0</td>\n",
       "      <td>2</td>\n",
       "      <td>2</td>\n",
       "      <td>0</td>\n",
       "      <td>3</td>\n",
       "      <td>3</td>\n",
       "      <td>24</td>\n",
       "      <td>20</td>\n",
       "    </tr>\n",
       "    <tr>\n",
       "      <th>4</th>\n",
       "      <td>19</td>\n",
       "      <td>Male</td>\n",
       "      <td>0</td>\n",
       "      <td>1</td>\n",
       "      <td>1</td>\n",
       "      <td>3</td>\n",
       "      <td>0</td>\n",
       "      <td>3</td>\n",
       "      <td>0</td>\n",
       "      <td>0</td>\n",
       "      <td>2</td>\n",
       "      <td>1</td>\n",
       "      <td>0</td>\n",
       "      <td>2</td>\n",
       "      <td>1</td>\n",
       "      <td>0</td>\n",
       "      <td>16</td>\n",
       "      <td>12</td>\n",
       "    </tr>\n",
       "  </tbody>\n",
       "</table>\n",
       "</div>"
      ],
      "text/plain": [
       "   Age  Gender  Dryness in mouth. (Since 1 month)  \\\n",
       "0   21    Male                                  0   \n",
       "1   17  Female                                  0   \n",
       "2   21  Female                                  0   \n",
       "3   21    Male                                  0   \n",
       "4   19    Male                                  0   \n",
       "\n",
       "   Difficulty in breathing. (Since 1 month)  \\\n",
       "0                                         3   \n",
       "1                                         0   \n",
       "2                                         3   \n",
       "3                                         3   \n",
       "4                                         1   \n",
       "\n",
       "   Experience trembling. (Since 1 month)  \\\n",
       "0                                      1   \n",
       "1                                      2   \n",
       "2                                      1   \n",
       "3                                      3   \n",
       "4                                      1   \n",
       "\n",
       "   Worried about panic and make a fool of themselves. (Since 1 month)  \\\n",
       "0                                                  2                    \n",
       "1                                                  2                    \n",
       "2                                                  2                    \n",
       "3                                                  1                    \n",
       "4                                                  3                    \n",
       "\n",
       "   Close to panic. (Since 1 month)  \\\n",
       "0                                1   \n",
       "1                                3   \n",
       "2                                3   \n",
       "3                                1   \n",
       "4                                0   \n",
       "\n",
       "   Aware of the action of the heart in the absence of physical exertion. (Since 1 month)  \\\n",
       "0                                                  3                                       \n",
       "1                                                  1                                       \n",
       "2                                                  3                                       \n",
       "3                                                  2                                       \n",
       "4                                                  3                                       \n",
       "\n",
       "   Felt scared without any good reason. (Since 1 month)  \\\n",
       "0                                                  0      \n",
       "1                                                  2      \n",
       "2                                                  0      \n",
       "3                                                  2      \n",
       "4                                                  0      \n",
       "\n",
       "   Difficult to work up the initiative to do things. (Since 1 month)  \\\n",
       "0                                                  0                   \n",
       "1                                                  0                   \n",
       "2                                                  0                   \n",
       "3                                                  0                   \n",
       "4                                                  0                   \n",
       "\n",
       "   Couldn't experience the positive feeling. (Since 1 month)  \\\n",
       "0                                                  2           \n",
       "1                                                  3           \n",
       "2                                                  1           \n",
       "3                                                  0           \n",
       "4                                                  2           \n",
       "\n",
       "   Nothing to look forward. (Since 1 month)  \\\n",
       "0                                         1   \n",
       "1                                         1   \n",
       "2                                         2   \n",
       "3                                         2   \n",
       "4                                         1   \n",
       "\n",
       "   Felt down hearted and blue. (Since 1 month)  \\\n",
       "0                                            1   \n",
       "1                                            0   \n",
       "2                                            2   \n",
       "3                                            2   \n",
       "4                                            0   \n",
       "\n",
       "   Unable to become enthusiastic. (Since 1 month)  \\\n",
       "0                                               0   \n",
       "1                                               2   \n",
       "2                                               3   \n",
       "3                                               0   \n",
       "4                                               2   \n",
       "\n",
       "   Felt wasn't worth much as person. (Since 1 month)  \\\n",
       "0                                                  0   \n",
       "1                                                  3   \n",
       "2                                                  3   \n",
       "3                                                  3   \n",
       "4                                                  1   \n",
       "\n",
       "   Felt life was meaningless. (Since 1 month)  AScore  DScore  \n",
       "0                                           0      20       8  \n",
       "1                                           1      20      20  \n",
       "2                                           3      24      28  \n",
       "3                                           3      24      20  \n",
       "4                                           0      16      12  "
      ]
     },
     "execution_count": 3,
     "metadata": {},
     "output_type": "execute_result"
    }
   ],
   "source": [
    "data.head()"
   ]
  },
  {
   "cell_type": "code",
   "execution_count": 4,
   "id": "5802ce88",
   "metadata": {},
   "outputs": [
    {
     "data": {
      "text/plain": [
       "(2529, 18)"
      ]
     },
     "execution_count": 4,
     "metadata": {},
     "output_type": "execute_result"
    }
   ],
   "source": [
    "data.shape"
   ]
  },
  {
   "cell_type": "code",
   "execution_count": 5,
   "id": "385231aa",
   "metadata": {},
   "outputs": [
    {
     "name": "stdout",
     "output_type": "stream",
     "text": [
      "<class 'pandas.core.frame.DataFrame'>\n",
      "RangeIndex: 2529 entries, 0 to 2528\n",
      "Data columns (total 18 columns):\n",
      " #   Column                                                                                 Non-Null Count  Dtype \n",
      "---  ------                                                                                 --------------  ----- \n",
      " 0   Age                                                                                    2529 non-null   int64 \n",
      " 1   Gender                                                                                 2529 non-null   object\n",
      " 2   Dryness in mouth. (Since 1 month)                                                      2529 non-null   int64 \n",
      " 3   Difficulty in breathing. (Since 1 month)                                               2529 non-null   int64 \n",
      " 4   Experience trembling. (Since 1 month)                                                  2529 non-null   int64 \n",
      " 5   Worried about panic and make a fool of themselves. (Since 1 month)                     2529 non-null   int64 \n",
      " 6   Close to panic. (Since 1 month)                                                        2529 non-null   int64 \n",
      " 7   Aware of the action of the heart in the absence of physical exertion. (Since 1 month)  2529 non-null   int64 \n",
      " 8   Felt scared without any good reason. (Since 1 month)                                   2529 non-null   int64 \n",
      " 9   Difficult to work up the initiative to do things. (Since 1 month)                      2529 non-null   int64 \n",
      " 10  Couldn't experience the positive feeling. (Since 1 month)                              2529 non-null   int64 \n",
      " 11  Nothing to look forward. (Since 1 month)                                               2529 non-null   int64 \n",
      " 12  Felt down hearted and blue. (Since 1 month)                                            2529 non-null   int64 \n",
      " 13  Unable to become enthusiastic. (Since 1 month)                                         2529 non-null   int64 \n",
      " 14  Felt wasn't worth much as person. (Since 1 month)                                      2529 non-null   int64 \n",
      " 15  Felt life was meaningless. (Since 1 month)                                             2529 non-null   int64 \n",
      " 16  AScore                                                                                 2529 non-null   int64 \n",
      " 17  DScore                                                                                 2529 non-null   int64 \n",
      "dtypes: int64(17), object(1)\n",
      "memory usage: 355.8+ KB\n"
     ]
    }
   ],
   "source": [
    "data.info()"
   ]
  },
  {
   "cell_type": "code",
   "execution_count": 6,
   "id": "f559f203",
   "metadata": {},
   "outputs": [
    {
     "data": {
      "text/html": [
       "<div>\n",
       "<style scoped>\n",
       "    .dataframe tbody tr th:only-of-type {\n",
       "        vertical-align: middle;\n",
       "    }\n",
       "\n",
       "    .dataframe tbody tr th {\n",
       "        vertical-align: top;\n",
       "    }\n",
       "\n",
       "    .dataframe thead th {\n",
       "        text-align: right;\n",
       "    }\n",
       "</style>\n",
       "<table border=\"1\" class=\"dataframe\">\n",
       "  <thead>\n",
       "    <tr style=\"text-align: right;\">\n",
       "      <th></th>\n",
       "      <th>Age</th>\n",
       "      <th>Gender</th>\n",
       "      <th>Dryness in mouth. (Since 1 month)</th>\n",
       "      <th>Difficulty in breathing. (Since 1 month)</th>\n",
       "      <th>Experience trembling. (Since 1 month)</th>\n",
       "      <th>Worried about panic and make a fool of themselves. (Since 1 month)</th>\n",
       "      <th>Close to panic. (Since 1 month)</th>\n",
       "      <th>Aware of the action of the heart in the absence of physical exertion. (Since 1 month)</th>\n",
       "      <th>Felt scared without any good reason. (Since 1 month)</th>\n",
       "      <th>Difficult to work up the initiative to do things. (Since 1 month)</th>\n",
       "      <th>Couldn't experience the positive feeling. (Since 1 month)</th>\n",
       "      <th>Nothing to look forward. (Since 1 month)</th>\n",
       "      <th>Felt down hearted and blue. (Since 1 month)</th>\n",
       "      <th>Unable to become enthusiastic. (Since 1 month)</th>\n",
       "      <th>Felt wasn't worth much as person. (Since 1 month)</th>\n",
       "      <th>Felt life was meaningless. (Since 1 month)</th>\n",
       "      <th>AScore</th>\n",
       "      <th>DScore</th>\n",
       "    </tr>\n",
       "  </thead>\n",
       "  <tbody>\n",
       "    <tr>\n",
       "      <th>0</th>\n",
       "      <td>21</td>\n",
       "      <td>Male</td>\n",
       "      <td>0</td>\n",
       "      <td>3</td>\n",
       "      <td>1</td>\n",
       "      <td>2</td>\n",
       "      <td>1</td>\n",
       "      <td>3</td>\n",
       "      <td>0</td>\n",
       "      <td>0</td>\n",
       "      <td>2</td>\n",
       "      <td>1</td>\n",
       "      <td>1</td>\n",
       "      <td>0</td>\n",
       "      <td>0</td>\n",
       "      <td>0</td>\n",
       "      <td>20</td>\n",
       "      <td>8</td>\n",
       "    </tr>\n",
       "    <tr>\n",
       "      <th>1</th>\n",
       "      <td>17</td>\n",
       "      <td>Female</td>\n",
       "      <td>0</td>\n",
       "      <td>0</td>\n",
       "      <td>2</td>\n",
       "      <td>2</td>\n",
       "      <td>3</td>\n",
       "      <td>1</td>\n",
       "      <td>2</td>\n",
       "      <td>0</td>\n",
       "      <td>3</td>\n",
       "      <td>1</td>\n",
       "      <td>0</td>\n",
       "      <td>2</td>\n",
       "      <td>3</td>\n",
       "      <td>1</td>\n",
       "      <td>20</td>\n",
       "      <td>20</td>\n",
       "    </tr>\n",
       "    <tr>\n",
       "      <th>2</th>\n",
       "      <td>21</td>\n",
       "      <td>Female</td>\n",
       "      <td>0</td>\n",
       "      <td>3</td>\n",
       "      <td>1</td>\n",
       "      <td>2</td>\n",
       "      <td>3</td>\n",
       "      <td>3</td>\n",
       "      <td>0</td>\n",
       "      <td>0</td>\n",
       "      <td>1</td>\n",
       "      <td>2</td>\n",
       "      <td>2</td>\n",
       "      <td>3</td>\n",
       "      <td>3</td>\n",
       "      <td>3</td>\n",
       "      <td>24</td>\n",
       "      <td>28</td>\n",
       "    </tr>\n",
       "    <tr>\n",
       "      <th>3</th>\n",
       "      <td>21</td>\n",
       "      <td>Male</td>\n",
       "      <td>0</td>\n",
       "      <td>3</td>\n",
       "      <td>3</td>\n",
       "      <td>1</td>\n",
       "      <td>1</td>\n",
       "      <td>2</td>\n",
       "      <td>2</td>\n",
       "      <td>0</td>\n",
       "      <td>0</td>\n",
       "      <td>2</td>\n",
       "      <td>2</td>\n",
       "      <td>0</td>\n",
       "      <td>3</td>\n",
       "      <td>3</td>\n",
       "      <td>24</td>\n",
       "      <td>20</td>\n",
       "    </tr>\n",
       "    <tr>\n",
       "      <th>4</th>\n",
       "      <td>19</td>\n",
       "      <td>Male</td>\n",
       "      <td>0</td>\n",
       "      <td>1</td>\n",
       "      <td>1</td>\n",
       "      <td>3</td>\n",
       "      <td>0</td>\n",
       "      <td>3</td>\n",
       "      <td>0</td>\n",
       "      <td>0</td>\n",
       "      <td>2</td>\n",
       "      <td>1</td>\n",
       "      <td>0</td>\n",
       "      <td>2</td>\n",
       "      <td>1</td>\n",
       "      <td>0</td>\n",
       "      <td>16</td>\n",
       "      <td>12</td>\n",
       "    </tr>\n",
       "    <tr>\n",
       "      <th>...</th>\n",
       "      <td>...</td>\n",
       "      <td>...</td>\n",
       "      <td>...</td>\n",
       "      <td>...</td>\n",
       "      <td>...</td>\n",
       "      <td>...</td>\n",
       "      <td>...</td>\n",
       "      <td>...</td>\n",
       "      <td>...</td>\n",
       "      <td>...</td>\n",
       "      <td>...</td>\n",
       "      <td>...</td>\n",
       "      <td>...</td>\n",
       "      <td>...</td>\n",
       "      <td>...</td>\n",
       "      <td>...</td>\n",
       "      <td>...</td>\n",
       "      <td>...</td>\n",
       "    </tr>\n",
       "    <tr>\n",
       "      <th>2524</th>\n",
       "      <td>19</td>\n",
       "      <td>Female</td>\n",
       "      <td>3</td>\n",
       "      <td>1</td>\n",
       "      <td>1</td>\n",
       "      <td>0</td>\n",
       "      <td>3</td>\n",
       "      <td>3</td>\n",
       "      <td>1</td>\n",
       "      <td>3</td>\n",
       "      <td>1</td>\n",
       "      <td>1</td>\n",
       "      <td>0</td>\n",
       "      <td>0</td>\n",
       "      <td>1</td>\n",
       "      <td>2</td>\n",
       "      <td>24</td>\n",
       "      <td>16</td>\n",
       "    </tr>\n",
       "    <tr>\n",
       "      <th>2525</th>\n",
       "      <td>21</td>\n",
       "      <td>Female</td>\n",
       "      <td>3</td>\n",
       "      <td>0</td>\n",
       "      <td>1</td>\n",
       "      <td>3</td>\n",
       "      <td>0</td>\n",
       "      <td>1</td>\n",
       "      <td>0</td>\n",
       "      <td>3</td>\n",
       "      <td>2</td>\n",
       "      <td>3</td>\n",
       "      <td>1</td>\n",
       "      <td>0</td>\n",
       "      <td>3</td>\n",
       "      <td>2</td>\n",
       "      <td>16</td>\n",
       "      <td>28</td>\n",
       "    </tr>\n",
       "    <tr>\n",
       "      <th>2526</th>\n",
       "      <td>20</td>\n",
       "      <td>Female</td>\n",
       "      <td>3</td>\n",
       "      <td>0</td>\n",
       "      <td>0</td>\n",
       "      <td>2</td>\n",
       "      <td>2</td>\n",
       "      <td>1</td>\n",
       "      <td>2</td>\n",
       "      <td>3</td>\n",
       "      <td>2</td>\n",
       "      <td>3</td>\n",
       "      <td>2</td>\n",
       "      <td>0</td>\n",
       "      <td>1</td>\n",
       "      <td>3</td>\n",
       "      <td>20</td>\n",
       "      <td>28</td>\n",
       "    </tr>\n",
       "    <tr>\n",
       "      <th>2527</th>\n",
       "      <td>20</td>\n",
       "      <td>Female</td>\n",
       "      <td>3</td>\n",
       "      <td>1</td>\n",
       "      <td>0</td>\n",
       "      <td>3</td>\n",
       "      <td>1</td>\n",
       "      <td>3</td>\n",
       "      <td>3</td>\n",
       "      <td>3</td>\n",
       "      <td>0</td>\n",
       "      <td>3</td>\n",
       "      <td>2</td>\n",
       "      <td>3</td>\n",
       "      <td>0</td>\n",
       "      <td>3</td>\n",
       "      <td>28</td>\n",
       "      <td>28</td>\n",
       "    </tr>\n",
       "    <tr>\n",
       "      <th>2528</th>\n",
       "      <td>20</td>\n",
       "      <td>Female</td>\n",
       "      <td>3</td>\n",
       "      <td>1</td>\n",
       "      <td>1</td>\n",
       "      <td>1</td>\n",
       "      <td>3</td>\n",
       "      <td>3</td>\n",
       "      <td>0</td>\n",
       "      <td>3</td>\n",
       "      <td>3</td>\n",
       "      <td>2</td>\n",
       "      <td>2</td>\n",
       "      <td>3</td>\n",
       "      <td>1</td>\n",
       "      <td>2</td>\n",
       "      <td>24</td>\n",
       "      <td>32</td>\n",
       "    </tr>\n",
       "  </tbody>\n",
       "</table>\n",
       "<p>2529 rows × 18 columns</p>\n",
       "</div>"
      ],
      "text/plain": [
       "      Age  Gender  Dryness in mouth. (Since 1 month)  \\\n",
       "0      21    Male                                  0   \n",
       "1      17  Female                                  0   \n",
       "2      21  Female                                  0   \n",
       "3      21    Male                                  0   \n",
       "4      19    Male                                  0   \n",
       "...   ...     ...                                ...   \n",
       "2524   19  Female                                  3   \n",
       "2525   21  Female                                  3   \n",
       "2526   20  Female                                  3   \n",
       "2527   20  Female                                  3   \n",
       "2528   20  Female                                  3   \n",
       "\n",
       "      Difficulty in breathing. (Since 1 month)  \\\n",
       "0                                            3   \n",
       "1                                            0   \n",
       "2                                            3   \n",
       "3                                            3   \n",
       "4                                            1   \n",
       "...                                        ...   \n",
       "2524                                         1   \n",
       "2525                                         0   \n",
       "2526                                         0   \n",
       "2527                                         1   \n",
       "2528                                         1   \n",
       "\n",
       "      Experience trembling. (Since 1 month)  \\\n",
       "0                                         1   \n",
       "1                                         2   \n",
       "2                                         1   \n",
       "3                                         3   \n",
       "4                                         1   \n",
       "...                                     ...   \n",
       "2524                                      1   \n",
       "2525                                      1   \n",
       "2526                                      0   \n",
       "2527                                      0   \n",
       "2528                                      1   \n",
       "\n",
       "      Worried about panic and make a fool of themselves. (Since 1 month)  \\\n",
       "0                                                     2                    \n",
       "1                                                     2                    \n",
       "2                                                     2                    \n",
       "3                                                     1                    \n",
       "4                                                     3                    \n",
       "...                                                 ...                    \n",
       "2524                                                  0                    \n",
       "2525                                                  3                    \n",
       "2526                                                  2                    \n",
       "2527                                                  3                    \n",
       "2528                                                  1                    \n",
       "\n",
       "      Close to panic. (Since 1 month)  \\\n",
       "0                                   1   \n",
       "1                                   3   \n",
       "2                                   3   \n",
       "3                                   1   \n",
       "4                                   0   \n",
       "...                               ...   \n",
       "2524                                3   \n",
       "2525                                0   \n",
       "2526                                2   \n",
       "2527                                1   \n",
       "2528                                3   \n",
       "\n",
       "      Aware of the action of the heart in the absence of physical exertion. (Since 1 month)  \\\n",
       "0                                                     3                                       \n",
       "1                                                     1                                       \n",
       "2                                                     3                                       \n",
       "3                                                     2                                       \n",
       "4                                                     3                                       \n",
       "...                                                 ...                                       \n",
       "2524                                                  3                                       \n",
       "2525                                                  1                                       \n",
       "2526                                                  1                                       \n",
       "2527                                                  3                                       \n",
       "2528                                                  3                                       \n",
       "\n",
       "      Felt scared without any good reason. (Since 1 month)  \\\n",
       "0                                                     0      \n",
       "1                                                     2      \n",
       "2                                                     0      \n",
       "3                                                     2      \n",
       "4                                                     0      \n",
       "...                                                 ...      \n",
       "2524                                                  1      \n",
       "2525                                                  0      \n",
       "2526                                                  2      \n",
       "2527                                                  3      \n",
       "2528                                                  0      \n",
       "\n",
       "      Difficult to work up the initiative to do things. (Since 1 month)  \\\n",
       "0                                                     0                   \n",
       "1                                                     0                   \n",
       "2                                                     0                   \n",
       "3                                                     0                   \n",
       "4                                                     0                   \n",
       "...                                                 ...                   \n",
       "2524                                                  3                   \n",
       "2525                                                  3                   \n",
       "2526                                                  3                   \n",
       "2527                                                  3                   \n",
       "2528                                                  3                   \n",
       "\n",
       "      Couldn't experience the positive feeling. (Since 1 month)  \\\n",
       "0                                                     2           \n",
       "1                                                     3           \n",
       "2                                                     1           \n",
       "3                                                     0           \n",
       "4                                                     2           \n",
       "...                                                 ...           \n",
       "2524                                                  1           \n",
       "2525                                                  2           \n",
       "2526                                                  2           \n",
       "2527                                                  0           \n",
       "2528                                                  3           \n",
       "\n",
       "      Nothing to look forward. (Since 1 month)  \\\n",
       "0                                            1   \n",
       "1                                            1   \n",
       "2                                            2   \n",
       "3                                            2   \n",
       "4                                            1   \n",
       "...                                        ...   \n",
       "2524                                         1   \n",
       "2525                                         3   \n",
       "2526                                         3   \n",
       "2527                                         3   \n",
       "2528                                         2   \n",
       "\n",
       "      Felt down hearted and blue. (Since 1 month)  \\\n",
       "0                                               1   \n",
       "1                                               0   \n",
       "2                                               2   \n",
       "3                                               2   \n",
       "4                                               0   \n",
       "...                                           ...   \n",
       "2524                                            0   \n",
       "2525                                            1   \n",
       "2526                                            2   \n",
       "2527                                            2   \n",
       "2528                                            2   \n",
       "\n",
       "      Unable to become enthusiastic. (Since 1 month)  \\\n",
       "0                                                  0   \n",
       "1                                                  2   \n",
       "2                                                  3   \n",
       "3                                                  0   \n",
       "4                                                  2   \n",
       "...                                              ...   \n",
       "2524                                               0   \n",
       "2525                                               0   \n",
       "2526                                               0   \n",
       "2527                                               3   \n",
       "2528                                               3   \n",
       "\n",
       "      Felt wasn't worth much as person. (Since 1 month)  \\\n",
       "0                                                     0   \n",
       "1                                                     3   \n",
       "2                                                     3   \n",
       "3                                                     3   \n",
       "4                                                     1   \n",
       "...                                                 ...   \n",
       "2524                                                  1   \n",
       "2525                                                  3   \n",
       "2526                                                  1   \n",
       "2527                                                  0   \n",
       "2528                                                  1   \n",
       "\n",
       "      Felt life was meaningless. (Since 1 month)  AScore  DScore  \n",
       "0                                              0      20       8  \n",
       "1                                              1      20      20  \n",
       "2                                              3      24      28  \n",
       "3                                              3      24      20  \n",
       "4                                              0      16      12  \n",
       "...                                          ...     ...     ...  \n",
       "2524                                           2      24      16  \n",
       "2525                                           2      16      28  \n",
       "2526                                           3      20      28  \n",
       "2527                                           3      28      28  \n",
       "2528                                           2      24      32  \n",
       "\n",
       "[2529 rows x 18 columns]"
      ]
     },
     "execution_count": 6,
     "metadata": {},
     "output_type": "execute_result"
    }
   ],
   "source": [
    "df = data[['Age', 'Gender','Dryness in mouth. (Since 1 month)', 'Difficulty in breathing. (Since 1 month)', 'Experience trembling. (Since 1 month)',\n",
    "       'Worried about panic and make a fool of themselves. (Since 1 month)', 'Close to panic. (Since 1 month)', 'Aware of the action of the heart in the absence of physical exertion. (Since 1 month)', 'Felt scared without any good reason. (Since 1 month)',\n",
    "       'Difficult to work up the initiative to do things. (Since 1 month)',\"Couldn't experience the positive feeling. (Since 1 month)\",'Nothing to look forward. (Since 1 month)','Felt down hearted and blue. (Since 1 month)','Unable to become enthusiastic. (Since 1 month)',\"Felt wasn't worth much as person. (Since 1 month)\",'Felt life was meaningless. (Since 1 month)','AScore','DScore']]\n",
    "df"
   ]
  },
  {
   "cell_type": "code",
   "execution_count": 7,
   "id": "6a5187dc",
   "metadata": {},
   "outputs": [
    {
     "data": {
      "text/html": [
       "<div>\n",
       "<style scoped>\n",
       "    .dataframe tbody tr th:only-of-type {\n",
       "        vertical-align: middle;\n",
       "    }\n",
       "\n",
       "    .dataframe tbody tr th {\n",
       "        vertical-align: top;\n",
       "    }\n",
       "\n",
       "    .dataframe thead th {\n",
       "        text-align: right;\n",
       "    }\n",
       "</style>\n",
       "<table border=\"1\" class=\"dataframe\">\n",
       "  <thead>\n",
       "    <tr style=\"text-align: right;\">\n",
       "      <th></th>\n",
       "      <th>Age</th>\n",
       "      <th>Gender</th>\n",
       "      <th>Q1</th>\n",
       "      <th>Q2</th>\n",
       "      <th>Q3</th>\n",
       "      <th>Q4</th>\n",
       "      <th>Q5</th>\n",
       "      <th>Q6</th>\n",
       "      <th>Q7</th>\n",
       "      <th>Q8</th>\n",
       "      <th>Q9</th>\n",
       "      <th>Q10</th>\n",
       "      <th>Q11</th>\n",
       "      <th>Q12</th>\n",
       "      <th>Q13</th>\n",
       "      <th>Q14</th>\n",
       "      <th>AScore</th>\n",
       "      <th>DScore</th>\n",
       "    </tr>\n",
       "  </thead>\n",
       "  <tbody>\n",
       "    <tr>\n",
       "      <th>0</th>\n",
       "      <td>21</td>\n",
       "      <td>Male</td>\n",
       "      <td>0</td>\n",
       "      <td>3</td>\n",
       "      <td>1</td>\n",
       "      <td>2</td>\n",
       "      <td>1</td>\n",
       "      <td>3</td>\n",
       "      <td>0</td>\n",
       "      <td>0</td>\n",
       "      <td>2</td>\n",
       "      <td>1</td>\n",
       "      <td>1</td>\n",
       "      <td>0</td>\n",
       "      <td>0</td>\n",
       "      <td>0</td>\n",
       "      <td>20</td>\n",
       "      <td>8</td>\n",
       "    </tr>\n",
       "    <tr>\n",
       "      <th>1</th>\n",
       "      <td>17</td>\n",
       "      <td>Female</td>\n",
       "      <td>0</td>\n",
       "      <td>0</td>\n",
       "      <td>2</td>\n",
       "      <td>2</td>\n",
       "      <td>3</td>\n",
       "      <td>1</td>\n",
       "      <td>2</td>\n",
       "      <td>0</td>\n",
       "      <td>3</td>\n",
       "      <td>1</td>\n",
       "      <td>0</td>\n",
       "      <td>2</td>\n",
       "      <td>3</td>\n",
       "      <td>1</td>\n",
       "      <td>20</td>\n",
       "      <td>20</td>\n",
       "    </tr>\n",
       "    <tr>\n",
       "      <th>2</th>\n",
       "      <td>21</td>\n",
       "      <td>Female</td>\n",
       "      <td>0</td>\n",
       "      <td>3</td>\n",
       "      <td>1</td>\n",
       "      <td>2</td>\n",
       "      <td>3</td>\n",
       "      <td>3</td>\n",
       "      <td>0</td>\n",
       "      <td>0</td>\n",
       "      <td>1</td>\n",
       "      <td>2</td>\n",
       "      <td>2</td>\n",
       "      <td>3</td>\n",
       "      <td>3</td>\n",
       "      <td>3</td>\n",
       "      <td>24</td>\n",
       "      <td>28</td>\n",
       "    </tr>\n",
       "    <tr>\n",
       "      <th>3</th>\n",
       "      <td>21</td>\n",
       "      <td>Male</td>\n",
       "      <td>0</td>\n",
       "      <td>3</td>\n",
       "      <td>3</td>\n",
       "      <td>1</td>\n",
       "      <td>1</td>\n",
       "      <td>2</td>\n",
       "      <td>2</td>\n",
       "      <td>0</td>\n",
       "      <td>0</td>\n",
       "      <td>2</td>\n",
       "      <td>2</td>\n",
       "      <td>0</td>\n",
       "      <td>3</td>\n",
       "      <td>3</td>\n",
       "      <td>24</td>\n",
       "      <td>20</td>\n",
       "    </tr>\n",
       "    <tr>\n",
       "      <th>4</th>\n",
       "      <td>19</td>\n",
       "      <td>Male</td>\n",
       "      <td>0</td>\n",
       "      <td>1</td>\n",
       "      <td>1</td>\n",
       "      <td>3</td>\n",
       "      <td>0</td>\n",
       "      <td>3</td>\n",
       "      <td>0</td>\n",
       "      <td>0</td>\n",
       "      <td>2</td>\n",
       "      <td>1</td>\n",
       "      <td>0</td>\n",
       "      <td>2</td>\n",
       "      <td>1</td>\n",
       "      <td>0</td>\n",
       "      <td>16</td>\n",
       "      <td>12</td>\n",
       "    </tr>\n",
       "    <tr>\n",
       "      <th>...</th>\n",
       "      <td>...</td>\n",
       "      <td>...</td>\n",
       "      <td>...</td>\n",
       "      <td>...</td>\n",
       "      <td>...</td>\n",
       "      <td>...</td>\n",
       "      <td>...</td>\n",
       "      <td>...</td>\n",
       "      <td>...</td>\n",
       "      <td>...</td>\n",
       "      <td>...</td>\n",
       "      <td>...</td>\n",
       "      <td>...</td>\n",
       "      <td>...</td>\n",
       "      <td>...</td>\n",
       "      <td>...</td>\n",
       "      <td>...</td>\n",
       "      <td>...</td>\n",
       "    </tr>\n",
       "    <tr>\n",
       "      <th>2524</th>\n",
       "      <td>19</td>\n",
       "      <td>Female</td>\n",
       "      <td>3</td>\n",
       "      <td>1</td>\n",
       "      <td>1</td>\n",
       "      <td>0</td>\n",
       "      <td>3</td>\n",
       "      <td>3</td>\n",
       "      <td>1</td>\n",
       "      <td>3</td>\n",
       "      <td>1</td>\n",
       "      <td>1</td>\n",
       "      <td>0</td>\n",
       "      <td>0</td>\n",
       "      <td>1</td>\n",
       "      <td>2</td>\n",
       "      <td>24</td>\n",
       "      <td>16</td>\n",
       "    </tr>\n",
       "    <tr>\n",
       "      <th>2525</th>\n",
       "      <td>21</td>\n",
       "      <td>Female</td>\n",
       "      <td>3</td>\n",
       "      <td>0</td>\n",
       "      <td>1</td>\n",
       "      <td>3</td>\n",
       "      <td>0</td>\n",
       "      <td>1</td>\n",
       "      <td>0</td>\n",
       "      <td>3</td>\n",
       "      <td>2</td>\n",
       "      <td>3</td>\n",
       "      <td>1</td>\n",
       "      <td>0</td>\n",
       "      <td>3</td>\n",
       "      <td>2</td>\n",
       "      <td>16</td>\n",
       "      <td>28</td>\n",
       "    </tr>\n",
       "    <tr>\n",
       "      <th>2526</th>\n",
       "      <td>20</td>\n",
       "      <td>Female</td>\n",
       "      <td>3</td>\n",
       "      <td>0</td>\n",
       "      <td>0</td>\n",
       "      <td>2</td>\n",
       "      <td>2</td>\n",
       "      <td>1</td>\n",
       "      <td>2</td>\n",
       "      <td>3</td>\n",
       "      <td>2</td>\n",
       "      <td>3</td>\n",
       "      <td>2</td>\n",
       "      <td>0</td>\n",
       "      <td>1</td>\n",
       "      <td>3</td>\n",
       "      <td>20</td>\n",
       "      <td>28</td>\n",
       "    </tr>\n",
       "    <tr>\n",
       "      <th>2527</th>\n",
       "      <td>20</td>\n",
       "      <td>Female</td>\n",
       "      <td>3</td>\n",
       "      <td>1</td>\n",
       "      <td>0</td>\n",
       "      <td>3</td>\n",
       "      <td>1</td>\n",
       "      <td>3</td>\n",
       "      <td>3</td>\n",
       "      <td>3</td>\n",
       "      <td>0</td>\n",
       "      <td>3</td>\n",
       "      <td>2</td>\n",
       "      <td>3</td>\n",
       "      <td>0</td>\n",
       "      <td>3</td>\n",
       "      <td>28</td>\n",
       "      <td>28</td>\n",
       "    </tr>\n",
       "    <tr>\n",
       "      <th>2528</th>\n",
       "      <td>20</td>\n",
       "      <td>Female</td>\n",
       "      <td>3</td>\n",
       "      <td>1</td>\n",
       "      <td>1</td>\n",
       "      <td>1</td>\n",
       "      <td>3</td>\n",
       "      <td>3</td>\n",
       "      <td>0</td>\n",
       "      <td>3</td>\n",
       "      <td>3</td>\n",
       "      <td>2</td>\n",
       "      <td>2</td>\n",
       "      <td>3</td>\n",
       "      <td>1</td>\n",
       "      <td>2</td>\n",
       "      <td>24</td>\n",
       "      <td>32</td>\n",
       "    </tr>\n",
       "  </tbody>\n",
       "</table>\n",
       "<p>2529 rows × 18 columns</p>\n",
       "</div>"
      ],
      "text/plain": [
       "      Age  Gender  Q1  Q2  Q3  Q4  Q5  Q6  Q7  Q8  Q9  Q10  Q11  Q12  Q13  \\\n",
       "0      21    Male   0   3   1   2   1   3   0   0   2    1    1    0    0   \n",
       "1      17  Female   0   0   2   2   3   1   2   0   3    1    0    2    3   \n",
       "2      21  Female   0   3   1   2   3   3   0   0   1    2    2    3    3   \n",
       "3      21    Male   0   3   3   1   1   2   2   0   0    2    2    0    3   \n",
       "4      19    Male   0   1   1   3   0   3   0   0   2    1    0    2    1   \n",
       "...   ...     ...  ..  ..  ..  ..  ..  ..  ..  ..  ..  ...  ...  ...  ...   \n",
       "2524   19  Female   3   1   1   0   3   3   1   3   1    1    0    0    1   \n",
       "2525   21  Female   3   0   1   3   0   1   0   3   2    3    1    0    3   \n",
       "2526   20  Female   3   0   0   2   2   1   2   3   2    3    2    0    1   \n",
       "2527   20  Female   3   1   0   3   1   3   3   3   0    3    2    3    0   \n",
       "2528   20  Female   3   1   1   1   3   3   0   3   3    2    2    3    1   \n",
       "\n",
       "      Q14  AScore  DScore  \n",
       "0       0      20       8  \n",
       "1       1      20      20  \n",
       "2       3      24      28  \n",
       "3       3      24      20  \n",
       "4       0      16      12  \n",
       "...   ...     ...     ...  \n",
       "2524    2      24      16  \n",
       "2525    2      16      28  \n",
       "2526    3      20      28  \n",
       "2527    3      28      28  \n",
       "2528    2      24      32  \n",
       "\n",
       "[2529 rows x 18 columns]"
      ]
     },
     "execution_count": 7,
     "metadata": {},
     "output_type": "execute_result"
    }
   ],
   "source": [
    "df=df.copy()\n",
    "df.rename(columns={'Dryness in mouth. (Since 1 month)':'Q1','Difficulty in breathing. (Since 1 month)':'Q2','Experience trembling. (Since 1 month)':'Q3','Worried about panic and make a fool of themselves. (Since 1 month)':'Q4','Close to panic. (Since 1 month)':'Q5','Aware of the action of the heart in the absence of physical exertion. (Since 1 month)':'Q6','Felt scared without any good reason. (Since 1 month)':'Q7','Difficult to work up the initiative to do things. (Since 1 month)':'Q8',\"Couldn't experience the positive feeling. (Since 1 month)\":'Q9','Nothing to look forward. (Since 1 month)':'Q10','Felt down hearted and blue. (Since 1 month)':'Q11','Unable to become enthusiastic. (Since 1 month)':'Q12',\"Felt wasn't worth much as person. (Since 1 month)\":'Q13','Felt life was meaningless. (Since 1 month)':'Q14'},inplace=True)\n",
    "df"
   ]
  },
  {
   "cell_type": "code",
   "execution_count": 8,
   "id": "bd0df4c3",
   "metadata": {},
   "outputs": [],
   "source": [
    "from sklearn.preprocessing import LabelEncoder\n",
    "le = LabelEncoder()\n",
    "df['Gender'] = le.fit_transform(df['Gender'])"
   ]
  },
  {
   "cell_type": "code",
   "execution_count": 9,
   "id": "17e1c69b",
   "metadata": {},
   "outputs": [
    {
     "data": {
      "text/html": [
       "<div>\n",
       "<style scoped>\n",
       "    .dataframe tbody tr th:only-of-type {\n",
       "        vertical-align: middle;\n",
       "    }\n",
       "\n",
       "    .dataframe tbody tr th {\n",
       "        vertical-align: top;\n",
       "    }\n",
       "\n",
       "    .dataframe thead th {\n",
       "        text-align: right;\n",
       "    }\n",
       "</style>\n",
       "<table border=\"1\" class=\"dataframe\">\n",
       "  <thead>\n",
       "    <tr style=\"text-align: right;\">\n",
       "      <th></th>\n",
       "      <th>Age</th>\n",
       "      <th>Gender</th>\n",
       "      <th>Q1</th>\n",
       "      <th>Q2</th>\n",
       "      <th>Q3</th>\n",
       "      <th>Q4</th>\n",
       "      <th>Q5</th>\n",
       "      <th>Q6</th>\n",
       "      <th>Q7</th>\n",
       "      <th>Q8</th>\n",
       "      <th>Q9</th>\n",
       "      <th>Q10</th>\n",
       "      <th>Q11</th>\n",
       "      <th>Q12</th>\n",
       "      <th>Q13</th>\n",
       "      <th>Q14</th>\n",
       "      <th>AScore</th>\n",
       "      <th>DScore</th>\n",
       "    </tr>\n",
       "  </thead>\n",
       "  <tbody>\n",
       "    <tr>\n",
       "      <th>0</th>\n",
       "      <td>21</td>\n",
       "      <td>1</td>\n",
       "      <td>0</td>\n",
       "      <td>3</td>\n",
       "      <td>1</td>\n",
       "      <td>2</td>\n",
       "      <td>1</td>\n",
       "      <td>3</td>\n",
       "      <td>0</td>\n",
       "      <td>0</td>\n",
       "      <td>2</td>\n",
       "      <td>1</td>\n",
       "      <td>1</td>\n",
       "      <td>0</td>\n",
       "      <td>0</td>\n",
       "      <td>0</td>\n",
       "      <td>20</td>\n",
       "      <td>8</td>\n",
       "    </tr>\n",
       "    <tr>\n",
       "      <th>1</th>\n",
       "      <td>17</td>\n",
       "      <td>0</td>\n",
       "      <td>0</td>\n",
       "      <td>0</td>\n",
       "      <td>2</td>\n",
       "      <td>2</td>\n",
       "      <td>3</td>\n",
       "      <td>1</td>\n",
       "      <td>2</td>\n",
       "      <td>0</td>\n",
       "      <td>3</td>\n",
       "      <td>1</td>\n",
       "      <td>0</td>\n",
       "      <td>2</td>\n",
       "      <td>3</td>\n",
       "      <td>1</td>\n",
       "      <td>20</td>\n",
       "      <td>20</td>\n",
       "    </tr>\n",
       "    <tr>\n",
       "      <th>2</th>\n",
       "      <td>21</td>\n",
       "      <td>0</td>\n",
       "      <td>0</td>\n",
       "      <td>3</td>\n",
       "      <td>1</td>\n",
       "      <td>2</td>\n",
       "      <td>3</td>\n",
       "      <td>3</td>\n",
       "      <td>0</td>\n",
       "      <td>0</td>\n",
       "      <td>1</td>\n",
       "      <td>2</td>\n",
       "      <td>2</td>\n",
       "      <td>3</td>\n",
       "      <td>3</td>\n",
       "      <td>3</td>\n",
       "      <td>24</td>\n",
       "      <td>28</td>\n",
       "    </tr>\n",
       "    <tr>\n",
       "      <th>3</th>\n",
       "      <td>21</td>\n",
       "      <td>1</td>\n",
       "      <td>0</td>\n",
       "      <td>3</td>\n",
       "      <td>3</td>\n",
       "      <td>1</td>\n",
       "      <td>1</td>\n",
       "      <td>2</td>\n",
       "      <td>2</td>\n",
       "      <td>0</td>\n",
       "      <td>0</td>\n",
       "      <td>2</td>\n",
       "      <td>2</td>\n",
       "      <td>0</td>\n",
       "      <td>3</td>\n",
       "      <td>3</td>\n",
       "      <td>24</td>\n",
       "      <td>20</td>\n",
       "    </tr>\n",
       "    <tr>\n",
       "      <th>4</th>\n",
       "      <td>19</td>\n",
       "      <td>1</td>\n",
       "      <td>0</td>\n",
       "      <td>1</td>\n",
       "      <td>1</td>\n",
       "      <td>3</td>\n",
       "      <td>0</td>\n",
       "      <td>3</td>\n",
       "      <td>0</td>\n",
       "      <td>0</td>\n",
       "      <td>2</td>\n",
       "      <td>1</td>\n",
       "      <td>0</td>\n",
       "      <td>2</td>\n",
       "      <td>1</td>\n",
       "      <td>0</td>\n",
       "      <td>16</td>\n",
       "      <td>12</td>\n",
       "    </tr>\n",
       "  </tbody>\n",
       "</table>\n",
       "</div>"
      ],
      "text/plain": [
       "   Age  Gender  Q1  Q2  Q3  Q4  Q5  Q6  Q7  Q8  Q9  Q10  Q11  Q12  Q13  Q14  \\\n",
       "0   21       1   0   3   1   2   1   3   0   0   2    1    1    0    0    0   \n",
       "1   17       0   0   0   2   2   3   1   2   0   3    1    0    2    3    1   \n",
       "2   21       0   0   3   1   2   3   3   0   0   1    2    2    3    3    3   \n",
       "3   21       1   0   3   3   1   1   2   2   0   0    2    2    0    3    3   \n",
       "4   19       1   0   1   1   3   0   3   0   0   2    1    0    2    1    0   \n",
       "\n",
       "   AScore  DScore  \n",
       "0      20       8  \n",
       "1      20      20  \n",
       "2      24      28  \n",
       "3      24      20  \n",
       "4      16      12  "
      ]
     },
     "execution_count": 9,
     "metadata": {},
     "output_type": "execute_result"
    }
   ],
   "source": [
    "#df = df.reset_index()\n",
    "df.head()"
   ]
  },
  {
   "cell_type": "code",
   "execution_count": 10,
   "id": "510241a8",
   "metadata": {},
   "outputs": [],
   "source": [
    "from sklearn.linear_model import LogisticRegression\n",
    "from sklearn.ensemble import RandomForestClassifier\n",
    "from sklearn.svm import SVC\n",
    "from sklearn.tree import DecisionTreeClassifier\n",
    "from sklearn.neighbors import KNeighborsClassifier\n",
    "from sklearn.naive_bayes import GaussianNB\n",
    "import sklearn.metrics as metrics\n",
    "from sklearn.metrics import accuracy_score"
   ]
  },
  {
   "cell_type": "code",
   "execution_count": 11,
   "id": "5224feb0",
   "metadata": {},
   "outputs": [],
   "source": [
    "from sklearn.model_selection import train_test_split"
   ]
  },
  {
   "cell_type": "markdown",
   "id": "97ccfd15",
   "metadata": {},
   "source": [
    "# Anxiety"
   ]
  },
  {
   "cell_type": "code",
   "execution_count": 12,
   "id": "39a2e072",
   "metadata": {},
   "outputs": [],
   "source": [
    "x = df.drop(columns=['Q8','Q9','Q10','Q11','Q12','Q13','Q14','AScore','DScore'],axis=1)\n",
    "y = df['AScore']"
   ]
  },
  {
   "cell_type": "code",
   "execution_count": 13,
   "id": "28f08da3",
   "metadata": {},
   "outputs": [],
   "source": [
    "x_train,x_test,y_train,y_test = train_test_split(x,y,test_size=0.25,random_state=45)"
   ]
  },
  {
   "cell_type": "code",
   "execution_count": 14,
   "id": "3951d13d",
   "metadata": {},
   "outputs": [
    {
     "data": {
      "text/plain": [
       "(1896, 9)"
      ]
     },
     "execution_count": 14,
     "metadata": {},
     "output_type": "execute_result"
    }
   ],
   "source": [
    "x_train.shape"
   ]
  },
  {
   "cell_type": "code",
   "execution_count": 15,
   "id": "c297b26d",
   "metadata": {},
   "outputs": [
    {
     "data": {
      "text/plain": [
       "(633, 9)"
      ]
     },
     "execution_count": 15,
     "metadata": {},
     "output_type": "execute_result"
    }
   ],
   "source": [
    "x_test.shape"
   ]
  },
  {
   "cell_type": "code",
   "execution_count": 16,
   "id": "10defd0b",
   "metadata": {
    "scrolled": true
   },
   "outputs": [
    {
     "name": "stderr",
     "output_type": "stream",
     "text": [
      "C:\\Users\\madhu\\anaconda3\\lib\\site-packages\\sklearn\\linear_model\\_logistic.py:814: ConvergenceWarning: lbfgs failed to converge (status=1):\n",
      "STOP: TOTAL NO. of ITERATIONS REACHED LIMIT.\n",
      "\n",
      "Increase the number of iterations (max_iter) or scale the data as shown in:\n",
      "    https://scikit-learn.org/stable/modules/preprocessing.html\n",
      "Please also refer to the documentation for alternative solver options:\n",
      "    https://scikit-learn.org/stable/modules/linear_model.html#logistic-regression\n",
      "  n_iter_i = _check_optimize_result(\n"
     ]
    },
    {
     "data": {
      "text/plain": [
       "0.2843601895734597"
      ]
     },
     "execution_count": 16,
     "metadata": {},
     "output_type": "execute_result"
    }
   ],
   "source": [
    "model = LogisticRegression()\n",
    "model.fit(x_train, y_train)\n",
    "predicted_output = model.predict(x_test)\n",
    "score=accuracy_score(predicted_output,y_test)\n",
    "score"
   ]
  },
  {
   "cell_type": "code",
   "execution_count": 17,
   "id": "08113991",
   "metadata": {},
   "outputs": [
    {
     "data": {
      "text/plain": [
       "0.6050552922590837"
      ]
     },
     "execution_count": 17,
     "metadata": {},
     "output_type": "execute_result"
    }
   ],
   "source": [
    "model2=RandomForestClassifier()\n",
    "model2.fit(x_train, y_train)\n",
    "preds=model2.predict(x_test)\n",
    "score2=accuracy_score(preds,y_test)\n",
    "score2"
   ]
  },
  {
   "cell_type": "code",
   "execution_count": 18,
   "id": "f2e49e03",
   "metadata": {},
   "outputs": [
    {
     "data": {
      "text/plain": [
       "0.47709320695102686"
      ]
     },
     "execution_count": 18,
     "metadata": {},
     "output_type": "execute_result"
    }
   ],
   "source": [
    "model3=DecisionTreeClassifier()\n",
    "model3.fit(x_train, y_train)\n",
    "pred1=model3.predict(x_test)\n",
    "score3=accuracy_score(pred1,y_test)\n",
    "score3"
   ]
  },
  {
   "cell_type": "code",
   "execution_count": 19,
   "id": "2afd591a",
   "metadata": {},
   "outputs": [
    {
     "data": {
      "text/plain": [
       "0.5466034755134281"
      ]
     },
     "execution_count": 19,
     "metadata": {},
     "output_type": "execute_result"
    }
   ],
   "source": [
    "model4=GaussianNB()\n",
    "model4.fit(x_train, y_train)\n",
    "pred2=model4.predict(x_test)\n",
    "score4=accuracy_score(pred2,y_test)\n",
    "score4"
   ]
  },
  {
   "cell_type": "code",
   "execution_count": 20,
   "id": "a96e7e74",
   "metadata": {},
   "outputs": [
    {
     "name": "stderr",
     "output_type": "stream",
     "text": [
      "C:\\Users\\madhu\\anaconda3\\lib\\site-packages\\sklearn\\neighbors\\_classification.py:228: FutureWarning: Unlike other reduction functions (e.g. `skew`, `kurtosis`), the default behavior of `mode` typically preserves the axis it acts along. In SciPy 1.11.0, this behavior will change: the default value of `keepdims` will become False, the `axis` over which the statistic is taken will be eliminated, and the value None will no longer be accepted. Set `keepdims` to True or False to avoid this warning.\n",
      "  mode, _ = stats.mode(_y[neigh_ind, k], axis=1)\n"
     ]
    },
    {
     "data": {
      "text/plain": [
       "0.2796208530805687"
      ]
     },
     "execution_count": 20,
     "metadata": {},
     "output_type": "execute_result"
    }
   ],
   "source": [
    "model5=KNeighborsClassifier()\n",
    "model5.fit(x_train, y_train)\n",
    "pred3=model5.predict(x_test)\n",
    "score5=accuracy_score(pred3,y_test)\n",
    "score5"
   ]
  },
  {
   "cell_type": "code",
   "execution_count": 21,
   "id": "485b3163",
   "metadata": {},
   "outputs": [
    {
     "data": {
      "text/plain": [
       "0.2812006319115324"
      ]
     },
     "execution_count": 21,
     "metadata": {},
     "output_type": "execute_result"
    }
   ],
   "source": [
    "model6=SVC()\n",
    "model6.fit(x_train, y_train)\n",
    "pred4=model6.predict(x_test)\n",
    "score6=accuracy_score(pred4,y_test)\n",
    "score6"
   ]
  },
  {
   "cell_type": "code",
   "execution_count": 22,
   "id": "1a23c7d0",
   "metadata": {},
   "outputs": [
    {
     "name": "stderr",
     "output_type": "stream",
     "text": [
      "C:\\Users\\madhu\\anaconda3\\lib\\site-packages\\sklearn\\base.py:450: UserWarning: X does not have valid feature names, but GaussianNB was fitted with feature names\n",
      "  warnings.warn(\n"
     ]
    },
    {
     "data": {
      "text/plain": [
       "array([20], dtype=int64)"
      ]
     },
     "execution_count": 22,
     "metadata": {},
     "output_type": "execute_result"
    }
   ],
   "source": [
    "input_new=[21,1,1,0,2,3,1,3,2]\n",
    "result=model4.predict([input_new])\n",
    "result"
   ]
  },
  {
   "cell_type": "code",
   "execution_count": 23,
   "id": "48799374",
   "metadata": {},
   "outputs": [
    {
     "name": "stderr",
     "output_type": "stream",
     "text": [
      "C:\\Users\\madhu\\anaconda3\\lib\\site-packages\\sklearn\\base.py:450: UserWarning: X does not have valid feature names, but DecisionTreeClassifier was fitted with feature names\n",
      "  warnings.warn(\n"
     ]
    },
    {
     "data": {
      "text/plain": [
       "array([20], dtype=int64)"
      ]
     },
     "execution_count": 23,
     "metadata": {},
     "output_type": "execute_result"
    }
   ],
   "source": [
    "input_new=[19,0,1,1,3,2,0,3,3]\n",
    "result1=model3.predict([input_new])\n",
    "result1"
   ]
  },
  {
   "cell_type": "code",
   "execution_count": 24,
   "id": "9165e271",
   "metadata": {},
   "outputs": [
    {
     "name": "stderr",
     "output_type": "stream",
     "text": [
      "C:\\Users\\madhu\\anaconda3\\lib\\site-packages\\sklearn\\base.py:450: UserWarning: X does not have valid feature names, but DecisionTreeClassifier was fitted with feature names\n",
      "  warnings.warn(\n"
     ]
    },
    {
     "data": {
      "text/plain": [
       "array([20], dtype=int64)"
      ]
     },
     "execution_count": 24,
     "metadata": {},
     "output_type": "execute_result"
    }
   ],
   "source": [
    "input_new=[20,1,1,2,3,2,0,1,2]\n",
    "result2=model3.predict([input_new])\n",
    "result2"
   ]
  },
  {
   "cell_type": "code",
   "execution_count": 25,
   "id": "9d26100f",
   "metadata": {
    "scrolled": true
   },
   "outputs": [
    {
     "name": "stdout",
     "output_type": "stream",
     "text": [
      "Precision: 0.3333333333333333\n"
     ]
    }
   ],
   "source": [
    "from sklearn.metrics import precision_score\n",
    "\n",
    "# True labels\n",
    "y_true = [24, 26, 22]\n",
    "\n",
    "# Predicted labels\n",
    "y_pred = [22, 26, 24]\n",
    "\n",
    "# Calculate precision\n",
    "precision = precision_score(y_true, y_pred, average='micro')  # Choose an appropriate average setting\n",
    "\n",
    "# Print the precision\n",
    "print('Precision:', precision)\n"
   ]
  },
  {
   "cell_type": "markdown",
   "id": "5e36a5b9",
   "metadata": {},
   "source": [
    "# Depression"
   ]
  },
  {
   "cell_type": "code",
   "execution_count": 26,
   "id": "21b5fdf1",
   "metadata": {},
   "outputs": [],
   "source": [
    "u = df.drop(columns=['Q1','Q2','Q3','Q4','Q5','Q6','Q7','AScore','DScore'],axis=1)\n",
    "v = df['DScore']"
   ]
  },
  {
   "cell_type": "code",
   "execution_count": 27,
   "id": "85a01feb",
   "metadata": {},
   "outputs": [],
   "source": [
    "u_train,u_test,v_train,v_test = train_test_split(u,v,test_size=0.25,random_state=0)"
   ]
  },
  {
   "cell_type": "code",
   "execution_count": 28,
   "id": "b7fcb277",
   "metadata": {},
   "outputs": [
    {
     "data": {
      "text/plain": [
       "(1896, 9)"
      ]
     },
     "execution_count": 28,
     "metadata": {},
     "output_type": "execute_result"
    }
   ],
   "source": [
    "u_train.shape"
   ]
  },
  {
   "cell_type": "code",
   "execution_count": 29,
   "id": "94aad7e3",
   "metadata": {},
   "outputs": [
    {
     "data": {
      "text/plain": [
       "(633, 9)"
      ]
     },
     "execution_count": 29,
     "metadata": {},
     "output_type": "execute_result"
    }
   ],
   "source": [
    "u_test.shape"
   ]
  },
  {
   "cell_type": "code",
   "execution_count": 30,
   "id": "fd46abf3",
   "metadata": {},
   "outputs": [
    {
     "name": "stderr",
     "output_type": "stream",
     "text": [
      "C:\\Users\\madhu\\anaconda3\\lib\\site-packages\\sklearn\\linear_model\\_logistic.py:814: ConvergenceWarning: lbfgs failed to converge (status=1):\n",
      "STOP: TOTAL NO. of ITERATIONS REACHED LIMIT.\n",
      "\n",
      "Increase the number of iterations (max_iter) or scale the data as shown in:\n",
      "    https://scikit-learn.org/stable/modules/preprocessing.html\n",
      "Please also refer to the documentation for alternative solver options:\n",
      "    https://scikit-learn.org/stable/modules/linear_model.html#logistic-regression\n",
      "  n_iter_i = _check_optimize_result(\n"
     ]
    },
    {
     "data": {
      "text/plain": [
       "0.25908372827804105"
      ]
     },
     "execution_count": 30,
     "metadata": {},
     "output_type": "execute_result"
    }
   ],
   "source": [
    "d_model = LogisticRegression()\n",
    "d_model.fit(u_train, v_train)\n",
    "d_predicted_output = d_model.predict(u_test)\n",
    "d_score=accuracy_score(d_predicted_output,v_test)\n",
    "d_score"
   ]
  },
  {
   "cell_type": "code",
   "execution_count": 31,
   "id": "e57bb460",
   "metadata": {},
   "outputs": [
    {
     "data": {
      "text/plain": [
       "0.5860979462875198"
      ]
     },
     "execution_count": 31,
     "metadata": {},
     "output_type": "execute_result"
    }
   ],
   "source": [
    "d_model2=RandomForestClassifier()\n",
    "d_model2.fit(u_train, v_train)\n",
    "d_preds=d_model2.predict(u_test)\n",
    "d_score2=accuracy_score(d_preds,v_test)\n",
    "d_score2"
   ]
  },
  {
   "cell_type": "code",
   "execution_count": 32,
   "id": "53b6c517",
   "metadata": {},
   "outputs": [
    {
     "data": {
      "text/plain": [
       "0.4755134281200632"
      ]
     },
     "execution_count": 32,
     "metadata": {},
     "output_type": "execute_result"
    }
   ],
   "source": [
    "d_model3=DecisionTreeClassifier()\n",
    "d_model3.fit(u_train, v_train)\n",
    "d_pred1=d_model3.predict(u_test)\n",
    "d_score3=accuracy_score(d_pred1,v_test)\n",
    "d_score3"
   ]
  },
  {
   "cell_type": "code",
   "execution_count": 33,
   "id": "f004db29",
   "metadata": {},
   "outputs": [
    {
     "data": {
      "text/plain": [
       "0.4218009478672986"
      ]
     },
     "execution_count": 33,
     "metadata": {},
     "output_type": "execute_result"
    }
   ],
   "source": [
    "d_model4=GaussianNB()\n",
    "d_model4.fit(u_train, v_train)\n",
    "d_pred2=d_model4.predict(u_test)\n",
    "d_score4=accuracy_score(d_pred2,v_test)\n",
    "d_score4"
   ]
  },
  {
   "cell_type": "code",
   "execution_count": 34,
   "id": "a347a402",
   "metadata": {},
   "outputs": [
    {
     "name": "stderr",
     "output_type": "stream",
     "text": [
      "C:\\Users\\madhu\\anaconda3\\lib\\site-packages\\sklearn\\neighbors\\_classification.py:228: FutureWarning: Unlike other reduction functions (e.g. `skew`, `kurtosis`), the default behavior of `mode` typically preserves the axis it acts along. In SciPy 1.11.0, this behavior will change: the default value of `keepdims` will become False, the `axis` over which the statistic is taken will be eliminated, and the value None will no longer be accepted. Set `keepdims` to True or False to avoid this warning.\n",
      "  mode, _ = stats.mode(_y[neigh_ind, k], axis=1)\n"
     ]
    },
    {
     "data": {
      "text/plain": [
       "0.2859399684044234"
      ]
     },
     "execution_count": 34,
     "metadata": {},
     "output_type": "execute_result"
    }
   ],
   "source": [
    "d_model5=KNeighborsClassifier()\n",
    "d_model5.fit(u_train, v_train)\n",
    "d_pred3=d_model5.predict(u_test)\n",
    "d_score5=accuracy_score(d_pred3,v_test)\n",
    "d_score5"
   ]
  },
  {
   "cell_type": "code",
   "execution_count": 35,
   "id": "24d9e850",
   "metadata": {},
   "outputs": [
    {
     "data": {
      "text/plain": [
       "0.2685624012638231"
      ]
     },
     "execution_count": 35,
     "metadata": {},
     "output_type": "execute_result"
    }
   ],
   "source": [
    "d_model6=SVC()\n",
    "d_model6.fit(u_train, v_train)\n",
    "d_pred4=d_model6.predict(u_test)\n",
    "d_score6=accuracy_score(d_pred4,v_test)\n",
    "d_score6"
   ]
  },
  {
   "cell_type": "code",
   "execution_count": 36,
   "id": "5e7aa414",
   "metadata": {},
   "outputs": [
    {
     "name": "stderr",
     "output_type": "stream",
     "text": [
      "C:\\Users\\madhu\\anaconda3\\lib\\site-packages\\sklearn\\base.py:450: UserWarning: X does not have valid feature names, but DecisionTreeClassifier was fitted with feature names\n",
      "  warnings.warn(\n"
     ]
    },
    {
     "data": {
      "text/plain": [
       "array([20], dtype=int64)"
      ]
     },
     "execution_count": 36,
     "metadata": {},
     "output_type": "execute_result"
    }
   ],
   "source": [
    "d_input_new=[21,1,1,0,2,3,1,3,2]\n",
    "d_result=d_model3.predict([d_input_new])\n",
    "d_result"
   ]
  },
  {
   "cell_type": "code",
   "execution_count": null,
   "id": "60f5ea2b",
   "metadata": {},
   "outputs": [],
   "source": []
  }
 ],
 "metadata": {
  "kernelspec": {
   "display_name": "Python 3 (ipykernel)",
   "language": "python",
   "name": "python3"
  },
  "language_info": {
   "codemirror_mode": {
    "name": "ipython",
    "version": 3
   },
   "file_extension": ".py",
   "mimetype": "text/x-python",
   "name": "python",
   "nbconvert_exporter": "python",
   "pygments_lexer": "ipython3",
   "version": "3.9.12"
  }
 },
 "nbformat": 4,
 "nbformat_minor": 5
}
