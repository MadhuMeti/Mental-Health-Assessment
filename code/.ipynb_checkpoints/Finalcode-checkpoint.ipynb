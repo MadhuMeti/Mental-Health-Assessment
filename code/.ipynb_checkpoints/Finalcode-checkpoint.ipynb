{
 "cells": [
  {
   "cell_type": "code",
   "execution_count": 1,
   "metadata": {
    "id": "KinJGifZ2vpx"
   },
   "outputs": [],
   "source": [
    "import numpy as np\n",
    "import pandas as pd\n",
    "import seaborn as sns\n",
    "from sklearn import preprocessing\n",
    "import matplotlib.pyplot as plt"
   ]
  },
  {
   "cell_type": "code",
   "execution_count": 2,
   "metadata": {
    "id": "8t4uHrMO27rP"
   },
   "outputs": [],
   "source": [
    "data=pd.read_csv('data5.csv')"
   ]
  },
  {
   "cell_type": "code",
   "execution_count": 3,
   "metadata": {
    "colab": {
     "base_uri": "https://localhost:8080/",
     "height": 399
    },
    "executionInfo": {
     "elapsed": 30,
     "status": "ok",
     "timestamp": 1703121864399,
     "user": {
      "displayName": "Manthesh L",
      "userId": "04646793550545002401"
     },
     "user_tz": -330
    },
    "id": "vYQZ-Vnw3Cmy",
    "outputId": "84421f9e-2e0d-4a30-e7dd-bc6bdbd6d353"
   },
   "outputs": [
    {
     "data": {
      "text/html": [
       "<div>\n",
       "<style scoped>\n",
       "    .dataframe tbody tr th:only-of-type {\n",
       "        vertical-align: middle;\n",
       "    }\n",
       "\n",
       "    .dataframe tbody tr th {\n",
       "        vertical-align: top;\n",
       "    }\n",
       "\n",
       "    .dataframe thead th {\n",
       "        text-align: right;\n",
       "    }\n",
       "</style>\n",
       "<table border=\"1\" class=\"dataframe\">\n",
       "  <thead>\n",
       "    <tr style=\"text-align: right;\">\n",
       "      <th></th>\n",
       "      <th>Age</th>\n",
       "      <th>Gender</th>\n",
       "      <th>Dryness in mouth. (Since 1 month)</th>\n",
       "      <th>Difficulty in breathing. (Since 1 month)</th>\n",
       "      <th>Experience trembling. (Since 1 month)</th>\n",
       "      <th>Worried about panic and make a fool of themselves. (Since 1 month)</th>\n",
       "      <th>Close to panic. (Since 1 month)</th>\n",
       "      <th>Aware of the action of the heart in the absence of physical exertion. (Since 1 month)</th>\n",
       "      <th>Felt scared without any good reason. (Since 1 month)</th>\n",
       "      <th>Difficult to work up the initiative to do things. (Since 1 month)</th>\n",
       "      <th>Couldn't experience the positive feeling. (Since 1 month)</th>\n",
       "      <th>Nothing to look forward. (Since 1 month)</th>\n",
       "      <th>Felt down hearted and blue. (Since 1 month)</th>\n",
       "      <th>Unable to become enthusiastic. (Since 1 month)</th>\n",
       "      <th>Felt wasn't worth much as person. (Since 1 month)</th>\n",
       "      <th>Felt life was meaningless. (Since 1 month)</th>\n",
       "      <th>AScore</th>\n",
       "      <th>DScore</th>\n",
       "    </tr>\n",
       "  </thead>\n",
       "  <tbody>\n",
       "    <tr>\n",
       "      <th>0</th>\n",
       "      <td>26</td>\n",
       "      <td>Female</td>\n",
       "      <td>0</td>\n",
       "      <td>3</td>\n",
       "      <td>1</td>\n",
       "      <td>2</td>\n",
       "      <td>1</td>\n",
       "      <td>3</td>\n",
       "      <td>0</td>\n",
       "      <td>0</td>\n",
       "      <td>2</td>\n",
       "      <td>1</td>\n",
       "      <td>1</td>\n",
       "      <td>0</td>\n",
       "      <td>0</td>\n",
       "      <td>0</td>\n",
       "      <td>20</td>\n",
       "      <td>8</td>\n",
       "    </tr>\n",
       "    <tr>\n",
       "      <th>1</th>\n",
       "      <td>23</td>\n",
       "      <td>Female</td>\n",
       "      <td>0</td>\n",
       "      <td>0</td>\n",
       "      <td>2</td>\n",
       "      <td>2</td>\n",
       "      <td>3</td>\n",
       "      <td>1</td>\n",
       "      <td>2</td>\n",
       "      <td>0</td>\n",
       "      <td>3</td>\n",
       "      <td>1</td>\n",
       "      <td>0</td>\n",
       "      <td>2</td>\n",
       "      <td>3</td>\n",
       "      <td>1</td>\n",
       "      <td>20</td>\n",
       "      <td>20</td>\n",
       "    </tr>\n",
       "    <tr>\n",
       "      <th>2</th>\n",
       "      <td>23</td>\n",
       "      <td>Male</td>\n",
       "      <td>0</td>\n",
       "      <td>3</td>\n",
       "      <td>1</td>\n",
       "      <td>2</td>\n",
       "      <td>3</td>\n",
       "      <td>3</td>\n",
       "      <td>0</td>\n",
       "      <td>0</td>\n",
       "      <td>1</td>\n",
       "      <td>2</td>\n",
       "      <td>2</td>\n",
       "      <td>3</td>\n",
       "      <td>3</td>\n",
       "      <td>3</td>\n",
       "      <td>24</td>\n",
       "      <td>28</td>\n",
       "    </tr>\n",
       "    <tr>\n",
       "      <th>3</th>\n",
       "      <td>25</td>\n",
       "      <td>Male</td>\n",
       "      <td>0</td>\n",
       "      <td>3</td>\n",
       "      <td>3</td>\n",
       "      <td>1</td>\n",
       "      <td>1</td>\n",
       "      <td>2</td>\n",
       "      <td>2</td>\n",
       "      <td>0</td>\n",
       "      <td>0</td>\n",
       "      <td>2</td>\n",
       "      <td>2</td>\n",
       "      <td>0</td>\n",
       "      <td>3</td>\n",
       "      <td>3</td>\n",
       "      <td>24</td>\n",
       "      <td>20</td>\n",
       "    </tr>\n",
       "    <tr>\n",
       "      <th>4</th>\n",
       "      <td>19</td>\n",
       "      <td>Female</td>\n",
       "      <td>0</td>\n",
       "      <td>1</td>\n",
       "      <td>1</td>\n",
       "      <td>3</td>\n",
       "      <td>0</td>\n",
       "      <td>3</td>\n",
       "      <td>0</td>\n",
       "      <td>0</td>\n",
       "      <td>2</td>\n",
       "      <td>1</td>\n",
       "      <td>0</td>\n",
       "      <td>2</td>\n",
       "      <td>1</td>\n",
       "      <td>0</td>\n",
       "      <td>16</td>\n",
       "      <td>12</td>\n",
       "    </tr>\n",
       "  </tbody>\n",
       "</table>\n",
       "</div>"
      ],
      "text/plain": [
       "   Age  Gender  Dryness in mouth. (Since 1 month)  \\\n",
       "0   26  Female                                  0   \n",
       "1   23  Female                                  0   \n",
       "2   23    Male                                  0   \n",
       "3   25    Male                                  0   \n",
       "4   19  Female                                  0   \n",
       "\n",
       "   Difficulty in breathing. (Since 1 month)  \\\n",
       "0                                         3   \n",
       "1                                         0   \n",
       "2                                         3   \n",
       "3                                         3   \n",
       "4                                         1   \n",
       "\n",
       "   Experience trembling. (Since 1 month)  \\\n",
       "0                                      1   \n",
       "1                                      2   \n",
       "2                                      1   \n",
       "3                                      3   \n",
       "4                                      1   \n",
       "\n",
       "   Worried about panic and make a fool of themselves. (Since 1 month)  \\\n",
       "0                                                  2                    \n",
       "1                                                  2                    \n",
       "2                                                  2                    \n",
       "3                                                  1                    \n",
       "4                                                  3                    \n",
       "\n",
       "   Close to panic. (Since 1 month)  \\\n",
       "0                                1   \n",
       "1                                3   \n",
       "2                                3   \n",
       "3                                1   \n",
       "4                                0   \n",
       "\n",
       "   Aware of the action of the heart in the absence of physical exertion. (Since 1 month)  \\\n",
       "0                                                  3                                       \n",
       "1                                                  1                                       \n",
       "2                                                  3                                       \n",
       "3                                                  2                                       \n",
       "4                                                  3                                       \n",
       "\n",
       "   Felt scared without any good reason. (Since 1 month)  \\\n",
       "0                                                  0      \n",
       "1                                                  2      \n",
       "2                                                  0      \n",
       "3                                                  2      \n",
       "4                                                  0      \n",
       "\n",
       "   Difficult to work up the initiative to do things. (Since 1 month)  \\\n",
       "0                                                  0                   \n",
       "1                                                  0                   \n",
       "2                                                  0                   \n",
       "3                                                  0                   \n",
       "4                                                  0                   \n",
       "\n",
       "   Couldn't experience the positive feeling. (Since 1 month)  \\\n",
       "0                                                  2           \n",
       "1                                                  3           \n",
       "2                                                  1           \n",
       "3                                                  0           \n",
       "4                                                  2           \n",
       "\n",
       "   Nothing to look forward. (Since 1 month)  \\\n",
       "0                                         1   \n",
       "1                                         1   \n",
       "2                                         2   \n",
       "3                                         2   \n",
       "4                                         1   \n",
       "\n",
       "   Felt down hearted and blue. (Since 1 month)  \\\n",
       "0                                            1   \n",
       "1                                            0   \n",
       "2                                            2   \n",
       "3                                            2   \n",
       "4                                            0   \n",
       "\n",
       "   Unable to become enthusiastic. (Since 1 month)  \\\n",
       "0                                               0   \n",
       "1                                               2   \n",
       "2                                               3   \n",
       "3                                               0   \n",
       "4                                               2   \n",
       "\n",
       "   Felt wasn't worth much as person. (Since 1 month)  \\\n",
       "0                                                  0   \n",
       "1                                                  3   \n",
       "2                                                  3   \n",
       "3                                                  3   \n",
       "4                                                  1   \n",
       "\n",
       "   Felt life was meaningless. (Since 1 month)  AScore  DScore  \n",
       "0                                           0      20       8  \n",
       "1                                           1      20      20  \n",
       "2                                           3      24      28  \n",
       "3                                           3      24      20  \n",
       "4                                           0      16      12  "
      ]
     },
     "execution_count": 3,
     "metadata": {},
     "output_type": "execute_result"
    }
   ],
   "source": [
    "data.head()"
   ]
  },
  {
   "cell_type": "code",
   "execution_count": 4,
   "metadata": {
    "colab": {
     "base_uri": "https://localhost:8080/"
    },
    "executionInfo": {
     "elapsed": 19,
     "status": "ok",
     "timestamp": 1703121866006,
     "user": {
      "displayName": "Manthesh L",
      "userId": "04646793550545002401"
     },
     "user_tz": -330
    },
    "id": "U7GaJJS73JDo",
    "outputId": "b90a6422-2720-45b3-ce3d-73a55ad8db43"
   },
   "outputs": [
    {
     "data": {
      "text/plain": [
       "(4978, 18)"
      ]
     },
     "execution_count": 4,
     "metadata": {},
     "output_type": "execute_result"
    }
   ],
   "source": [
    "data.shape"
   ]
  },
  {
   "cell_type": "code",
   "execution_count": 5,
   "metadata": {
    "colab": {
     "base_uri": "https://localhost:8080/"
    },
    "executionInfo": {
     "elapsed": 17,
     "status": "ok",
     "timestamp": 1703121867233,
     "user": {
      "displayName": "Manthesh L",
      "userId": "04646793550545002401"
     },
     "user_tz": -330
    },
    "id": "7aApSCee3Ndm",
    "outputId": "8541fd2b-8d54-4663-d552-45c454b46aa1"
   },
   "outputs": [
    {
     "name": "stdout",
     "output_type": "stream",
     "text": [
      "<class 'pandas.core.frame.DataFrame'>\n",
      "RangeIndex: 4978 entries, 0 to 4977\n",
      "Data columns (total 18 columns):\n",
      " #   Column                                                                                 Non-Null Count  Dtype \n",
      "---  ------                                                                                 --------------  ----- \n",
      " 0   Age                                                                                    4978 non-null   int64 \n",
      " 1   Gender                                                                                 4978 non-null   object\n",
      " 2   Dryness in mouth. (Since 1 month)                                                      4978 non-null   int64 \n",
      " 3   Difficulty in breathing. (Since 1 month)                                               4978 non-null   int64 \n",
      " 4   Experience trembling. (Since 1 month)                                                  4978 non-null   int64 \n",
      " 5   Worried about panic and make a fool of themselves. (Since 1 month)                     4978 non-null   int64 \n",
      " 6   Close to panic. (Since 1 month)                                                        4978 non-null   int64 \n",
      " 7   Aware of the action of the heart in the absence of physical exertion. (Since 1 month)  4978 non-null   int64 \n",
      " 8   Felt scared without any good reason. (Since 1 month)                                   4978 non-null   int64 \n",
      " 9   Difficult to work up the initiative to do things. (Since 1 month)                      4978 non-null   int64 \n",
      " 10  Couldn't experience the positive feeling. (Since 1 month)                              4978 non-null   int64 \n",
      " 11  Nothing to look forward. (Since 1 month)                                               4978 non-null   int64 \n",
      " 12  Felt down hearted and blue. (Since 1 month)                                            4978 non-null   int64 \n",
      " 13  Unable to become enthusiastic. (Since 1 month)                                         4978 non-null   int64 \n",
      " 14  Felt wasn't worth much as person. (Since 1 month)                                      4978 non-null   int64 \n",
      " 15  Felt life was meaningless. (Since 1 month)                                             4978 non-null   int64 \n",
      " 16  AScore                                                                                 4978 non-null   int64 \n",
      " 17  DScore                                                                                 4978 non-null   int64 \n",
      "dtypes: int64(17), object(1)\n",
      "memory usage: 700.2+ KB\n"
     ]
    }
   ],
   "source": [
    "data.info()"
   ]
  },
  {
   "cell_type": "code",
   "execution_count": 6,
   "metadata": {
    "id": "YEoEj0_v3SKM"
   },
   "outputs": [],
   "source": [
    "df = data[['Age','Gender','Dryness in mouth. (Since 1 month)', 'Difficulty in breathing. (Since 1 month)', 'Experience trembling. (Since 1 month)',\n",
    "       'Worried about panic and make a fool of themselves. (Since 1 month)', 'Close to panic. (Since 1 month)', 'Aware of the action of the heart in the absence of physical exertion. (Since 1 month)', 'Felt scared without any good reason. (Since 1 month)',\n",
    "       'Difficult to work up the initiative to do things. (Since 1 month)',\"Couldn't experience the positive feeling. (Since 1 month)\",'Nothing to look forward. (Since 1 month)','Felt down hearted and blue. (Since 1 month)','Unable to become enthusiastic. (Since 1 month)',\"Felt wasn't worth much as person. (Since 1 month)\",'Felt life was meaningless. (Since 1 month)','AScore','DScore']]"
   ]
  },
  {
   "cell_type": "code",
   "execution_count": 7,
   "metadata": {
    "colab": {
     "base_uri": "https://localhost:8080/",
     "height": 617
    },
    "executionInfo": {
     "elapsed": 10,
     "status": "ok",
     "timestamp": 1703121869777,
     "user": {
      "displayName": "Manthesh L",
      "userId": "04646793550545002401"
     },
     "user_tz": -330
    },
    "id": "5DEC5UDN3a8o",
    "outputId": "7fef69fa-6f0d-44e0-abe7-6f7d84e49712"
   },
   "outputs": [
    {
     "data": {
      "text/html": [
       "<div>\n",
       "<style scoped>\n",
       "    .dataframe tbody tr th:only-of-type {\n",
       "        vertical-align: middle;\n",
       "    }\n",
       "\n",
       "    .dataframe tbody tr th {\n",
       "        vertical-align: top;\n",
       "    }\n",
       "\n",
       "    .dataframe thead th {\n",
       "        text-align: right;\n",
       "    }\n",
       "</style>\n",
       "<table border=\"1\" class=\"dataframe\">\n",
       "  <thead>\n",
       "    <tr style=\"text-align: right;\">\n",
       "      <th></th>\n",
       "      <th>Age</th>\n",
       "      <th>Gender</th>\n",
       "      <th>Dryness in mouth. (Since 1 month)</th>\n",
       "      <th>Difficulty in breathing. (Since 1 month)</th>\n",
       "      <th>Experience trembling. (Since 1 month)</th>\n",
       "      <th>Worried about panic and make a fool of themselves. (Since 1 month)</th>\n",
       "      <th>Close to panic. (Since 1 month)</th>\n",
       "      <th>Aware of the action of the heart in the absence of physical exertion. (Since 1 month)</th>\n",
       "      <th>Felt scared without any good reason. (Since 1 month)</th>\n",
       "      <th>Difficult to work up the initiative to do things. (Since 1 month)</th>\n",
       "      <th>Couldn't experience the positive feeling. (Since 1 month)</th>\n",
       "      <th>Nothing to look forward. (Since 1 month)</th>\n",
       "      <th>Felt down hearted and blue. (Since 1 month)</th>\n",
       "      <th>Unable to become enthusiastic. (Since 1 month)</th>\n",
       "      <th>Felt wasn't worth much as person. (Since 1 month)</th>\n",
       "      <th>Felt life was meaningless. (Since 1 month)</th>\n",
       "      <th>AScore</th>\n",
       "      <th>DScore</th>\n",
       "    </tr>\n",
       "  </thead>\n",
       "  <tbody>\n",
       "    <tr>\n",
       "      <th>0</th>\n",
       "      <td>26</td>\n",
       "      <td>Female</td>\n",
       "      <td>0</td>\n",
       "      <td>3</td>\n",
       "      <td>1</td>\n",
       "      <td>2</td>\n",
       "      <td>1</td>\n",
       "      <td>3</td>\n",
       "      <td>0</td>\n",
       "      <td>0</td>\n",
       "      <td>2</td>\n",
       "      <td>1</td>\n",
       "      <td>1</td>\n",
       "      <td>0</td>\n",
       "      <td>0</td>\n",
       "      <td>0</td>\n",
       "      <td>20</td>\n",
       "      <td>8</td>\n",
       "    </tr>\n",
       "    <tr>\n",
       "      <th>1</th>\n",
       "      <td>23</td>\n",
       "      <td>Female</td>\n",
       "      <td>0</td>\n",
       "      <td>0</td>\n",
       "      <td>2</td>\n",
       "      <td>2</td>\n",
       "      <td>3</td>\n",
       "      <td>1</td>\n",
       "      <td>2</td>\n",
       "      <td>0</td>\n",
       "      <td>3</td>\n",
       "      <td>1</td>\n",
       "      <td>0</td>\n",
       "      <td>2</td>\n",
       "      <td>3</td>\n",
       "      <td>1</td>\n",
       "      <td>20</td>\n",
       "      <td>20</td>\n",
       "    </tr>\n",
       "    <tr>\n",
       "      <th>2</th>\n",
       "      <td>23</td>\n",
       "      <td>Male</td>\n",
       "      <td>0</td>\n",
       "      <td>3</td>\n",
       "      <td>1</td>\n",
       "      <td>2</td>\n",
       "      <td>3</td>\n",
       "      <td>3</td>\n",
       "      <td>0</td>\n",
       "      <td>0</td>\n",
       "      <td>1</td>\n",
       "      <td>2</td>\n",
       "      <td>2</td>\n",
       "      <td>3</td>\n",
       "      <td>3</td>\n",
       "      <td>3</td>\n",
       "      <td>24</td>\n",
       "      <td>28</td>\n",
       "    </tr>\n",
       "    <tr>\n",
       "      <th>3</th>\n",
       "      <td>25</td>\n",
       "      <td>Male</td>\n",
       "      <td>0</td>\n",
       "      <td>3</td>\n",
       "      <td>3</td>\n",
       "      <td>1</td>\n",
       "      <td>1</td>\n",
       "      <td>2</td>\n",
       "      <td>2</td>\n",
       "      <td>0</td>\n",
       "      <td>0</td>\n",
       "      <td>2</td>\n",
       "      <td>2</td>\n",
       "      <td>0</td>\n",
       "      <td>3</td>\n",
       "      <td>3</td>\n",
       "      <td>24</td>\n",
       "      <td>20</td>\n",
       "    </tr>\n",
       "    <tr>\n",
       "      <th>4</th>\n",
       "      <td>19</td>\n",
       "      <td>Female</td>\n",
       "      <td>0</td>\n",
       "      <td>1</td>\n",
       "      <td>1</td>\n",
       "      <td>3</td>\n",
       "      <td>0</td>\n",
       "      <td>3</td>\n",
       "      <td>0</td>\n",
       "      <td>0</td>\n",
       "      <td>2</td>\n",
       "      <td>1</td>\n",
       "      <td>0</td>\n",
       "      <td>2</td>\n",
       "      <td>1</td>\n",
       "      <td>0</td>\n",
       "      <td>16</td>\n",
       "      <td>12</td>\n",
       "    </tr>\n",
       "    <tr>\n",
       "      <th>...</th>\n",
       "      <td>...</td>\n",
       "      <td>...</td>\n",
       "      <td>...</td>\n",
       "      <td>...</td>\n",
       "      <td>...</td>\n",
       "      <td>...</td>\n",
       "      <td>...</td>\n",
       "      <td>...</td>\n",
       "      <td>...</td>\n",
       "      <td>...</td>\n",
       "      <td>...</td>\n",
       "      <td>...</td>\n",
       "      <td>...</td>\n",
       "      <td>...</td>\n",
       "      <td>...</td>\n",
       "      <td>...</td>\n",
       "      <td>...</td>\n",
       "      <td>...</td>\n",
       "    </tr>\n",
       "    <tr>\n",
       "      <th>4973</th>\n",
       "      <td>23</td>\n",
       "      <td>Male</td>\n",
       "      <td>1</td>\n",
       "      <td>1</td>\n",
       "      <td>2</td>\n",
       "      <td>1</td>\n",
       "      <td>1</td>\n",
       "      <td>2</td>\n",
       "      <td>2</td>\n",
       "      <td>2</td>\n",
       "      <td>2</td>\n",
       "      <td>1</td>\n",
       "      <td>1</td>\n",
       "      <td>2</td>\n",
       "      <td>2</td>\n",
       "      <td>2</td>\n",
       "      <td>20</td>\n",
       "      <td>24</td>\n",
       "    </tr>\n",
       "    <tr>\n",
       "      <th>4974</th>\n",
       "      <td>17</td>\n",
       "      <td>Female</td>\n",
       "      <td>1</td>\n",
       "      <td>1</td>\n",
       "      <td>1</td>\n",
       "      <td>2</td>\n",
       "      <td>1</td>\n",
       "      <td>2</td>\n",
       "      <td>2</td>\n",
       "      <td>2</td>\n",
       "      <td>1</td>\n",
       "      <td>2</td>\n",
       "      <td>1</td>\n",
       "      <td>2</td>\n",
       "      <td>1</td>\n",
       "      <td>1</td>\n",
       "      <td>20</td>\n",
       "      <td>20</td>\n",
       "    </tr>\n",
       "    <tr>\n",
       "      <th>4975</th>\n",
       "      <td>20</td>\n",
       "      <td>Male</td>\n",
       "      <td>1</td>\n",
       "      <td>2</td>\n",
       "      <td>2</td>\n",
       "      <td>1</td>\n",
       "      <td>1</td>\n",
       "      <td>1</td>\n",
       "      <td>2</td>\n",
       "      <td>2</td>\n",
       "      <td>2</td>\n",
       "      <td>2</td>\n",
       "      <td>2</td>\n",
       "      <td>1</td>\n",
       "      <td>2</td>\n",
       "      <td>1</td>\n",
       "      <td>20</td>\n",
       "      <td>24</td>\n",
       "    </tr>\n",
       "    <tr>\n",
       "      <th>4976</th>\n",
       "      <td>18</td>\n",
       "      <td>Male</td>\n",
       "      <td>1</td>\n",
       "      <td>1</td>\n",
       "      <td>1</td>\n",
       "      <td>1</td>\n",
       "      <td>2</td>\n",
       "      <td>2</td>\n",
       "      <td>2</td>\n",
       "      <td>2</td>\n",
       "      <td>1</td>\n",
       "      <td>2</td>\n",
       "      <td>2</td>\n",
       "      <td>1</td>\n",
       "      <td>2</td>\n",
       "      <td>2</td>\n",
       "      <td>20</td>\n",
       "      <td>24</td>\n",
       "    </tr>\n",
       "    <tr>\n",
       "      <th>4977</th>\n",
       "      <td>26</td>\n",
       "      <td>Male</td>\n",
       "      <td>1</td>\n",
       "      <td>2</td>\n",
       "      <td>2</td>\n",
       "      <td>2</td>\n",
       "      <td>1</td>\n",
       "      <td>1</td>\n",
       "      <td>1</td>\n",
       "      <td>2</td>\n",
       "      <td>1</td>\n",
       "      <td>1</td>\n",
       "      <td>1</td>\n",
       "      <td>1</td>\n",
       "      <td>1</td>\n",
       "      <td>1</td>\n",
       "      <td>20</td>\n",
       "      <td>16</td>\n",
       "    </tr>\n",
       "  </tbody>\n",
       "</table>\n",
       "<p>4978 rows × 18 columns</p>\n",
       "</div>"
      ],
      "text/plain": [
       "      Age  Gender  Dryness in mouth. (Since 1 month)  \\\n",
       "0      26  Female                                  0   \n",
       "1      23  Female                                  0   \n",
       "2      23    Male                                  0   \n",
       "3      25    Male                                  0   \n",
       "4      19  Female                                  0   \n",
       "...   ...     ...                                ...   \n",
       "4973   23    Male                                  1   \n",
       "4974   17  Female                                  1   \n",
       "4975   20    Male                                  1   \n",
       "4976   18    Male                                  1   \n",
       "4977   26    Male                                  1   \n",
       "\n",
       "      Difficulty in breathing. (Since 1 month)  \\\n",
       "0                                            3   \n",
       "1                                            0   \n",
       "2                                            3   \n",
       "3                                            3   \n",
       "4                                            1   \n",
       "...                                        ...   \n",
       "4973                                         1   \n",
       "4974                                         1   \n",
       "4975                                         2   \n",
       "4976                                         1   \n",
       "4977                                         2   \n",
       "\n",
       "      Experience trembling. (Since 1 month)  \\\n",
       "0                                         1   \n",
       "1                                         2   \n",
       "2                                         1   \n",
       "3                                         3   \n",
       "4                                         1   \n",
       "...                                     ...   \n",
       "4973                                      2   \n",
       "4974                                      1   \n",
       "4975                                      2   \n",
       "4976                                      1   \n",
       "4977                                      2   \n",
       "\n",
       "      Worried about panic and make a fool of themselves. (Since 1 month)  \\\n",
       "0                                                     2                    \n",
       "1                                                     2                    \n",
       "2                                                     2                    \n",
       "3                                                     1                    \n",
       "4                                                     3                    \n",
       "...                                                 ...                    \n",
       "4973                                                  1                    \n",
       "4974                                                  2                    \n",
       "4975                                                  1                    \n",
       "4976                                                  1                    \n",
       "4977                                                  2                    \n",
       "\n",
       "      Close to panic. (Since 1 month)  \\\n",
       "0                                   1   \n",
       "1                                   3   \n",
       "2                                   3   \n",
       "3                                   1   \n",
       "4                                   0   \n",
       "...                               ...   \n",
       "4973                                1   \n",
       "4974                                1   \n",
       "4975                                1   \n",
       "4976                                2   \n",
       "4977                                1   \n",
       "\n",
       "      Aware of the action of the heart in the absence of physical exertion. (Since 1 month)  \\\n",
       "0                                                     3                                       \n",
       "1                                                     1                                       \n",
       "2                                                     3                                       \n",
       "3                                                     2                                       \n",
       "4                                                     3                                       \n",
       "...                                                 ...                                       \n",
       "4973                                                  2                                       \n",
       "4974                                                  2                                       \n",
       "4975                                                  1                                       \n",
       "4976                                                  2                                       \n",
       "4977                                                  1                                       \n",
       "\n",
       "      Felt scared without any good reason. (Since 1 month)  \\\n",
       "0                                                     0      \n",
       "1                                                     2      \n",
       "2                                                     0      \n",
       "3                                                     2      \n",
       "4                                                     0      \n",
       "...                                                 ...      \n",
       "4973                                                  2      \n",
       "4974                                                  2      \n",
       "4975                                                  2      \n",
       "4976                                                  2      \n",
       "4977                                                  1      \n",
       "\n",
       "      Difficult to work up the initiative to do things. (Since 1 month)  \\\n",
       "0                                                     0                   \n",
       "1                                                     0                   \n",
       "2                                                     0                   \n",
       "3                                                     0                   \n",
       "4                                                     0                   \n",
       "...                                                 ...                   \n",
       "4973                                                  2                   \n",
       "4974                                                  2                   \n",
       "4975                                                  2                   \n",
       "4976                                                  2                   \n",
       "4977                                                  2                   \n",
       "\n",
       "      Couldn't experience the positive feeling. (Since 1 month)  \\\n",
       "0                                                     2           \n",
       "1                                                     3           \n",
       "2                                                     1           \n",
       "3                                                     0           \n",
       "4                                                     2           \n",
       "...                                                 ...           \n",
       "4973                                                  2           \n",
       "4974                                                  1           \n",
       "4975                                                  2           \n",
       "4976                                                  1           \n",
       "4977                                                  1           \n",
       "\n",
       "      Nothing to look forward. (Since 1 month)  \\\n",
       "0                                            1   \n",
       "1                                            1   \n",
       "2                                            2   \n",
       "3                                            2   \n",
       "4                                            1   \n",
       "...                                        ...   \n",
       "4973                                         1   \n",
       "4974                                         2   \n",
       "4975                                         2   \n",
       "4976                                         2   \n",
       "4977                                         1   \n",
       "\n",
       "      Felt down hearted and blue. (Since 1 month)  \\\n",
       "0                                               1   \n",
       "1                                               0   \n",
       "2                                               2   \n",
       "3                                               2   \n",
       "4                                               0   \n",
       "...                                           ...   \n",
       "4973                                            1   \n",
       "4974                                            1   \n",
       "4975                                            2   \n",
       "4976                                            2   \n",
       "4977                                            1   \n",
       "\n",
       "      Unable to become enthusiastic. (Since 1 month)  \\\n",
       "0                                                  0   \n",
       "1                                                  2   \n",
       "2                                                  3   \n",
       "3                                                  0   \n",
       "4                                                  2   \n",
       "...                                              ...   \n",
       "4973                                               2   \n",
       "4974                                               2   \n",
       "4975                                               1   \n",
       "4976                                               1   \n",
       "4977                                               1   \n",
       "\n",
       "      Felt wasn't worth much as person. (Since 1 month)  \\\n",
       "0                                                     0   \n",
       "1                                                     3   \n",
       "2                                                     3   \n",
       "3                                                     3   \n",
       "4                                                     1   \n",
       "...                                                 ...   \n",
       "4973                                                  2   \n",
       "4974                                                  1   \n",
       "4975                                                  2   \n",
       "4976                                                  2   \n",
       "4977                                                  1   \n",
       "\n",
       "      Felt life was meaningless. (Since 1 month)  AScore  DScore  \n",
       "0                                              0      20       8  \n",
       "1                                              1      20      20  \n",
       "2                                              3      24      28  \n",
       "3                                              3      24      20  \n",
       "4                                              0      16      12  \n",
       "...                                          ...     ...     ...  \n",
       "4973                                           2      20      24  \n",
       "4974                                           1      20      20  \n",
       "4975                                           1      20      24  \n",
       "4976                                           2      20      24  \n",
       "4977                                           1      20      16  \n",
       "\n",
       "[4978 rows x 18 columns]"
      ]
     },
     "execution_count": 7,
     "metadata": {},
     "output_type": "execute_result"
    }
   ],
   "source": [
    "df"
   ]
  },
  {
   "cell_type": "code",
   "execution_count": 8,
   "metadata": {
    "id": "5QJwHM3o3dtJ"
   },
   "outputs": [],
   "source": [
    "df=df.copy()"
   ]
  },
  {
   "cell_type": "code",
   "execution_count": 9,
   "metadata": {
    "id": "_mM3LwNL3pN0"
   },
   "outputs": [],
   "source": [
    "df.rename(columns={'Dryness in mouth. (Since 1 month)':'One','Difficulty in breathing. (Since 1 month)':'Two','Experience trembling. (Since 1 month)':'Three','Worried about panic and make a fool of themselves. (Since 1 month)':'Four','Close to panic. (Since 1 month)':'Five','Aware of the action of the heart in the absence of physical exertion. (Since 1 month)':'Six','Felt scared without any good reason. (Since 1 month)':'Seven','Difficult to work up the initiative to do things. (Since 1 month)':'Eight',\"Couldn't experience the positive feeling. (Since 1 month)\":'Nine','Nothing to look forward. (Since 1 month)':'Ten','Felt down hearted and blue. (Since 1 month)':'Eleven','Unable to become enthusiastic. (Since 1 month)':'Twelve',\"Felt wasn't worth much as person. (Since 1 month)\":'Thirteen','Felt life was meaningless. (Since 1 month)':'Fourteen'},inplace=True)"
   ]
  },
  {
   "cell_type": "code",
   "execution_count": 10,
   "metadata": {
    "colab": {
     "base_uri": "https://localhost:8080/",
     "height": 423
    },
    "executionInfo": {
     "elapsed": 18,
     "status": "ok",
     "timestamp": 1703121871028,
     "user": {
      "displayName": "Manthesh L",
      "userId": "04646793550545002401"
     },
     "user_tz": -330
    },
    "id": "x1egmXf63tho",
    "outputId": "d02c3ad4-ac72-4201-cd85-9e0dc8525d96"
   },
   "outputs": [
    {
     "data": {
      "text/html": [
       "<div>\n",
       "<style scoped>\n",
       "    .dataframe tbody tr th:only-of-type {\n",
       "        vertical-align: middle;\n",
       "    }\n",
       "\n",
       "    .dataframe tbody tr th {\n",
       "        vertical-align: top;\n",
       "    }\n",
       "\n",
       "    .dataframe thead th {\n",
       "        text-align: right;\n",
       "    }\n",
       "</style>\n",
       "<table border=\"1\" class=\"dataframe\">\n",
       "  <thead>\n",
       "    <tr style=\"text-align: right;\">\n",
       "      <th></th>\n",
       "      <th>Age</th>\n",
       "      <th>Gender</th>\n",
       "      <th>One</th>\n",
       "      <th>Two</th>\n",
       "      <th>Three</th>\n",
       "      <th>Four</th>\n",
       "      <th>Five</th>\n",
       "      <th>Six</th>\n",
       "      <th>Seven</th>\n",
       "      <th>Eight</th>\n",
       "      <th>Nine</th>\n",
       "      <th>Ten</th>\n",
       "      <th>Eleven</th>\n",
       "      <th>Twelve</th>\n",
       "      <th>Thirteen</th>\n",
       "      <th>Fourteen</th>\n",
       "      <th>AScore</th>\n",
       "      <th>DScore</th>\n",
       "    </tr>\n",
       "  </thead>\n",
       "  <tbody>\n",
       "    <tr>\n",
       "      <th>0</th>\n",
       "      <td>26</td>\n",
       "      <td>Female</td>\n",
       "      <td>0</td>\n",
       "      <td>3</td>\n",
       "      <td>1</td>\n",
       "      <td>2</td>\n",
       "      <td>1</td>\n",
       "      <td>3</td>\n",
       "      <td>0</td>\n",
       "      <td>0</td>\n",
       "      <td>2</td>\n",
       "      <td>1</td>\n",
       "      <td>1</td>\n",
       "      <td>0</td>\n",
       "      <td>0</td>\n",
       "      <td>0</td>\n",
       "      <td>20</td>\n",
       "      <td>8</td>\n",
       "    </tr>\n",
       "    <tr>\n",
       "      <th>1</th>\n",
       "      <td>23</td>\n",
       "      <td>Female</td>\n",
       "      <td>0</td>\n",
       "      <td>0</td>\n",
       "      <td>2</td>\n",
       "      <td>2</td>\n",
       "      <td>3</td>\n",
       "      <td>1</td>\n",
       "      <td>2</td>\n",
       "      <td>0</td>\n",
       "      <td>3</td>\n",
       "      <td>1</td>\n",
       "      <td>0</td>\n",
       "      <td>2</td>\n",
       "      <td>3</td>\n",
       "      <td>1</td>\n",
       "      <td>20</td>\n",
       "      <td>20</td>\n",
       "    </tr>\n",
       "    <tr>\n",
       "      <th>2</th>\n",
       "      <td>23</td>\n",
       "      <td>Male</td>\n",
       "      <td>0</td>\n",
       "      <td>3</td>\n",
       "      <td>1</td>\n",
       "      <td>2</td>\n",
       "      <td>3</td>\n",
       "      <td>3</td>\n",
       "      <td>0</td>\n",
       "      <td>0</td>\n",
       "      <td>1</td>\n",
       "      <td>2</td>\n",
       "      <td>2</td>\n",
       "      <td>3</td>\n",
       "      <td>3</td>\n",
       "      <td>3</td>\n",
       "      <td>24</td>\n",
       "      <td>28</td>\n",
       "    </tr>\n",
       "    <tr>\n",
       "      <th>3</th>\n",
       "      <td>25</td>\n",
       "      <td>Male</td>\n",
       "      <td>0</td>\n",
       "      <td>3</td>\n",
       "      <td>3</td>\n",
       "      <td>1</td>\n",
       "      <td>1</td>\n",
       "      <td>2</td>\n",
       "      <td>2</td>\n",
       "      <td>0</td>\n",
       "      <td>0</td>\n",
       "      <td>2</td>\n",
       "      <td>2</td>\n",
       "      <td>0</td>\n",
       "      <td>3</td>\n",
       "      <td>3</td>\n",
       "      <td>24</td>\n",
       "      <td>20</td>\n",
       "    </tr>\n",
       "    <tr>\n",
       "      <th>4</th>\n",
       "      <td>19</td>\n",
       "      <td>Female</td>\n",
       "      <td>0</td>\n",
       "      <td>1</td>\n",
       "      <td>1</td>\n",
       "      <td>3</td>\n",
       "      <td>0</td>\n",
       "      <td>3</td>\n",
       "      <td>0</td>\n",
       "      <td>0</td>\n",
       "      <td>2</td>\n",
       "      <td>1</td>\n",
       "      <td>0</td>\n",
       "      <td>2</td>\n",
       "      <td>1</td>\n",
       "      <td>0</td>\n",
       "      <td>16</td>\n",
       "      <td>12</td>\n",
       "    </tr>\n",
       "    <tr>\n",
       "      <th>...</th>\n",
       "      <td>...</td>\n",
       "      <td>...</td>\n",
       "      <td>...</td>\n",
       "      <td>...</td>\n",
       "      <td>...</td>\n",
       "      <td>...</td>\n",
       "      <td>...</td>\n",
       "      <td>...</td>\n",
       "      <td>...</td>\n",
       "      <td>...</td>\n",
       "      <td>...</td>\n",
       "      <td>...</td>\n",
       "      <td>...</td>\n",
       "      <td>...</td>\n",
       "      <td>...</td>\n",
       "      <td>...</td>\n",
       "      <td>...</td>\n",
       "      <td>...</td>\n",
       "    </tr>\n",
       "    <tr>\n",
       "      <th>4973</th>\n",
       "      <td>23</td>\n",
       "      <td>Male</td>\n",
       "      <td>1</td>\n",
       "      <td>1</td>\n",
       "      <td>2</td>\n",
       "      <td>1</td>\n",
       "      <td>1</td>\n",
       "      <td>2</td>\n",
       "      <td>2</td>\n",
       "      <td>2</td>\n",
       "      <td>2</td>\n",
       "      <td>1</td>\n",
       "      <td>1</td>\n",
       "      <td>2</td>\n",
       "      <td>2</td>\n",
       "      <td>2</td>\n",
       "      <td>20</td>\n",
       "      <td>24</td>\n",
       "    </tr>\n",
       "    <tr>\n",
       "      <th>4974</th>\n",
       "      <td>17</td>\n",
       "      <td>Female</td>\n",
       "      <td>1</td>\n",
       "      <td>1</td>\n",
       "      <td>1</td>\n",
       "      <td>2</td>\n",
       "      <td>1</td>\n",
       "      <td>2</td>\n",
       "      <td>2</td>\n",
       "      <td>2</td>\n",
       "      <td>1</td>\n",
       "      <td>2</td>\n",
       "      <td>1</td>\n",
       "      <td>2</td>\n",
       "      <td>1</td>\n",
       "      <td>1</td>\n",
       "      <td>20</td>\n",
       "      <td>20</td>\n",
       "    </tr>\n",
       "    <tr>\n",
       "      <th>4975</th>\n",
       "      <td>20</td>\n",
       "      <td>Male</td>\n",
       "      <td>1</td>\n",
       "      <td>2</td>\n",
       "      <td>2</td>\n",
       "      <td>1</td>\n",
       "      <td>1</td>\n",
       "      <td>1</td>\n",
       "      <td>2</td>\n",
       "      <td>2</td>\n",
       "      <td>2</td>\n",
       "      <td>2</td>\n",
       "      <td>2</td>\n",
       "      <td>1</td>\n",
       "      <td>2</td>\n",
       "      <td>1</td>\n",
       "      <td>20</td>\n",
       "      <td>24</td>\n",
       "    </tr>\n",
       "    <tr>\n",
       "      <th>4976</th>\n",
       "      <td>18</td>\n",
       "      <td>Male</td>\n",
       "      <td>1</td>\n",
       "      <td>1</td>\n",
       "      <td>1</td>\n",
       "      <td>1</td>\n",
       "      <td>2</td>\n",
       "      <td>2</td>\n",
       "      <td>2</td>\n",
       "      <td>2</td>\n",
       "      <td>1</td>\n",
       "      <td>2</td>\n",
       "      <td>2</td>\n",
       "      <td>1</td>\n",
       "      <td>2</td>\n",
       "      <td>2</td>\n",
       "      <td>20</td>\n",
       "      <td>24</td>\n",
       "    </tr>\n",
       "    <tr>\n",
       "      <th>4977</th>\n",
       "      <td>26</td>\n",
       "      <td>Male</td>\n",
       "      <td>1</td>\n",
       "      <td>2</td>\n",
       "      <td>2</td>\n",
       "      <td>2</td>\n",
       "      <td>1</td>\n",
       "      <td>1</td>\n",
       "      <td>1</td>\n",
       "      <td>2</td>\n",
       "      <td>1</td>\n",
       "      <td>1</td>\n",
       "      <td>1</td>\n",
       "      <td>1</td>\n",
       "      <td>1</td>\n",
       "      <td>1</td>\n",
       "      <td>20</td>\n",
       "      <td>16</td>\n",
       "    </tr>\n",
       "  </tbody>\n",
       "</table>\n",
       "<p>4978 rows × 18 columns</p>\n",
       "</div>"
      ],
      "text/plain": [
       "      Age  Gender  One  Two  Three  Four  Five  Six  Seven  Eight  Nine  Ten  \\\n",
       "0      26  Female    0    3      1     2     1    3      0      0     2    1   \n",
       "1      23  Female    0    0      2     2     3    1      2      0     3    1   \n",
       "2      23    Male    0    3      1     2     3    3      0      0     1    2   \n",
       "3      25    Male    0    3      3     1     1    2      2      0     0    2   \n",
       "4      19  Female    0    1      1     3     0    3      0      0     2    1   \n",
       "...   ...     ...  ...  ...    ...   ...   ...  ...    ...    ...   ...  ...   \n",
       "4973   23    Male    1    1      2     1     1    2      2      2     2    1   \n",
       "4974   17  Female    1    1      1     2     1    2      2      2     1    2   \n",
       "4975   20    Male    1    2      2     1     1    1      2      2     2    2   \n",
       "4976   18    Male    1    1      1     1     2    2      2      2     1    2   \n",
       "4977   26    Male    1    2      2     2     1    1      1      2     1    1   \n",
       "\n",
       "      Eleven  Twelve  Thirteen  Fourteen  AScore  DScore  \n",
       "0          1       0         0         0      20       8  \n",
       "1          0       2         3         1      20      20  \n",
       "2          2       3         3         3      24      28  \n",
       "3          2       0         3         3      24      20  \n",
       "4          0       2         1         0      16      12  \n",
       "...      ...     ...       ...       ...     ...     ...  \n",
       "4973       1       2         2         2      20      24  \n",
       "4974       1       2         1         1      20      20  \n",
       "4975       2       1         2         1      20      24  \n",
       "4976       2       1         2         2      20      24  \n",
       "4977       1       1         1         1      20      16  \n",
       "\n",
       "[4978 rows x 18 columns]"
      ]
     },
     "execution_count": 10,
     "metadata": {},
     "output_type": "execute_result"
    }
   ],
   "source": [
    "df"
   ]
  },
  {
   "cell_type": "code",
   "execution_count": 11,
   "metadata": {
    "id": "i9FMHMVW3xoN"
   },
   "outputs": [],
   "source": [
    "from sklearn.preprocessing import LabelEncoder"
   ]
  },
  {
   "cell_type": "code",
   "execution_count": 12,
   "metadata": {
    "id": "9HFyUo3B4A4D"
   },
   "outputs": [],
   "source": [
    "le = LabelEncoder()"
   ]
  },
  {
   "cell_type": "code",
   "execution_count": 13,
   "metadata": {
    "id": "oZAHehvi4GjF"
   },
   "outputs": [],
   "source": [
    "df['Gender'] = le.fit_transform(df['Gender'])"
   ]
  },
  {
   "cell_type": "code",
   "execution_count": 14,
   "metadata": {
    "colab": {
     "base_uri": "https://localhost:8080/",
     "height": 206
    },
    "executionInfo": {
     "elapsed": 11,
     "status": "ok",
     "timestamp": 1703121872431,
     "user": {
      "displayName": "Manthesh L",
      "userId": "04646793550545002401"
     },
     "user_tz": -330
    },
    "id": "xEzLb_lC4Mjp",
    "outputId": "bef3b6a5-9ece-4a4b-a372-6aad7bd9c12b"
   },
   "outputs": [
    {
     "data": {
      "text/html": [
       "<div>\n",
       "<style scoped>\n",
       "    .dataframe tbody tr th:only-of-type {\n",
       "        vertical-align: middle;\n",
       "    }\n",
       "\n",
       "    .dataframe tbody tr th {\n",
       "        vertical-align: top;\n",
       "    }\n",
       "\n",
       "    .dataframe thead th {\n",
       "        text-align: right;\n",
       "    }\n",
       "</style>\n",
       "<table border=\"1\" class=\"dataframe\">\n",
       "  <thead>\n",
       "    <tr style=\"text-align: right;\">\n",
       "      <th></th>\n",
       "      <th>Age</th>\n",
       "      <th>Gender</th>\n",
       "      <th>One</th>\n",
       "      <th>Two</th>\n",
       "      <th>Three</th>\n",
       "      <th>Four</th>\n",
       "      <th>Five</th>\n",
       "      <th>Six</th>\n",
       "      <th>Seven</th>\n",
       "      <th>Eight</th>\n",
       "      <th>Nine</th>\n",
       "      <th>Ten</th>\n",
       "      <th>Eleven</th>\n",
       "      <th>Twelve</th>\n",
       "      <th>Thirteen</th>\n",
       "      <th>Fourteen</th>\n",
       "      <th>AScore</th>\n",
       "      <th>DScore</th>\n",
       "    </tr>\n",
       "  </thead>\n",
       "  <tbody>\n",
       "    <tr>\n",
       "      <th>0</th>\n",
       "      <td>26</td>\n",
       "      <td>0</td>\n",
       "      <td>0</td>\n",
       "      <td>3</td>\n",
       "      <td>1</td>\n",
       "      <td>2</td>\n",
       "      <td>1</td>\n",
       "      <td>3</td>\n",
       "      <td>0</td>\n",
       "      <td>0</td>\n",
       "      <td>2</td>\n",
       "      <td>1</td>\n",
       "      <td>1</td>\n",
       "      <td>0</td>\n",
       "      <td>0</td>\n",
       "      <td>0</td>\n",
       "      <td>20</td>\n",
       "      <td>8</td>\n",
       "    </tr>\n",
       "    <tr>\n",
       "      <th>1</th>\n",
       "      <td>23</td>\n",
       "      <td>0</td>\n",
       "      <td>0</td>\n",
       "      <td>0</td>\n",
       "      <td>2</td>\n",
       "      <td>2</td>\n",
       "      <td>3</td>\n",
       "      <td>1</td>\n",
       "      <td>2</td>\n",
       "      <td>0</td>\n",
       "      <td>3</td>\n",
       "      <td>1</td>\n",
       "      <td>0</td>\n",
       "      <td>2</td>\n",
       "      <td>3</td>\n",
       "      <td>1</td>\n",
       "      <td>20</td>\n",
       "      <td>20</td>\n",
       "    </tr>\n",
       "    <tr>\n",
       "      <th>2</th>\n",
       "      <td>23</td>\n",
       "      <td>1</td>\n",
       "      <td>0</td>\n",
       "      <td>3</td>\n",
       "      <td>1</td>\n",
       "      <td>2</td>\n",
       "      <td>3</td>\n",
       "      <td>3</td>\n",
       "      <td>0</td>\n",
       "      <td>0</td>\n",
       "      <td>1</td>\n",
       "      <td>2</td>\n",
       "      <td>2</td>\n",
       "      <td>3</td>\n",
       "      <td>3</td>\n",
       "      <td>3</td>\n",
       "      <td>24</td>\n",
       "      <td>28</td>\n",
       "    </tr>\n",
       "    <tr>\n",
       "      <th>3</th>\n",
       "      <td>25</td>\n",
       "      <td>1</td>\n",
       "      <td>0</td>\n",
       "      <td>3</td>\n",
       "      <td>3</td>\n",
       "      <td>1</td>\n",
       "      <td>1</td>\n",
       "      <td>2</td>\n",
       "      <td>2</td>\n",
       "      <td>0</td>\n",
       "      <td>0</td>\n",
       "      <td>2</td>\n",
       "      <td>2</td>\n",
       "      <td>0</td>\n",
       "      <td>3</td>\n",
       "      <td>3</td>\n",
       "      <td>24</td>\n",
       "      <td>20</td>\n",
       "    </tr>\n",
       "    <tr>\n",
       "      <th>4</th>\n",
       "      <td>19</td>\n",
       "      <td>0</td>\n",
       "      <td>0</td>\n",
       "      <td>1</td>\n",
       "      <td>1</td>\n",
       "      <td>3</td>\n",
       "      <td>0</td>\n",
       "      <td>3</td>\n",
       "      <td>0</td>\n",
       "      <td>0</td>\n",
       "      <td>2</td>\n",
       "      <td>1</td>\n",
       "      <td>0</td>\n",
       "      <td>2</td>\n",
       "      <td>1</td>\n",
       "      <td>0</td>\n",
       "      <td>16</td>\n",
       "      <td>12</td>\n",
       "    </tr>\n",
       "  </tbody>\n",
       "</table>\n",
       "</div>"
      ],
      "text/plain": [
       "   Age  Gender  One  Two  Three  Four  Five  Six  Seven  Eight  Nine  Ten  \\\n",
       "0   26       0    0    3      1     2     1    3      0      0     2    1   \n",
       "1   23       0    0    0      2     2     3    1      2      0     3    1   \n",
       "2   23       1    0    3      1     2     3    3      0      0     1    2   \n",
       "3   25       1    0    3      3     1     1    2      2      0     0    2   \n",
       "4   19       0    0    1      1     3     0    3      0      0     2    1   \n",
       "\n",
       "   Eleven  Twelve  Thirteen  Fourteen  AScore  DScore  \n",
       "0       1       0         0         0      20       8  \n",
       "1       0       2         3         1      20      20  \n",
       "2       2       3         3         3      24      28  \n",
       "3       2       0         3         3      24      20  \n",
       "4       0       2         1         0      16      12  "
      ]
     },
     "execution_count": 14,
     "metadata": {},
     "output_type": "execute_result"
    }
   ],
   "source": [
    "df.head()"
   ]
  },
  {
   "cell_type": "code",
   "execution_count": 15,
   "metadata": {
    "id": "trz5VTz64TOO"
   },
   "outputs": [],
   "source": [
    "from sklearn.linear_model import LogisticRegression\n",
    "from sklearn.ensemble import RandomForestClassifier\n",
    "from sklearn.svm import SVC\n",
    "from sklearn.tree import DecisionTreeClassifier\n",
    "from sklearn.neighbors import KNeighborsClassifier\n",
    "from sklearn.naive_bayes import GaussianNB\n",
    "import sklearn.metrics as metrics\n",
    "from sklearn.metrics import accuracy_score"
   ]
  },
  {
   "cell_type": "markdown",
   "metadata": {
    "id": "gLoU9lw49va3"
   },
   "source": [
    "Depression"
   ]
  },
  {
   "cell_type": "code",
   "execution_count": 16,
   "metadata": {
    "id": "Qc1myz2x4Yd4"
   },
   "outputs": [],
   "source": [
    "x = df.drop(columns=['One','Two',\t'Three',\t'Four',\t'Five','Six','Seven','AScore','DScore'],axis=1)\n",
    "y = df['DScore']"
   ]
  },
  {
   "cell_type": "code",
   "execution_count": 17,
   "metadata": {
    "id": "n5l_rPQJ4dWg"
   },
   "outputs": [],
   "source": [
    "from sklearn.model_selection import train_test_split"
   ]
  },
  {
   "cell_type": "code",
   "execution_count": 18,
   "metadata": {
    "id": "U4nMctvK4g7T"
   },
   "outputs": [],
   "source": [
    "x_train,x_test,y_train,y_test = train_test_split(x,y,test_size=0.2,random_state=44)"
   ]
  },
  {
   "cell_type": "code",
   "execution_count": 19,
   "metadata": {
    "colab": {
     "base_uri": "https://localhost:8080/"
    },
    "executionInfo": {
     "elapsed": 7,
     "status": "ok",
     "timestamp": 1703121878625,
     "user": {
      "displayName": "Manthesh L",
      "userId": "04646793550545002401"
     },
     "user_tz": -330
    },
    "id": "AR2vvHgj4lke",
    "outputId": "29b3a07c-9905-43f1-924f-0e910ef5cae1"
   },
   "outputs": [
    {
     "data": {
      "text/plain": [
       "(3982, 9)"
      ]
     },
     "execution_count": 19,
     "metadata": {},
     "output_type": "execute_result"
    }
   ],
   "source": [
    "x_train.shape"
   ]
  },
  {
   "cell_type": "code",
   "execution_count": 20,
   "metadata": {
    "colab": {
     "base_uri": "https://localhost:8080/"
    },
    "executionInfo": {
     "elapsed": 16,
     "status": "ok",
     "timestamp": 1703121879497,
     "user": {
      "displayName": "Manthesh L",
      "userId": "04646793550545002401"
     },
     "user_tz": -330
    },
    "id": "RvimwGPi4pD0",
    "outputId": "616e090b-58c2-40be-86e1-17715f782e3e"
   },
   "outputs": [
    {
     "data": {
      "text/plain": [
       "(996, 9)"
      ]
     },
     "execution_count": 20,
     "metadata": {},
     "output_type": "execute_result"
    }
   ],
   "source": [
    "x_test.shape"
   ]
  },
  {
   "cell_type": "code",
   "execution_count": 21,
   "metadata": {
    "id": "aH_7pi7u4r92"
   },
   "outputs": [],
   "source": [
    "model = LogisticRegression()\n"
   ]
  },
  {
   "cell_type": "code",
   "execution_count": 22,
   "metadata": {
    "colab": {
     "base_uri": "https://localhost:8080/",
     "height": 213
    },
    "executionInfo": {
     "elapsed": 632,
     "status": "ok",
     "timestamp": 1703121882858,
     "user": {
      "displayName": "Manthesh L",
      "userId": "04646793550545002401"
     },
     "user_tz": -330
    },
    "id": "JUr68WbJ4yM4",
    "outputId": "ff5acb13-90e1-43db-f9bd-40c6b779d1bf"
   },
   "outputs": [
    {
     "name": "stderr",
     "output_type": "stream",
     "text": [
      "C:\\Users\\madhu\\anaconda3\\lib\\site-packages\\sklearn\\linear_model\\_logistic.py:814: ConvergenceWarning: lbfgs failed to converge (status=1):\n",
      "STOP: TOTAL NO. of ITERATIONS REACHED LIMIT.\n",
      "\n",
      "Increase the number of iterations (max_iter) or scale the data as shown in:\n",
      "    https://scikit-learn.org/stable/modules/preprocessing.html\n",
      "Please also refer to the documentation for alternative solver options:\n",
      "    https://scikit-learn.org/stable/modules/linear_model.html#logistic-regression\n",
      "  n_iter_i = _check_optimize_result(\n"
     ]
    },
    {
     "data": {
      "text/plain": [
       "LogisticRegression()"
      ]
     },
     "execution_count": 22,
     "metadata": {},
     "output_type": "execute_result"
    }
   ],
   "source": [
    "model.fit(x_train, y_train)"
   ]
  },
  {
   "cell_type": "code",
   "execution_count": 23,
   "metadata": {
    "colab": {
     "base_uri": "https://localhost:8080/",
     "height": 423
    },
    "executionInfo": {
     "elapsed": 30,
     "status": "ok",
     "timestamp": 1703121883310,
     "user": {
      "displayName": "Manthesh L",
      "userId": "04646793550545002401"
     },
     "user_tz": -330
    },
    "id": "hMjgVmYC5gUS",
    "outputId": "39c74c67-a49d-441c-f24e-ffeea79af694"
   },
   "outputs": [
    {
     "data": {
      "text/html": [
       "<div>\n",
       "<style scoped>\n",
       "    .dataframe tbody tr th:only-of-type {\n",
       "        vertical-align: middle;\n",
       "    }\n",
       "\n",
       "    .dataframe tbody tr th {\n",
       "        vertical-align: top;\n",
       "    }\n",
       "\n",
       "    .dataframe thead th {\n",
       "        text-align: right;\n",
       "    }\n",
       "</style>\n",
       "<table border=\"1\" class=\"dataframe\">\n",
       "  <thead>\n",
       "    <tr style=\"text-align: right;\">\n",
       "      <th></th>\n",
       "      <th>Age</th>\n",
       "      <th>Gender</th>\n",
       "      <th>One</th>\n",
       "      <th>Two</th>\n",
       "      <th>Three</th>\n",
       "      <th>Four</th>\n",
       "      <th>Five</th>\n",
       "      <th>Six</th>\n",
       "      <th>Seven</th>\n",
       "      <th>Eight</th>\n",
       "      <th>Nine</th>\n",
       "      <th>Ten</th>\n",
       "      <th>Eleven</th>\n",
       "      <th>Twelve</th>\n",
       "      <th>Thirteen</th>\n",
       "      <th>Fourteen</th>\n",
       "      <th>AScore</th>\n",
       "      <th>DScore</th>\n",
       "    </tr>\n",
       "  </thead>\n",
       "  <tbody>\n",
       "    <tr>\n",
       "      <th>0</th>\n",
       "      <td>26</td>\n",
       "      <td>0</td>\n",
       "      <td>0</td>\n",
       "      <td>3</td>\n",
       "      <td>1</td>\n",
       "      <td>2</td>\n",
       "      <td>1</td>\n",
       "      <td>3</td>\n",
       "      <td>0</td>\n",
       "      <td>0</td>\n",
       "      <td>2</td>\n",
       "      <td>1</td>\n",
       "      <td>1</td>\n",
       "      <td>0</td>\n",
       "      <td>0</td>\n",
       "      <td>0</td>\n",
       "      <td>20</td>\n",
       "      <td>8</td>\n",
       "    </tr>\n",
       "    <tr>\n",
       "      <th>1</th>\n",
       "      <td>23</td>\n",
       "      <td>0</td>\n",
       "      <td>0</td>\n",
       "      <td>0</td>\n",
       "      <td>2</td>\n",
       "      <td>2</td>\n",
       "      <td>3</td>\n",
       "      <td>1</td>\n",
       "      <td>2</td>\n",
       "      <td>0</td>\n",
       "      <td>3</td>\n",
       "      <td>1</td>\n",
       "      <td>0</td>\n",
       "      <td>2</td>\n",
       "      <td>3</td>\n",
       "      <td>1</td>\n",
       "      <td>20</td>\n",
       "      <td>20</td>\n",
       "    </tr>\n",
       "    <tr>\n",
       "      <th>2</th>\n",
       "      <td>23</td>\n",
       "      <td>1</td>\n",
       "      <td>0</td>\n",
       "      <td>3</td>\n",
       "      <td>1</td>\n",
       "      <td>2</td>\n",
       "      <td>3</td>\n",
       "      <td>3</td>\n",
       "      <td>0</td>\n",
       "      <td>0</td>\n",
       "      <td>1</td>\n",
       "      <td>2</td>\n",
       "      <td>2</td>\n",
       "      <td>3</td>\n",
       "      <td>3</td>\n",
       "      <td>3</td>\n",
       "      <td>24</td>\n",
       "      <td>28</td>\n",
       "    </tr>\n",
       "    <tr>\n",
       "      <th>3</th>\n",
       "      <td>25</td>\n",
       "      <td>1</td>\n",
       "      <td>0</td>\n",
       "      <td>3</td>\n",
       "      <td>3</td>\n",
       "      <td>1</td>\n",
       "      <td>1</td>\n",
       "      <td>2</td>\n",
       "      <td>2</td>\n",
       "      <td>0</td>\n",
       "      <td>0</td>\n",
       "      <td>2</td>\n",
       "      <td>2</td>\n",
       "      <td>0</td>\n",
       "      <td>3</td>\n",
       "      <td>3</td>\n",
       "      <td>24</td>\n",
       "      <td>20</td>\n",
       "    </tr>\n",
       "    <tr>\n",
       "      <th>4</th>\n",
       "      <td>19</td>\n",
       "      <td>0</td>\n",
       "      <td>0</td>\n",
       "      <td>1</td>\n",
       "      <td>1</td>\n",
       "      <td>3</td>\n",
       "      <td>0</td>\n",
       "      <td>3</td>\n",
       "      <td>0</td>\n",
       "      <td>0</td>\n",
       "      <td>2</td>\n",
       "      <td>1</td>\n",
       "      <td>0</td>\n",
       "      <td>2</td>\n",
       "      <td>1</td>\n",
       "      <td>0</td>\n",
       "      <td>16</td>\n",
       "      <td>12</td>\n",
       "    </tr>\n",
       "    <tr>\n",
       "      <th>...</th>\n",
       "      <td>...</td>\n",
       "      <td>...</td>\n",
       "      <td>...</td>\n",
       "      <td>...</td>\n",
       "      <td>...</td>\n",
       "      <td>...</td>\n",
       "      <td>...</td>\n",
       "      <td>...</td>\n",
       "      <td>...</td>\n",
       "      <td>...</td>\n",
       "      <td>...</td>\n",
       "      <td>...</td>\n",
       "      <td>...</td>\n",
       "      <td>...</td>\n",
       "      <td>...</td>\n",
       "      <td>...</td>\n",
       "      <td>...</td>\n",
       "      <td>...</td>\n",
       "    </tr>\n",
       "    <tr>\n",
       "      <th>4973</th>\n",
       "      <td>23</td>\n",
       "      <td>1</td>\n",
       "      <td>1</td>\n",
       "      <td>1</td>\n",
       "      <td>2</td>\n",
       "      <td>1</td>\n",
       "      <td>1</td>\n",
       "      <td>2</td>\n",
       "      <td>2</td>\n",
       "      <td>2</td>\n",
       "      <td>2</td>\n",
       "      <td>1</td>\n",
       "      <td>1</td>\n",
       "      <td>2</td>\n",
       "      <td>2</td>\n",
       "      <td>2</td>\n",
       "      <td>20</td>\n",
       "      <td>24</td>\n",
       "    </tr>\n",
       "    <tr>\n",
       "      <th>4974</th>\n",
       "      <td>17</td>\n",
       "      <td>0</td>\n",
       "      <td>1</td>\n",
       "      <td>1</td>\n",
       "      <td>1</td>\n",
       "      <td>2</td>\n",
       "      <td>1</td>\n",
       "      <td>2</td>\n",
       "      <td>2</td>\n",
       "      <td>2</td>\n",
       "      <td>1</td>\n",
       "      <td>2</td>\n",
       "      <td>1</td>\n",
       "      <td>2</td>\n",
       "      <td>1</td>\n",
       "      <td>1</td>\n",
       "      <td>20</td>\n",
       "      <td>20</td>\n",
       "    </tr>\n",
       "    <tr>\n",
       "      <th>4975</th>\n",
       "      <td>20</td>\n",
       "      <td>1</td>\n",
       "      <td>1</td>\n",
       "      <td>2</td>\n",
       "      <td>2</td>\n",
       "      <td>1</td>\n",
       "      <td>1</td>\n",
       "      <td>1</td>\n",
       "      <td>2</td>\n",
       "      <td>2</td>\n",
       "      <td>2</td>\n",
       "      <td>2</td>\n",
       "      <td>2</td>\n",
       "      <td>1</td>\n",
       "      <td>2</td>\n",
       "      <td>1</td>\n",
       "      <td>20</td>\n",
       "      <td>24</td>\n",
       "    </tr>\n",
       "    <tr>\n",
       "      <th>4976</th>\n",
       "      <td>18</td>\n",
       "      <td>1</td>\n",
       "      <td>1</td>\n",
       "      <td>1</td>\n",
       "      <td>1</td>\n",
       "      <td>1</td>\n",
       "      <td>2</td>\n",
       "      <td>2</td>\n",
       "      <td>2</td>\n",
       "      <td>2</td>\n",
       "      <td>1</td>\n",
       "      <td>2</td>\n",
       "      <td>2</td>\n",
       "      <td>1</td>\n",
       "      <td>2</td>\n",
       "      <td>2</td>\n",
       "      <td>20</td>\n",
       "      <td>24</td>\n",
       "    </tr>\n",
       "    <tr>\n",
       "      <th>4977</th>\n",
       "      <td>26</td>\n",
       "      <td>1</td>\n",
       "      <td>1</td>\n",
       "      <td>2</td>\n",
       "      <td>2</td>\n",
       "      <td>2</td>\n",
       "      <td>1</td>\n",
       "      <td>1</td>\n",
       "      <td>1</td>\n",
       "      <td>2</td>\n",
       "      <td>1</td>\n",
       "      <td>1</td>\n",
       "      <td>1</td>\n",
       "      <td>1</td>\n",
       "      <td>1</td>\n",
       "      <td>1</td>\n",
       "      <td>20</td>\n",
       "      <td>16</td>\n",
       "    </tr>\n",
       "  </tbody>\n",
       "</table>\n",
       "<p>4978 rows × 18 columns</p>\n",
       "</div>"
      ],
      "text/plain": [
       "      Age  Gender  One  Two  Three  Four  Five  Six  Seven  Eight  Nine  Ten  \\\n",
       "0      26       0    0    3      1     2     1    3      0      0     2    1   \n",
       "1      23       0    0    0      2     2     3    1      2      0     3    1   \n",
       "2      23       1    0    3      1     2     3    3      0      0     1    2   \n",
       "3      25       1    0    3      3     1     1    2      2      0     0    2   \n",
       "4      19       0    0    1      1     3     0    3      0      0     2    1   \n",
       "...   ...     ...  ...  ...    ...   ...   ...  ...    ...    ...   ...  ...   \n",
       "4973   23       1    1    1      2     1     1    2      2      2     2    1   \n",
       "4974   17       0    1    1      1     2     1    2      2      2     1    2   \n",
       "4975   20       1    1    2      2     1     1    1      2      2     2    2   \n",
       "4976   18       1    1    1      1     1     2    2      2      2     1    2   \n",
       "4977   26       1    1    2      2     2     1    1      1      2     1    1   \n",
       "\n",
       "      Eleven  Twelve  Thirteen  Fourteen  AScore  DScore  \n",
       "0          1       0         0         0      20       8  \n",
       "1          0       2         3         1      20      20  \n",
       "2          2       3         3         3      24      28  \n",
       "3          2       0         3         3      24      20  \n",
       "4          0       2         1         0      16      12  \n",
       "...      ...     ...       ...       ...     ...     ...  \n",
       "4973       1       2         2         2      20      24  \n",
       "4974       1       2         1         1      20      20  \n",
       "4975       2       1         2         1      20      24  \n",
       "4976       2       1         2         2      20      24  \n",
       "4977       1       1         1         1      20      16  \n",
       "\n",
       "[4978 rows x 18 columns]"
      ]
     },
     "execution_count": 23,
     "metadata": {},
     "output_type": "execute_result"
    }
   ],
   "source": [
    "df"
   ]
  },
  {
   "cell_type": "code",
   "execution_count": 24,
   "metadata": {
    "colab": {
     "base_uri": "https://localhost:8080/"
    },
    "executionInfo": {
     "elapsed": 12,
     "status": "ok",
     "timestamp": 1703121884606,
     "user": {
      "displayName": "Manthesh L",
      "userId": "04646793550545002401"
     },
     "user_tz": -330
    },
    "id": "ZbHDPvem5lxR",
    "outputId": "2d73162a-a283-4b9b-8e78-b6f98febf035"
   },
   "outputs": [
    {
     "data": {
      "text/plain": [
       "0.6044176706827309"
      ]
     },
     "execution_count": 24,
     "metadata": {},
     "output_type": "execute_result"
    }
   ],
   "source": [
    "predicted_output = model.predict(x_test)\n",
    "score=accuracy_score(predicted_output,y_test)\n",
    "score"
   ]
  },
  {
   "cell_type": "code",
   "execution_count": 25,
   "metadata": {
    "colab": {
     "base_uri": "https://localhost:8080/"
    },
    "executionInfo": {
     "elapsed": 1305,
     "status": "ok",
     "timestamp": 1703121889000,
     "user": {
      "displayName": "Manthesh L",
      "userId": "04646793550545002401"
     },
     "user_tz": -330
    },
    "id": "oOJDI1xM7QdY",
    "outputId": "120da3f4-50c4-4c48-827c-6cd976cda115"
   },
   "outputs": [
    {
     "data": {
      "text/plain": [
       "0.7620481927710844"
      ]
     },
     "execution_count": 25,
     "metadata": {},
     "output_type": "execute_result"
    }
   ],
   "source": [
    "model2=RandomForestClassifier()\n",
    "model2.fit(x_train, y_train)\n",
    "preds=model2.predict(x_test)\n",
    "score2=accuracy_score(preds,y_test)\n",
    "score2"
   ]
  },
  {
   "cell_type": "code",
   "execution_count": 26,
   "metadata": {
    "colab": {
     "base_uri": "https://localhost:8080/"
    },
    "executionInfo": {
     "elapsed": 434,
     "status": "ok",
     "timestamp": 1703121893977,
     "user": {
      "displayName": "Manthesh L",
      "userId": "04646793550545002401"
     },
     "user_tz": -330
    },
    "id": "cL3xldWn7Whw",
    "outputId": "380bfbfd-352a-4d37-e2d8-a0ee534c1011"
   },
   "outputs": [
    {
     "data": {
      "text/plain": [
       "0.7018072289156626"
      ]
     },
     "execution_count": 26,
     "metadata": {},
     "output_type": "execute_result"
    }
   ],
   "source": [
    "model3=DecisionTreeClassifier()\n",
    "model3.fit(x_train, y_train)\n",
    "pred1=model3.predict(x_test)\n",
    "score3=accuracy_score(pred1,y_test)\n",
    "score3"
   ]
  },
  {
   "cell_type": "code",
   "execution_count": 27,
   "metadata": {
    "colab": {
     "base_uri": "https://localhost:8080/"
    },
    "executionInfo": {
     "elapsed": 10,
     "status": "ok",
     "timestamp": 1703121895727,
     "user": {
      "displayName": "Manthesh L",
      "userId": "04646793550545002401"
     },
     "user_tz": -330
    },
    "id": "iGhcXVM17bmF",
    "outputId": "bb84ae81-2f89-44c8-cc36-93196fbddf9b"
   },
   "outputs": [
    {
     "data": {
      "text/plain": [
       "0.5973895582329317"
      ]
     },
     "execution_count": 27,
     "metadata": {},
     "output_type": "execute_result"
    }
   ],
   "source": [
    "model4=GaussianNB()\n",
    "model4.fit(x_train, y_train)\n",
    "pred2=model4.predict(x_test)\n",
    "score4=accuracy_score(pred2,y_test)\n",
    "score4"
   ]
  },
  {
   "cell_type": "code",
   "execution_count": 28,
   "metadata": {
    "colab": {
     "base_uri": "https://localhost:8080/"
    },
    "executionInfo": {
     "elapsed": 427,
     "status": "ok",
     "timestamp": 1703121899413,
     "user": {
      "displayName": "Manthesh L",
      "userId": "04646793550545002401"
     },
     "user_tz": -330
    },
    "id": "cinS8mz87f5l",
    "outputId": "8cb484bd-0973-4a98-af7b-a966bb1b2940"
   },
   "outputs": [
    {
     "name": "stderr",
     "output_type": "stream",
     "text": [
      "C:\\Users\\madhu\\anaconda3\\lib\\site-packages\\sklearn\\neighbors\\_classification.py:228: FutureWarning: Unlike other reduction functions (e.g. `skew`, `kurtosis`), the default behavior of `mode` typically preserves the axis it acts along. In SciPy 1.11.0, this behavior will change: the default value of `keepdims` will become False, the `axis` over which the statistic is taken will be eliminated, and the value None will no longer be accepted. Set `keepdims` to True or False to avoid this warning.\n",
      "  mode, _ = stats.mode(_y[neigh_ind, k], axis=1)\n"
     ]
    },
    {
     "data": {
      "text/plain": [
       "0.6144578313253012"
      ]
     },
     "execution_count": 28,
     "metadata": {},
     "output_type": "execute_result"
    }
   ],
   "source": [
    "model5=KNeighborsClassifier()\n",
    "model5.fit(x_train, y_train)\n",
    "pred3=model5.predict(x_test)\n",
    "score5=accuracy_score(pred3,y_test)\n",
    "score5"
   ]
  },
  {
   "cell_type": "code",
   "execution_count": 29,
   "metadata": {
    "colab": {
     "base_uri": "https://localhost:8080/"
    },
    "executionInfo": {
     "elapsed": 1308,
     "status": "ok",
     "timestamp": 1703121902514,
     "user": {
      "displayName": "Manthesh L",
      "userId": "04646793550545002401"
     },
     "user_tz": -330
    },
    "id": "k_dBuFgK7kgs",
    "outputId": "a7e5d1ab-5da9-4d98-a722-6b20e8a96dd4"
   },
   "outputs": [
    {
     "data": {
      "text/plain": [
       "0.8423694779116466"
      ]
     },
     "execution_count": 29,
     "metadata": {},
     "output_type": "execute_result"
    }
   ],
   "source": [
    "model6=SVC()\n",
    "model6.fit(x_train, y_train)\n",
    "pred4=model6.predict(x_test)\n",
    "score6=accuracy_score(pred4,y_test)\n",
    "score6"
   ]
  },
  {
   "cell_type": "markdown",
   "metadata": {
    "id": "aVKXnKGG9d8t"
   },
   "source": [
    "Anxiety"
   ]
  },
  {
   "cell_type": "code",
   "execution_count": 30,
   "metadata": {
    "id": "vVMC_ru2FAla"
   },
   "outputs": [],
   "source": [
    "x = df.drop(columns=['Eight','Nine',\t'Ten',\t'Eleven',\t'Twelve','Thirteen','Fourteen','AScore','DScore'],axis=1)\n",
    "y = df['AScore']\n"
   ]
  },
  {
   "cell_type": "code",
   "execution_count": 31,
   "metadata": {
    "id": "s8ltkemXJsC3"
   },
   "outputs": [],
   "source": [
    "from sklearn.model_selection import train_test_split"
   ]
  },
  {
   "cell_type": "code",
   "execution_count": 32,
   "metadata": {
    "id": "ImRQkqeF8eh3"
   },
   "outputs": [],
   "source": [
    "x_train,x_test,y_train,y_test = train_test_split(x,y,test_size=0.2,random_state=44)"
   ]
  },
  {
   "cell_type": "code",
   "execution_count": 33,
   "metadata": {
    "colab": {
     "base_uri": "https://localhost:8080/"
    },
    "executionInfo": {
     "elapsed": 11,
     "status": "ok",
     "timestamp": 1703121910723,
     "user": {
      "displayName": "Manthesh L",
      "userId": "04646793550545002401"
     },
     "user_tz": -330
    },
    "id": "K25ponE_8jBQ",
    "outputId": "f01ebc4c-cab7-4b57-dfd6-4224a950b0ac"
   },
   "outputs": [
    {
     "data": {
      "text/plain": [
       "(3982, 9)"
      ]
     },
     "execution_count": 33,
     "metadata": {},
     "output_type": "execute_result"
    }
   ],
   "source": [
    "x_train.shape"
   ]
  },
  {
   "cell_type": "code",
   "execution_count": 34,
   "metadata": {
    "colab": {
     "base_uri": "https://localhost:8080/"
    },
    "executionInfo": {
     "elapsed": 9,
     "status": "ok",
     "timestamp": 1703121911495,
     "user": {
      "displayName": "Manthesh L",
      "userId": "04646793550545002401"
     },
     "user_tz": -330
    },
    "id": "mzCoSCV18maS",
    "outputId": "b18e3026-0dcb-4d8e-f3ff-326bd1f576e8"
   },
   "outputs": [
    {
     "data": {
      "text/plain": [
       "(996, 9)"
      ]
     },
     "execution_count": 34,
     "metadata": {},
     "output_type": "execute_result"
    }
   ],
   "source": [
    "x_test.shape"
   ]
  },
  {
   "cell_type": "code",
   "execution_count": 35,
   "metadata": {
    "id": "CGNkWnmK8ppU"
   },
   "outputs": [],
   "source": [
    "model = LogisticRegression()"
   ]
  },
  {
   "cell_type": "code",
   "execution_count": 36,
   "metadata": {
    "colab": {
     "base_uri": "https://localhost:8080/",
     "height": 213
    },
    "executionInfo": {
     "elapsed": 38,
     "status": "ok",
     "timestamp": 1703121913393,
     "user": {
      "displayName": "Manthesh L",
      "userId": "04646793550545002401"
     },
     "user_tz": -330
    },
    "id": "06OYYxG08tYq",
    "outputId": "dc075bd1-dff6-4ce6-9272-b6c40e79b68a"
   },
   "outputs": [
    {
     "name": "stderr",
     "output_type": "stream",
     "text": [
      "C:\\Users\\madhu\\anaconda3\\lib\\site-packages\\sklearn\\linear_model\\_logistic.py:814: ConvergenceWarning: lbfgs failed to converge (status=1):\n",
      "STOP: TOTAL NO. of ITERATIONS REACHED LIMIT.\n",
      "\n",
      "Increase the number of iterations (max_iter) or scale the data as shown in:\n",
      "    https://scikit-learn.org/stable/modules/preprocessing.html\n",
      "Please also refer to the documentation for alternative solver options:\n",
      "    https://scikit-learn.org/stable/modules/linear_model.html#logistic-regression\n",
      "  n_iter_i = _check_optimize_result(\n"
     ]
    },
    {
     "data": {
      "text/plain": [
       "LogisticRegression()"
      ]
     },
     "execution_count": 36,
     "metadata": {},
     "output_type": "execute_result"
    }
   ],
   "source": [
    "model.fit(x_train, y_train)"
   ]
  },
  {
   "cell_type": "code",
   "execution_count": 37,
   "metadata": {
    "colab": {
     "base_uri": "https://localhost:8080/",
     "height": 423
    },
    "executionInfo": {
     "elapsed": 11,
     "status": "ok",
     "timestamp": 1703121914934,
     "user": {
      "displayName": "Manthesh L",
      "userId": "04646793550545002401"
     },
     "user_tz": -330
    },
    "id": "z62s4jsW8zHo",
    "outputId": "8f0596c4-31ba-4bf9-9889-a76d760da31e"
   },
   "outputs": [
    {
     "data": {
      "text/html": [
       "<div>\n",
       "<style scoped>\n",
       "    .dataframe tbody tr th:only-of-type {\n",
       "        vertical-align: middle;\n",
       "    }\n",
       "\n",
       "    .dataframe tbody tr th {\n",
       "        vertical-align: top;\n",
       "    }\n",
       "\n",
       "    .dataframe thead th {\n",
       "        text-align: right;\n",
       "    }\n",
       "</style>\n",
       "<table border=\"1\" class=\"dataframe\">\n",
       "  <thead>\n",
       "    <tr style=\"text-align: right;\">\n",
       "      <th></th>\n",
       "      <th>Age</th>\n",
       "      <th>Gender</th>\n",
       "      <th>One</th>\n",
       "      <th>Two</th>\n",
       "      <th>Three</th>\n",
       "      <th>Four</th>\n",
       "      <th>Five</th>\n",
       "      <th>Six</th>\n",
       "      <th>Seven</th>\n",
       "      <th>Eight</th>\n",
       "      <th>Nine</th>\n",
       "      <th>Ten</th>\n",
       "      <th>Eleven</th>\n",
       "      <th>Twelve</th>\n",
       "      <th>Thirteen</th>\n",
       "      <th>Fourteen</th>\n",
       "      <th>AScore</th>\n",
       "      <th>DScore</th>\n",
       "    </tr>\n",
       "  </thead>\n",
       "  <tbody>\n",
       "    <tr>\n",
       "      <th>0</th>\n",
       "      <td>26</td>\n",
       "      <td>0</td>\n",
       "      <td>0</td>\n",
       "      <td>3</td>\n",
       "      <td>1</td>\n",
       "      <td>2</td>\n",
       "      <td>1</td>\n",
       "      <td>3</td>\n",
       "      <td>0</td>\n",
       "      <td>0</td>\n",
       "      <td>2</td>\n",
       "      <td>1</td>\n",
       "      <td>1</td>\n",
       "      <td>0</td>\n",
       "      <td>0</td>\n",
       "      <td>0</td>\n",
       "      <td>20</td>\n",
       "      <td>8</td>\n",
       "    </tr>\n",
       "    <tr>\n",
       "      <th>1</th>\n",
       "      <td>23</td>\n",
       "      <td>0</td>\n",
       "      <td>0</td>\n",
       "      <td>0</td>\n",
       "      <td>2</td>\n",
       "      <td>2</td>\n",
       "      <td>3</td>\n",
       "      <td>1</td>\n",
       "      <td>2</td>\n",
       "      <td>0</td>\n",
       "      <td>3</td>\n",
       "      <td>1</td>\n",
       "      <td>0</td>\n",
       "      <td>2</td>\n",
       "      <td>3</td>\n",
       "      <td>1</td>\n",
       "      <td>20</td>\n",
       "      <td>20</td>\n",
       "    </tr>\n",
       "    <tr>\n",
       "      <th>2</th>\n",
       "      <td>23</td>\n",
       "      <td>1</td>\n",
       "      <td>0</td>\n",
       "      <td>3</td>\n",
       "      <td>1</td>\n",
       "      <td>2</td>\n",
       "      <td>3</td>\n",
       "      <td>3</td>\n",
       "      <td>0</td>\n",
       "      <td>0</td>\n",
       "      <td>1</td>\n",
       "      <td>2</td>\n",
       "      <td>2</td>\n",
       "      <td>3</td>\n",
       "      <td>3</td>\n",
       "      <td>3</td>\n",
       "      <td>24</td>\n",
       "      <td>28</td>\n",
       "    </tr>\n",
       "    <tr>\n",
       "      <th>3</th>\n",
       "      <td>25</td>\n",
       "      <td>1</td>\n",
       "      <td>0</td>\n",
       "      <td>3</td>\n",
       "      <td>3</td>\n",
       "      <td>1</td>\n",
       "      <td>1</td>\n",
       "      <td>2</td>\n",
       "      <td>2</td>\n",
       "      <td>0</td>\n",
       "      <td>0</td>\n",
       "      <td>2</td>\n",
       "      <td>2</td>\n",
       "      <td>0</td>\n",
       "      <td>3</td>\n",
       "      <td>3</td>\n",
       "      <td>24</td>\n",
       "      <td>20</td>\n",
       "    </tr>\n",
       "    <tr>\n",
       "      <th>4</th>\n",
       "      <td>19</td>\n",
       "      <td>0</td>\n",
       "      <td>0</td>\n",
       "      <td>1</td>\n",
       "      <td>1</td>\n",
       "      <td>3</td>\n",
       "      <td>0</td>\n",
       "      <td>3</td>\n",
       "      <td>0</td>\n",
       "      <td>0</td>\n",
       "      <td>2</td>\n",
       "      <td>1</td>\n",
       "      <td>0</td>\n",
       "      <td>2</td>\n",
       "      <td>1</td>\n",
       "      <td>0</td>\n",
       "      <td>16</td>\n",
       "      <td>12</td>\n",
       "    </tr>\n",
       "    <tr>\n",
       "      <th>...</th>\n",
       "      <td>...</td>\n",
       "      <td>...</td>\n",
       "      <td>...</td>\n",
       "      <td>...</td>\n",
       "      <td>...</td>\n",
       "      <td>...</td>\n",
       "      <td>...</td>\n",
       "      <td>...</td>\n",
       "      <td>...</td>\n",
       "      <td>...</td>\n",
       "      <td>...</td>\n",
       "      <td>...</td>\n",
       "      <td>...</td>\n",
       "      <td>...</td>\n",
       "      <td>...</td>\n",
       "      <td>...</td>\n",
       "      <td>...</td>\n",
       "      <td>...</td>\n",
       "    </tr>\n",
       "    <tr>\n",
       "      <th>4973</th>\n",
       "      <td>23</td>\n",
       "      <td>1</td>\n",
       "      <td>1</td>\n",
       "      <td>1</td>\n",
       "      <td>2</td>\n",
       "      <td>1</td>\n",
       "      <td>1</td>\n",
       "      <td>2</td>\n",
       "      <td>2</td>\n",
       "      <td>2</td>\n",
       "      <td>2</td>\n",
       "      <td>1</td>\n",
       "      <td>1</td>\n",
       "      <td>2</td>\n",
       "      <td>2</td>\n",
       "      <td>2</td>\n",
       "      <td>20</td>\n",
       "      <td>24</td>\n",
       "    </tr>\n",
       "    <tr>\n",
       "      <th>4974</th>\n",
       "      <td>17</td>\n",
       "      <td>0</td>\n",
       "      <td>1</td>\n",
       "      <td>1</td>\n",
       "      <td>1</td>\n",
       "      <td>2</td>\n",
       "      <td>1</td>\n",
       "      <td>2</td>\n",
       "      <td>2</td>\n",
       "      <td>2</td>\n",
       "      <td>1</td>\n",
       "      <td>2</td>\n",
       "      <td>1</td>\n",
       "      <td>2</td>\n",
       "      <td>1</td>\n",
       "      <td>1</td>\n",
       "      <td>20</td>\n",
       "      <td>20</td>\n",
       "    </tr>\n",
       "    <tr>\n",
       "      <th>4975</th>\n",
       "      <td>20</td>\n",
       "      <td>1</td>\n",
       "      <td>1</td>\n",
       "      <td>2</td>\n",
       "      <td>2</td>\n",
       "      <td>1</td>\n",
       "      <td>1</td>\n",
       "      <td>1</td>\n",
       "      <td>2</td>\n",
       "      <td>2</td>\n",
       "      <td>2</td>\n",
       "      <td>2</td>\n",
       "      <td>2</td>\n",
       "      <td>1</td>\n",
       "      <td>2</td>\n",
       "      <td>1</td>\n",
       "      <td>20</td>\n",
       "      <td>24</td>\n",
       "    </tr>\n",
       "    <tr>\n",
       "      <th>4976</th>\n",
       "      <td>18</td>\n",
       "      <td>1</td>\n",
       "      <td>1</td>\n",
       "      <td>1</td>\n",
       "      <td>1</td>\n",
       "      <td>1</td>\n",
       "      <td>2</td>\n",
       "      <td>2</td>\n",
       "      <td>2</td>\n",
       "      <td>2</td>\n",
       "      <td>1</td>\n",
       "      <td>2</td>\n",
       "      <td>2</td>\n",
       "      <td>1</td>\n",
       "      <td>2</td>\n",
       "      <td>2</td>\n",
       "      <td>20</td>\n",
       "      <td>24</td>\n",
       "    </tr>\n",
       "    <tr>\n",
       "      <th>4977</th>\n",
       "      <td>26</td>\n",
       "      <td>1</td>\n",
       "      <td>1</td>\n",
       "      <td>2</td>\n",
       "      <td>2</td>\n",
       "      <td>2</td>\n",
       "      <td>1</td>\n",
       "      <td>1</td>\n",
       "      <td>1</td>\n",
       "      <td>2</td>\n",
       "      <td>1</td>\n",
       "      <td>1</td>\n",
       "      <td>1</td>\n",
       "      <td>1</td>\n",
       "      <td>1</td>\n",
       "      <td>1</td>\n",
       "      <td>20</td>\n",
       "      <td>16</td>\n",
       "    </tr>\n",
       "  </tbody>\n",
       "</table>\n",
       "<p>4978 rows × 18 columns</p>\n",
       "</div>"
      ],
      "text/plain": [
       "      Age  Gender  One  Two  Three  Four  Five  Six  Seven  Eight  Nine  Ten  \\\n",
       "0      26       0    0    3      1     2     1    3      0      0     2    1   \n",
       "1      23       0    0    0      2     2     3    1      2      0     3    1   \n",
       "2      23       1    0    3      1     2     3    3      0      0     1    2   \n",
       "3      25       1    0    3      3     1     1    2      2      0     0    2   \n",
       "4      19       0    0    1      1     3     0    3      0      0     2    1   \n",
       "...   ...     ...  ...  ...    ...   ...   ...  ...    ...    ...   ...  ...   \n",
       "4973   23       1    1    1      2     1     1    2      2      2     2    1   \n",
       "4974   17       0    1    1      1     2     1    2      2      2     1    2   \n",
       "4975   20       1    1    2      2     1     1    1      2      2     2    2   \n",
       "4976   18       1    1    1      1     1     2    2      2      2     1    2   \n",
       "4977   26       1    1    2      2     2     1    1      1      2     1    1   \n",
       "\n",
       "      Eleven  Twelve  Thirteen  Fourteen  AScore  DScore  \n",
       "0          1       0         0         0      20       8  \n",
       "1          0       2         3         1      20      20  \n",
       "2          2       3         3         3      24      28  \n",
       "3          2       0         3         3      24      20  \n",
       "4          0       2         1         0      16      12  \n",
       "...      ...     ...       ...       ...     ...     ...  \n",
       "4973       1       2         2         2      20      24  \n",
       "4974       1       2         1         1      20      20  \n",
       "4975       2       1         2         1      20      24  \n",
       "4976       2       1         2         2      20      24  \n",
       "4977       1       1         1         1      20      16  \n",
       "\n",
       "[4978 rows x 18 columns]"
      ]
     },
     "execution_count": 37,
     "metadata": {},
     "output_type": "execute_result"
    }
   ],
   "source": [
    "df"
   ]
  },
  {
   "cell_type": "code",
   "execution_count": 38,
   "metadata": {
    "colab": {
     "base_uri": "https://localhost:8080/"
    },
    "executionInfo": {
     "elapsed": 14,
     "status": "ok",
     "timestamp": 1703121918335,
     "user": {
      "displayName": "Manthesh L",
      "userId": "04646793550545002401"
     },
     "user_tz": -330
    },
    "id": "HGtx5ofp84wr",
    "outputId": "8c026155-514f-494f-c494-adbb987335a0"
   },
   "outputs": [
    {
     "data": {
      "text/plain": [
       "0.5943775100401606"
      ]
     },
     "execution_count": 38,
     "metadata": {},
     "output_type": "execute_result"
    }
   ],
   "source": [
    "predicted_output = model.predict(x_test)\n",
    "score=accuracy_score(predicted_output,y_test)\n",
    "score"
   ]
  },
  {
   "cell_type": "code",
   "execution_count": 39,
   "metadata": {
    "colab": {
     "base_uri": "https://localhost:8080/"
    },
    "executionInfo": {
     "elapsed": 1169,
     "status": "ok",
     "timestamp": 1703121921690,
     "user": {
      "displayName": "Manthesh L",
      "userId": "04646793550545002401"
     },
     "user_tz": -330
    },
    "id": "XwZdFb8K89g2",
    "outputId": "2f84fe3f-8ac6-458b-8b8e-713dbc27c7bf"
   },
   "outputs": [
    {
     "data": {
      "text/plain": [
       "0.7991967871485943"
      ]
     },
     "execution_count": 39,
     "metadata": {},
     "output_type": "execute_result"
    }
   ],
   "source": [
    "model2=RandomForestClassifier()\n",
    "model2.fit(x_train, y_train)\n",
    "preds=model2.predict(x_test)\n",
    "score2=accuracy_score(preds,y_test)\n",
    "score2"
   ]
  },
  {
   "cell_type": "code",
   "execution_count": 40,
   "metadata": {
    "colab": {
     "base_uri": "https://localhost:8080/"
    },
    "executionInfo": {
     "elapsed": 389,
     "status": "ok",
     "timestamp": 1703121924410,
     "user": {
      "displayName": "Manthesh L",
      "userId": "04646793550545002401"
     },
     "user_tz": -330
    },
    "id": "aZy53ISu9BQv",
    "outputId": "26eaa88b-55a3-418c-8394-ac1bf68d5a72"
   },
   "outputs": [
    {
     "data": {
      "text/plain": [
       "0.7289156626506024"
      ]
     },
     "execution_count": 40,
     "metadata": {},
     "output_type": "execute_result"
    }
   ],
   "source": [
    "model3=DecisionTreeClassifier()\n",
    "model3.fit(x_train, y_train)\n",
    "pred1=model3.predict(x_test)\n",
    "score3=accuracy_score(pred1,y_test)\n",
    "score3"
   ]
  },
  {
   "cell_type": "code",
   "execution_count": 41,
   "metadata": {
    "colab": {
     "base_uri": "https://localhost:8080/"
    },
    "executionInfo": {
     "elapsed": 615,
     "status": "ok",
     "timestamp": 1703121928801,
     "user": {
      "displayName": "Manthesh L",
      "userId": "04646793550545002401"
     },
     "user_tz": -330
    },
    "id": "KNZMmSwM9Frh",
    "outputId": "67c0869f-d6b9-4bb4-dd03-08a446ea9934"
   },
   "outputs": [
    {
     "data": {
      "text/plain": [
       "0.643574297188755"
      ]
     },
     "execution_count": 41,
     "metadata": {},
     "output_type": "execute_result"
    }
   ],
   "source": [
    "model4=GaussianNB()\n",
    "model4.fit(x_train, y_train)\n",
    "pred2=model4.predict(x_test)\n",
    "score4=accuracy_score(pred2,y_test)\n",
    "score4"
   ]
  },
  {
   "cell_type": "code",
   "execution_count": 42,
   "metadata": {
    "colab": {
     "base_uri": "https://localhost:8080/"
    },
    "executionInfo": {
     "elapsed": 388,
     "status": "ok",
     "timestamp": 1703121930877,
     "user": {
      "displayName": "Manthesh L",
      "userId": "04646793550545002401"
     },
     "user_tz": -330
    },
    "id": "R3UtgacS9KAh",
    "outputId": "5e59ebba-9717-4de2-9da9-40579999a839"
   },
   "outputs": [
    {
     "name": "stderr",
     "output_type": "stream",
     "text": [
      "C:\\Users\\madhu\\anaconda3\\lib\\site-packages\\sklearn\\neighbors\\_classification.py:228: FutureWarning: Unlike other reduction functions (e.g. `skew`, `kurtosis`), the default behavior of `mode` typically preserves the axis it acts along. In SciPy 1.11.0, this behavior will change: the default value of `keepdims` will become False, the `axis` over which the statistic is taken will be eliminated, and the value None will no longer be accepted. Set `keepdims` to True or False to avoid this warning.\n",
      "  mode, _ = stats.mode(_y[neigh_ind, k], axis=1)\n"
     ]
    },
    {
     "data": {
      "text/plain": [
       "0.6546184738955824"
      ]
     },
     "execution_count": 42,
     "metadata": {},
     "output_type": "execute_result"
    }
   ],
   "source": [
    "model5=KNeighborsClassifier()\n",
    "model5.fit(x_train, y_train)\n",
    "pred3=model5.predict(x_test)\n",
    "score5=accuracy_score(pred3,y_test)\n",
    "score5"
   ]
  },
  {
   "cell_type": "code",
   "execution_count": 43,
   "metadata": {
    "colab": {
     "base_uri": "https://localhost:8080/"
    },
    "executionInfo": {
     "elapsed": 1717,
     "status": "ok",
     "timestamp": 1703121934222,
     "user": {
      "displayName": "Manthesh L",
      "userId": "04646793550545002401"
     },
     "user_tz": -330
    },
    "id": "r1jRmKSG9Twt",
    "outputId": "b316ea4b-2d67-47a1-d02e-9ab85c9b3430"
   },
   "outputs": [
    {
     "data": {
      "text/plain": [
       "0.8443775100401606"
      ]
     },
     "execution_count": 43,
     "metadata": {},
     "output_type": "execute_result"
    }
   ],
   "source": [
    "model6=SVC()\n",
    "model6.fit(x_train, y_train)\n",
    "pred4=model6.predict(x_test)\n",
    "score6=accuracy_score(pred4,y_test)\n",
    "score6"
   ]
  },
  {
   "cell_type": "code",
   "execution_count": 45,
   "metadata": {
    "id": "kBM9dYsP9Xt0"
   },
   "outputs": [
    {
     "name": "stderr",
     "output_type": "stream",
     "text": [
      "C:\\Users\\madhu\\anaconda3\\lib\\site-packages\\sklearn\\base.py:450: UserWarning: X does not have valid feature names, but SVC was fitted with feature names\n",
      "  warnings.warn(\n"
     ]
    },
    {
     "ename": "ValueError",
     "evalue": "X has 7 features, but SVC is expecting 9 features as input.",
     "output_type": "error",
     "traceback": [
      "\u001b[1;31m---------------------------------------------------------------------------\u001b[0m",
      "\u001b[1;31mValueError\u001b[0m                                Traceback (most recent call last)",
      "Input \u001b[1;32mIn [45]\u001b[0m, in \u001b[0;36m<cell line: 2>\u001b[1;34m()\u001b[0m\n\u001b[0;32m      1\u001b[0m d_input_new\u001b[38;5;241m=\u001b[39m[\u001b[38;5;241m1\u001b[39m,\u001b[38;5;241m0\u001b[39m,\u001b[38;5;241m2\u001b[39m,\u001b[38;5;241m3\u001b[39m,\u001b[38;5;241m1\u001b[39m,\u001b[38;5;241m3\u001b[39m,\u001b[38;5;241m2\u001b[39m]\n\u001b[1;32m----> 2\u001b[0m d_result\u001b[38;5;241m=\u001b[39m\u001b[43mmodel6\u001b[49m\u001b[38;5;241;43m.\u001b[39;49m\u001b[43mpredict\u001b[49m\u001b[43m(\u001b[49m\u001b[43m[\u001b[49m\u001b[43md_input_new\u001b[49m\u001b[43m]\u001b[49m\u001b[43m)\u001b[49m\n\u001b[0;32m      3\u001b[0m d_result\n",
      "File \u001b[1;32m~\\anaconda3\\lib\\site-packages\\sklearn\\svm\\_base.py:791\u001b[0m, in \u001b[0;36mBaseSVC.predict\u001b[1;34m(self, X)\u001b[0m\n\u001b[0;32m    789\u001b[0m     y \u001b[38;5;241m=\u001b[39m np\u001b[38;5;241m.\u001b[39margmax(\u001b[38;5;28mself\u001b[39m\u001b[38;5;241m.\u001b[39mdecision_function(X), axis\u001b[38;5;241m=\u001b[39m\u001b[38;5;241m1\u001b[39m)\n\u001b[0;32m    790\u001b[0m \u001b[38;5;28;01melse\u001b[39;00m:\n\u001b[1;32m--> 791\u001b[0m     y \u001b[38;5;241m=\u001b[39m \u001b[38;5;28;43msuper\u001b[39;49m\u001b[43m(\u001b[49m\u001b[43m)\u001b[49m\u001b[38;5;241;43m.\u001b[39;49m\u001b[43mpredict\u001b[49m\u001b[43m(\u001b[49m\u001b[43mX\u001b[49m\u001b[43m)\u001b[49m\n\u001b[0;32m    792\u001b[0m \u001b[38;5;28;01mreturn\u001b[39;00m \u001b[38;5;28mself\u001b[39m\u001b[38;5;241m.\u001b[39mclasses_\u001b[38;5;241m.\u001b[39mtake(np\u001b[38;5;241m.\u001b[39masarray(y, dtype\u001b[38;5;241m=\u001b[39mnp\u001b[38;5;241m.\u001b[39mintp))\n",
      "File \u001b[1;32m~\\anaconda3\\lib\\site-packages\\sklearn\\svm\\_base.py:414\u001b[0m, in \u001b[0;36mBaseLibSVM.predict\u001b[1;34m(self, X)\u001b[0m\n\u001b[0;32m    398\u001b[0m \u001b[38;5;28;01mdef\u001b[39;00m \u001b[38;5;21mpredict\u001b[39m(\u001b[38;5;28mself\u001b[39m, X):\n\u001b[0;32m    399\u001b[0m     \u001b[38;5;124;03m\"\"\"Perform regression on samples in X.\u001b[39;00m\n\u001b[0;32m    400\u001b[0m \n\u001b[0;32m    401\u001b[0m \u001b[38;5;124;03m    For an one-class model, +1 (inlier) or -1 (outlier) is returned.\u001b[39;00m\n\u001b[1;32m   (...)\u001b[0m\n\u001b[0;32m    412\u001b[0m \u001b[38;5;124;03m        The predicted values.\u001b[39;00m\n\u001b[0;32m    413\u001b[0m \u001b[38;5;124;03m    \"\"\"\u001b[39;00m\n\u001b[1;32m--> 414\u001b[0m     X \u001b[38;5;241m=\u001b[39m \u001b[38;5;28;43mself\u001b[39;49m\u001b[38;5;241;43m.\u001b[39;49m\u001b[43m_validate_for_predict\u001b[49m\u001b[43m(\u001b[49m\u001b[43mX\u001b[49m\u001b[43m)\u001b[49m\n\u001b[0;32m    415\u001b[0m     predict \u001b[38;5;241m=\u001b[39m \u001b[38;5;28mself\u001b[39m\u001b[38;5;241m.\u001b[39m_sparse_predict \u001b[38;5;28;01mif\u001b[39;00m \u001b[38;5;28mself\u001b[39m\u001b[38;5;241m.\u001b[39m_sparse \u001b[38;5;28;01melse\u001b[39;00m \u001b[38;5;28mself\u001b[39m\u001b[38;5;241m.\u001b[39m_dense_predict\n\u001b[0;32m    416\u001b[0m     \u001b[38;5;28;01mreturn\u001b[39;00m predict(X)\n",
      "File \u001b[1;32m~\\anaconda3\\lib\\site-packages\\sklearn\\svm\\_base.py:592\u001b[0m, in \u001b[0;36mBaseLibSVM._validate_for_predict\u001b[1;34m(self, X)\u001b[0m\n\u001b[0;32m    589\u001b[0m check_is_fitted(\u001b[38;5;28mself\u001b[39m)\n\u001b[0;32m    591\u001b[0m \u001b[38;5;28;01mif\u001b[39;00m \u001b[38;5;129;01mnot\u001b[39;00m callable(\u001b[38;5;28mself\u001b[39m\u001b[38;5;241m.\u001b[39mkernel):\n\u001b[1;32m--> 592\u001b[0m     X \u001b[38;5;241m=\u001b[39m \u001b[38;5;28;43mself\u001b[39;49m\u001b[38;5;241;43m.\u001b[39;49m\u001b[43m_validate_data\u001b[49m\u001b[43m(\u001b[49m\n\u001b[0;32m    593\u001b[0m \u001b[43m        \u001b[49m\u001b[43mX\u001b[49m\u001b[43m,\u001b[49m\n\u001b[0;32m    594\u001b[0m \u001b[43m        \u001b[49m\u001b[43maccept_sparse\u001b[49m\u001b[38;5;241;43m=\u001b[39;49m\u001b[38;5;124;43m\"\u001b[39;49m\u001b[38;5;124;43mcsr\u001b[39;49m\u001b[38;5;124;43m\"\u001b[39;49m\u001b[43m,\u001b[49m\n\u001b[0;32m    595\u001b[0m \u001b[43m        \u001b[49m\u001b[43mdtype\u001b[49m\u001b[38;5;241;43m=\u001b[39;49m\u001b[43mnp\u001b[49m\u001b[38;5;241;43m.\u001b[39;49m\u001b[43mfloat64\u001b[49m\u001b[43m,\u001b[49m\n\u001b[0;32m    596\u001b[0m \u001b[43m        \u001b[49m\u001b[43morder\u001b[49m\u001b[38;5;241;43m=\u001b[39;49m\u001b[38;5;124;43m\"\u001b[39;49m\u001b[38;5;124;43mC\u001b[39;49m\u001b[38;5;124;43m\"\u001b[39;49m\u001b[43m,\u001b[49m\n\u001b[0;32m    597\u001b[0m \u001b[43m        \u001b[49m\u001b[43maccept_large_sparse\u001b[49m\u001b[38;5;241;43m=\u001b[39;49m\u001b[38;5;28;43;01mFalse\u001b[39;49;00m\u001b[43m,\u001b[49m\n\u001b[0;32m    598\u001b[0m \u001b[43m        \u001b[49m\u001b[43mreset\u001b[49m\u001b[38;5;241;43m=\u001b[39;49m\u001b[38;5;28;43;01mFalse\u001b[39;49;00m\u001b[43m,\u001b[49m\n\u001b[0;32m    599\u001b[0m \u001b[43m    \u001b[49m\u001b[43m)\u001b[49m\n\u001b[0;32m    601\u001b[0m \u001b[38;5;28;01mif\u001b[39;00m \u001b[38;5;28mself\u001b[39m\u001b[38;5;241m.\u001b[39m_sparse \u001b[38;5;129;01mand\u001b[39;00m \u001b[38;5;129;01mnot\u001b[39;00m sp\u001b[38;5;241m.\u001b[39misspmatrix(X):\n\u001b[0;32m    602\u001b[0m     X \u001b[38;5;241m=\u001b[39m sp\u001b[38;5;241m.\u001b[39mcsr_matrix(X)\n",
      "File \u001b[1;32m~\\anaconda3\\lib\\site-packages\\sklearn\\base.py:585\u001b[0m, in \u001b[0;36mBaseEstimator._validate_data\u001b[1;34m(self, X, y, reset, validate_separately, **check_params)\u001b[0m\n\u001b[0;32m    582\u001b[0m     out \u001b[38;5;241m=\u001b[39m X, y\n\u001b[0;32m    584\u001b[0m \u001b[38;5;28;01mif\u001b[39;00m \u001b[38;5;129;01mnot\u001b[39;00m no_val_X \u001b[38;5;129;01mand\u001b[39;00m check_params\u001b[38;5;241m.\u001b[39mget(\u001b[38;5;124m\"\u001b[39m\u001b[38;5;124mensure_2d\u001b[39m\u001b[38;5;124m\"\u001b[39m, \u001b[38;5;28;01mTrue\u001b[39;00m):\n\u001b[1;32m--> 585\u001b[0m     \u001b[38;5;28;43mself\u001b[39;49m\u001b[38;5;241;43m.\u001b[39;49m\u001b[43m_check_n_features\u001b[49m\u001b[43m(\u001b[49m\u001b[43mX\u001b[49m\u001b[43m,\u001b[49m\u001b[43m \u001b[49m\u001b[43mreset\u001b[49m\u001b[38;5;241;43m=\u001b[39;49m\u001b[43mreset\u001b[49m\u001b[43m)\u001b[49m\n\u001b[0;32m    587\u001b[0m \u001b[38;5;28;01mreturn\u001b[39;00m out\n",
      "File \u001b[1;32m~\\anaconda3\\lib\\site-packages\\sklearn\\base.py:400\u001b[0m, in \u001b[0;36mBaseEstimator._check_n_features\u001b[1;34m(self, X, reset)\u001b[0m\n\u001b[0;32m    397\u001b[0m     \u001b[38;5;28;01mreturn\u001b[39;00m\n\u001b[0;32m    399\u001b[0m \u001b[38;5;28;01mif\u001b[39;00m n_features \u001b[38;5;241m!=\u001b[39m \u001b[38;5;28mself\u001b[39m\u001b[38;5;241m.\u001b[39mn_features_in_:\n\u001b[1;32m--> 400\u001b[0m     \u001b[38;5;28;01mraise\u001b[39;00m \u001b[38;5;167;01mValueError\u001b[39;00m(\n\u001b[0;32m    401\u001b[0m         \u001b[38;5;124mf\u001b[39m\u001b[38;5;124m\"\u001b[39m\u001b[38;5;124mX has \u001b[39m\u001b[38;5;132;01m{\u001b[39;00mn_features\u001b[38;5;132;01m}\u001b[39;00m\u001b[38;5;124m features, but \u001b[39m\u001b[38;5;132;01m{\u001b[39;00m\u001b[38;5;28mself\u001b[39m\u001b[38;5;241m.\u001b[39m\u001b[38;5;18m__class__\u001b[39m\u001b[38;5;241m.\u001b[39m\u001b[38;5;18m__name__\u001b[39m\u001b[38;5;132;01m}\u001b[39;00m\u001b[38;5;124m \u001b[39m\u001b[38;5;124m\"\u001b[39m\n\u001b[0;32m    402\u001b[0m         \u001b[38;5;124mf\u001b[39m\u001b[38;5;124m\"\u001b[39m\u001b[38;5;124mis expecting \u001b[39m\u001b[38;5;132;01m{\u001b[39;00m\u001b[38;5;28mself\u001b[39m\u001b[38;5;241m.\u001b[39mn_features_in_\u001b[38;5;132;01m}\u001b[39;00m\u001b[38;5;124m features as input.\u001b[39m\u001b[38;5;124m\"\u001b[39m\n\u001b[0;32m    403\u001b[0m     )\n",
      "\u001b[1;31mValueError\u001b[0m: X has 7 features, but SVC is expecting 9 features as input."
     ]
    }
   ],
   "source": [
    "d_input_new=[1,0,2,3,1,3,2]\n",
    "d_result=model6.predict([d_input_new])\n",
    "d_result"
   ]
  },
  {
   "cell_type": "code",
   "execution_count": null,
   "metadata": {},
   "outputs": [],
   "source": []
  }
 ],
 "metadata": {
  "colab": {
   "authorship_tag": "ABX9TyO9ygl4mY7TJ50AhuzXBUoM",
   "provenance": []
  },
  "kernelspec": {
   "display_name": "Python 3 (ipykernel)",
   "language": "python",
   "name": "python3"
  },
  "language_info": {
   "codemirror_mode": {
    "name": "ipython",
    "version": 3
   },
   "file_extension": ".py",
   "mimetype": "text/x-python",
   "name": "python",
   "nbconvert_exporter": "python",
   "pygments_lexer": "ipython3",
   "version": "3.9.12"
  }
 },
 "nbformat": 4,
 "nbformat_minor": 1
}
