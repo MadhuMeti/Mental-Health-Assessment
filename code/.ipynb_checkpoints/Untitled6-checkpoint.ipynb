{
 "cells": [
  {
   "cell_type": "code",
   "execution_count": 1,
   "metadata": {
    "id": "KinJGifZ2vpx"
   },
   "outputs": [],
   "source": [
    "import numpy as np\n",
    "import pandas as pd\n",
    "import seaborn as sns\n",
    "from sklearn import preprocessing\n",
    "import matplotlib.pyplot as plt"
   ]
  },
  {
   "cell_type": "code",
   "execution_count": 2,
   "metadata": {
    "id": "8t4uHrMO27rP"
   },
   "outputs": [],
   "source": [
    "data=pd.read_csv('data2.csv')"
   ]
  },
  {
   "cell_type": "code",
   "execution_count": 3,
   "metadata": {
    "colab": {
     "base_uri": "https://localhost:8080/",
     "height": 399
    },
    "executionInfo": {
     "elapsed": 13,
     "status": "ok",
     "timestamp": 1703053791964,
     "user": {
      "displayName": "Manthesh L",
      "userId": "04646793550545002401"
     },
     "user_tz": -330
    },
    "id": "vYQZ-Vnw3Cmy",
    "outputId": "1a85c700-830e-4378-95b9-ee7b2d831a65"
   },
   "outputs": [
    {
     "data": {
      "text/html": [
       "<div>\n",
       "<style scoped>\n",
       "    .dataframe tbody tr th:only-of-type {\n",
       "        vertical-align: middle;\n",
       "    }\n",
       "\n",
       "    .dataframe tbody tr th {\n",
       "        vertical-align: top;\n",
       "    }\n",
       "\n",
       "    .dataframe thead th {\n",
       "        text-align: right;\n",
       "    }\n",
       "</style>\n",
       "<table border=\"1\" class=\"dataframe\">\n",
       "  <thead>\n",
       "    <tr style=\"text-align: right;\">\n",
       "      <th></th>\n",
       "      <th>Age</th>\n",
       "      <th>Gender</th>\n",
       "      <th>Dryness in mouth. (Since 1 month)</th>\n",
       "      <th>Difficulty in breathing. (Since 1 month)</th>\n",
       "      <th>Experience trembling. (Since 1 month)</th>\n",
       "      <th>Worried about panic and make a fool of themselves. (Since 1 month)</th>\n",
       "      <th>Close to panic. (Since 1 month)</th>\n",
       "      <th>Aware of the action of the heart in the absence of physical exertion. (Since 1 month)</th>\n",
       "      <th>Felt scared without any good reason. (Since 1 month)</th>\n",
       "      <th>Difficult to work up the initiative to do things. (Since 1 month)</th>\n",
       "      <th>Couldn't experience the positive feeling. (Since 1 month)</th>\n",
       "      <th>Nothing to look forward. (Since 1 month)</th>\n",
       "      <th>Felt down hearted and blue. (Since 1 month)</th>\n",
       "      <th>Unable to become enthusiastic. (Since 1 month)</th>\n",
       "      <th>Felt wasn't worth much as person. (Since 1 month)</th>\n",
       "      <th>Felt life was meaningless. (Since 1 month)</th>\n",
       "      <th>AScore</th>\n",
       "      <th>DScore</th>\n",
       "    </tr>\n",
       "  </thead>\n",
       "  <tbody>\n",
       "    <tr>\n",
       "      <th>0</th>\n",
       "      <td>21</td>\n",
       "      <td>Male</td>\n",
       "      <td>0</td>\n",
       "      <td>3</td>\n",
       "      <td>1</td>\n",
       "      <td>2</td>\n",
       "      <td>1</td>\n",
       "      <td>3</td>\n",
       "      <td>0</td>\n",
       "      <td>0</td>\n",
       "      <td>2</td>\n",
       "      <td>1</td>\n",
       "      <td>1</td>\n",
       "      <td>0</td>\n",
       "      <td>0</td>\n",
       "      <td>0</td>\n",
       "      <td>20</td>\n",
       "      <td>8</td>\n",
       "    </tr>\n",
       "    <tr>\n",
       "      <th>1</th>\n",
       "      <td>17</td>\n",
       "      <td>Female</td>\n",
       "      <td>0</td>\n",
       "      <td>0</td>\n",
       "      <td>2</td>\n",
       "      <td>2</td>\n",
       "      <td>3</td>\n",
       "      <td>1</td>\n",
       "      <td>2</td>\n",
       "      <td>0</td>\n",
       "      <td>3</td>\n",
       "      <td>1</td>\n",
       "      <td>0</td>\n",
       "      <td>2</td>\n",
       "      <td>3</td>\n",
       "      <td>1</td>\n",
       "      <td>20</td>\n",
       "      <td>20</td>\n",
       "    </tr>\n",
       "    <tr>\n",
       "      <th>2</th>\n",
       "      <td>21</td>\n",
       "      <td>Female</td>\n",
       "      <td>0</td>\n",
       "      <td>3</td>\n",
       "      <td>1</td>\n",
       "      <td>2</td>\n",
       "      <td>3</td>\n",
       "      <td>3</td>\n",
       "      <td>0</td>\n",
       "      <td>0</td>\n",
       "      <td>1</td>\n",
       "      <td>2</td>\n",
       "      <td>2</td>\n",
       "      <td>3</td>\n",
       "      <td>3</td>\n",
       "      <td>3</td>\n",
       "      <td>24</td>\n",
       "      <td>28</td>\n",
       "    </tr>\n",
       "    <tr>\n",
       "      <th>3</th>\n",
       "      <td>21</td>\n",
       "      <td>Male</td>\n",
       "      <td>0</td>\n",
       "      <td>3</td>\n",
       "      <td>3</td>\n",
       "      <td>1</td>\n",
       "      <td>1</td>\n",
       "      <td>2</td>\n",
       "      <td>2</td>\n",
       "      <td>0</td>\n",
       "      <td>0</td>\n",
       "      <td>2</td>\n",
       "      <td>2</td>\n",
       "      <td>0</td>\n",
       "      <td>3</td>\n",
       "      <td>3</td>\n",
       "      <td>24</td>\n",
       "      <td>20</td>\n",
       "    </tr>\n",
       "    <tr>\n",
       "      <th>4</th>\n",
       "      <td>19</td>\n",
       "      <td>Male</td>\n",
       "      <td>0</td>\n",
       "      <td>1</td>\n",
       "      <td>1</td>\n",
       "      <td>3</td>\n",
       "      <td>0</td>\n",
       "      <td>3</td>\n",
       "      <td>0</td>\n",
       "      <td>0</td>\n",
       "      <td>2</td>\n",
       "      <td>1</td>\n",
       "      <td>0</td>\n",
       "      <td>2</td>\n",
       "      <td>1</td>\n",
       "      <td>0</td>\n",
       "      <td>16</td>\n",
       "      <td>12</td>\n",
       "    </tr>\n",
       "  </tbody>\n",
       "</table>\n",
       "</div>"
      ],
      "text/plain": [
       "   Age  Gender  Dryness in mouth. (Since 1 month)  \\\n",
       "0   21    Male                                  0   \n",
       "1   17  Female                                  0   \n",
       "2   21  Female                                  0   \n",
       "3   21    Male                                  0   \n",
       "4   19    Male                                  0   \n",
       "\n",
       "   Difficulty in breathing. (Since 1 month)  \\\n",
       "0                                         3   \n",
       "1                                         0   \n",
       "2                                         3   \n",
       "3                                         3   \n",
       "4                                         1   \n",
       "\n",
       "   Experience trembling. (Since 1 month)  \\\n",
       "0                                      1   \n",
       "1                                      2   \n",
       "2                                      1   \n",
       "3                                      3   \n",
       "4                                      1   \n",
       "\n",
       "   Worried about panic and make a fool of themselves. (Since 1 month)  \\\n",
       "0                                                  2                    \n",
       "1                                                  2                    \n",
       "2                                                  2                    \n",
       "3                                                  1                    \n",
       "4                                                  3                    \n",
       "\n",
       "   Close to panic. (Since 1 month)  \\\n",
       "0                                1   \n",
       "1                                3   \n",
       "2                                3   \n",
       "3                                1   \n",
       "4                                0   \n",
       "\n",
       "   Aware of the action of the heart in the absence of physical exertion. (Since 1 month)  \\\n",
       "0                                                  3                                       \n",
       "1                                                  1                                       \n",
       "2                                                  3                                       \n",
       "3                                                  2                                       \n",
       "4                                                  3                                       \n",
       "\n",
       "   Felt scared without any good reason. (Since 1 month)  \\\n",
       "0                                                  0      \n",
       "1                                                  2      \n",
       "2                                                  0      \n",
       "3                                                  2      \n",
       "4                                                  0      \n",
       "\n",
       "   Difficult to work up the initiative to do things. (Since 1 month)  \\\n",
       "0                                                  0                   \n",
       "1                                                  0                   \n",
       "2                                                  0                   \n",
       "3                                                  0                   \n",
       "4                                                  0                   \n",
       "\n",
       "   Couldn't experience the positive feeling. (Since 1 month)  \\\n",
       "0                                                  2           \n",
       "1                                                  3           \n",
       "2                                                  1           \n",
       "3                                                  0           \n",
       "4                                                  2           \n",
       "\n",
       "   Nothing to look forward. (Since 1 month)  \\\n",
       "0                                         1   \n",
       "1                                         1   \n",
       "2                                         2   \n",
       "3                                         2   \n",
       "4                                         1   \n",
       "\n",
       "   Felt down hearted and blue. (Since 1 month)  \\\n",
       "0                                            1   \n",
       "1                                            0   \n",
       "2                                            2   \n",
       "3                                            2   \n",
       "4                                            0   \n",
       "\n",
       "   Unable to become enthusiastic. (Since 1 month)  \\\n",
       "0                                               0   \n",
       "1                                               2   \n",
       "2                                               3   \n",
       "3                                               0   \n",
       "4                                               2   \n",
       "\n",
       "   Felt wasn't worth much as person. (Since 1 month)  \\\n",
       "0                                                  0   \n",
       "1                                                  3   \n",
       "2                                                  3   \n",
       "3                                                  3   \n",
       "4                                                  1   \n",
       "\n",
       "   Felt life was meaningless. (Since 1 month)  AScore  DScore  \n",
       "0                                           0      20       8  \n",
       "1                                           1      20      20  \n",
       "2                                           3      24      28  \n",
       "3                                           3      24      20  \n",
       "4                                           0      16      12  "
      ]
     },
     "execution_count": 3,
     "metadata": {},
     "output_type": "execute_result"
    }
   ],
   "source": [
    "data.head()"
   ]
  },
  {
   "cell_type": "code",
   "execution_count": 4,
   "metadata": {
    "colab": {
     "base_uri": "https://localhost:8080/"
    },
    "executionInfo": {
     "elapsed": 13,
     "status": "ok",
     "timestamp": 1703053791966,
     "user": {
      "displayName": "Manthesh L",
      "userId": "04646793550545002401"
     },
     "user_tz": -330
    },
    "id": "U7GaJJS73JDo",
    "outputId": "a9f2253f-ee72-4368-8aca-becf451fb9e5"
   },
   "outputs": [
    {
     "data": {
      "text/plain": [
       "(2529, 18)"
      ]
     },
     "execution_count": 4,
     "metadata": {},
     "output_type": "execute_result"
    }
   ],
   "source": [
    "data.shape"
   ]
  },
  {
   "cell_type": "code",
   "execution_count": 5,
   "metadata": {
    "colab": {
     "base_uri": "https://localhost:8080/"
    },
    "executionInfo": {
     "elapsed": 33,
     "status": "ok",
     "timestamp": 1703053800214,
     "user": {
      "displayName": "Manthesh L",
      "userId": "04646793550545002401"
     },
     "user_tz": -330
    },
    "id": "7aApSCee3Ndm",
    "outputId": "2bf56218-410d-4b36-b016-4db30748c549"
   },
   "outputs": [
    {
     "name": "stdout",
     "output_type": "stream",
     "text": [
      "<class 'pandas.core.frame.DataFrame'>\n",
      "RangeIndex: 2529 entries, 0 to 2528\n",
      "Data columns (total 18 columns):\n",
      " #   Column                                                                                 Non-Null Count  Dtype \n",
      "---  ------                                                                                 --------------  ----- \n",
      " 0   Age                                                                                    2529 non-null   int64 \n",
      " 1   Gender                                                                                 2529 non-null   object\n",
      " 2   Dryness in mouth. (Since 1 month)                                                      2529 non-null   int64 \n",
      " 3   Difficulty in breathing. (Since 1 month)                                               2529 non-null   int64 \n",
      " 4   Experience trembling. (Since 1 month)                                                  2529 non-null   int64 \n",
      " 5   Worried about panic and make a fool of themselves. (Since 1 month)                     2529 non-null   int64 \n",
      " 6   Close to panic. (Since 1 month)                                                        2529 non-null   int64 \n",
      " 7   Aware of the action of the heart in the absence of physical exertion. (Since 1 month)  2529 non-null   int64 \n",
      " 8   Felt scared without any good reason. (Since 1 month)                                   2529 non-null   int64 \n",
      " 9   Difficult to work up the initiative to do things. (Since 1 month)                      2529 non-null   int64 \n",
      " 10  Couldn't experience the positive feeling. (Since 1 month)                              2529 non-null   int64 \n",
      " 11  Nothing to look forward. (Since 1 month)                                               2529 non-null   int64 \n",
      " 12  Felt down hearted and blue. (Since 1 month)                                            2529 non-null   int64 \n",
      " 13  Unable to become enthusiastic. (Since 1 month)                                         2529 non-null   int64 \n",
      " 14  Felt wasn't worth much as person. (Since 1 month)                                      2529 non-null   int64 \n",
      " 15  Felt life was meaningless. (Since 1 month)                                             2529 non-null   int64 \n",
      " 16  AScore                                                                                 2529 non-null   int64 \n",
      " 17  DScore                                                                                 2529 non-null   int64 \n",
      "dtypes: int64(17), object(1)\n",
      "memory usage: 355.8+ KB\n"
     ]
    }
   ],
   "source": [
    "data.info()"
   ]
  },
  {
   "cell_type": "code",
   "execution_count": 6,
   "metadata": {
    "id": "YEoEj0_v3SKM"
   },
   "outputs": [],
   "source": [
    "df = data[['Dryness in mouth. (Since 1 month)', 'Difficulty in breathing. (Since 1 month)', 'Experience trembling. (Since 1 month)',\n",
    "       'Worried about panic and make a fool of themselves. (Since 1 month)', 'Close to panic. (Since 1 month)', 'Aware of the action of the heart in the absence of physical exertion. (Since 1 month)', 'Felt scared without any good reason. (Since 1 month)',\n",
    "       'Difficult to work up the initiative to do things. (Since 1 month)',\"Couldn't experience the positive feeling. (Since 1 month)\",'Nothing to look forward. (Since 1 month)','Felt down hearted and blue. (Since 1 month)','Unable to become enthusiastic. (Since 1 month)',\"Felt wasn't worth much as person. (Since 1 month)\",'Felt life was meaningless. (Since 1 month)','AScore','DScore']]"
   ]
  },
  {
   "cell_type": "code",
   "execution_count": 7,
   "metadata": {
    "colab": {
     "base_uri": "https://localhost:8080/",
     "height": 617
    },
    "executionInfo": {
     "elapsed": 906,
     "status": "ok",
     "timestamp": 1703053821936,
     "user": {
      "displayName": "Manthesh L",
      "userId": "04646793550545002401"
     },
     "user_tz": -330
    },
    "id": "5DEC5UDN3a8o",
    "outputId": "cd8c7ba4-6aea-4743-94ec-b83de873ba12"
   },
   "outputs": [
    {
     "data": {
      "text/html": [
       "<div>\n",
       "<style scoped>\n",
       "    .dataframe tbody tr th:only-of-type {\n",
       "        vertical-align: middle;\n",
       "    }\n",
       "\n",
       "    .dataframe tbody tr th {\n",
       "        vertical-align: top;\n",
       "    }\n",
       "\n",
       "    .dataframe thead th {\n",
       "        text-align: right;\n",
       "    }\n",
       "</style>\n",
       "<table border=\"1\" class=\"dataframe\">\n",
       "  <thead>\n",
       "    <tr style=\"text-align: right;\">\n",
       "      <th></th>\n",
       "      <th>Dryness in mouth. (Since 1 month)</th>\n",
       "      <th>Difficulty in breathing. (Since 1 month)</th>\n",
       "      <th>Experience trembling. (Since 1 month)</th>\n",
       "      <th>Worried about panic and make a fool of themselves. (Since 1 month)</th>\n",
       "      <th>Close to panic. (Since 1 month)</th>\n",
       "      <th>Aware of the action of the heart in the absence of physical exertion. (Since 1 month)</th>\n",
       "      <th>Felt scared without any good reason. (Since 1 month)</th>\n",
       "      <th>Difficult to work up the initiative to do things. (Since 1 month)</th>\n",
       "      <th>Couldn't experience the positive feeling. (Since 1 month)</th>\n",
       "      <th>Nothing to look forward. (Since 1 month)</th>\n",
       "      <th>Felt down hearted and blue. (Since 1 month)</th>\n",
       "      <th>Unable to become enthusiastic. (Since 1 month)</th>\n",
       "      <th>Felt wasn't worth much as person. (Since 1 month)</th>\n",
       "      <th>Felt life was meaningless. (Since 1 month)</th>\n",
       "      <th>AScore</th>\n",
       "      <th>DScore</th>\n",
       "    </tr>\n",
       "  </thead>\n",
       "  <tbody>\n",
       "    <tr>\n",
       "      <th>0</th>\n",
       "      <td>0</td>\n",
       "      <td>3</td>\n",
       "      <td>1</td>\n",
       "      <td>2</td>\n",
       "      <td>1</td>\n",
       "      <td>3</td>\n",
       "      <td>0</td>\n",
       "      <td>0</td>\n",
       "      <td>2</td>\n",
       "      <td>1</td>\n",
       "      <td>1</td>\n",
       "      <td>0</td>\n",
       "      <td>0</td>\n",
       "      <td>0</td>\n",
       "      <td>20</td>\n",
       "      <td>8</td>\n",
       "    </tr>\n",
       "    <tr>\n",
       "      <th>1</th>\n",
       "      <td>0</td>\n",
       "      <td>0</td>\n",
       "      <td>2</td>\n",
       "      <td>2</td>\n",
       "      <td>3</td>\n",
       "      <td>1</td>\n",
       "      <td>2</td>\n",
       "      <td>0</td>\n",
       "      <td>3</td>\n",
       "      <td>1</td>\n",
       "      <td>0</td>\n",
       "      <td>2</td>\n",
       "      <td>3</td>\n",
       "      <td>1</td>\n",
       "      <td>20</td>\n",
       "      <td>20</td>\n",
       "    </tr>\n",
       "    <tr>\n",
       "      <th>2</th>\n",
       "      <td>0</td>\n",
       "      <td>3</td>\n",
       "      <td>1</td>\n",
       "      <td>2</td>\n",
       "      <td>3</td>\n",
       "      <td>3</td>\n",
       "      <td>0</td>\n",
       "      <td>0</td>\n",
       "      <td>1</td>\n",
       "      <td>2</td>\n",
       "      <td>2</td>\n",
       "      <td>3</td>\n",
       "      <td>3</td>\n",
       "      <td>3</td>\n",
       "      <td>24</td>\n",
       "      <td>28</td>\n",
       "    </tr>\n",
       "    <tr>\n",
       "      <th>3</th>\n",
       "      <td>0</td>\n",
       "      <td>3</td>\n",
       "      <td>3</td>\n",
       "      <td>1</td>\n",
       "      <td>1</td>\n",
       "      <td>2</td>\n",
       "      <td>2</td>\n",
       "      <td>0</td>\n",
       "      <td>0</td>\n",
       "      <td>2</td>\n",
       "      <td>2</td>\n",
       "      <td>0</td>\n",
       "      <td>3</td>\n",
       "      <td>3</td>\n",
       "      <td>24</td>\n",
       "      <td>20</td>\n",
       "    </tr>\n",
       "    <tr>\n",
       "      <th>4</th>\n",
       "      <td>0</td>\n",
       "      <td>1</td>\n",
       "      <td>1</td>\n",
       "      <td>3</td>\n",
       "      <td>0</td>\n",
       "      <td>3</td>\n",
       "      <td>0</td>\n",
       "      <td>0</td>\n",
       "      <td>2</td>\n",
       "      <td>1</td>\n",
       "      <td>0</td>\n",
       "      <td>2</td>\n",
       "      <td>1</td>\n",
       "      <td>0</td>\n",
       "      <td>16</td>\n",
       "      <td>12</td>\n",
       "    </tr>\n",
       "    <tr>\n",
       "      <th>...</th>\n",
       "      <td>...</td>\n",
       "      <td>...</td>\n",
       "      <td>...</td>\n",
       "      <td>...</td>\n",
       "      <td>...</td>\n",
       "      <td>...</td>\n",
       "      <td>...</td>\n",
       "      <td>...</td>\n",
       "      <td>...</td>\n",
       "      <td>...</td>\n",
       "      <td>...</td>\n",
       "      <td>...</td>\n",
       "      <td>...</td>\n",
       "      <td>...</td>\n",
       "      <td>...</td>\n",
       "      <td>...</td>\n",
       "    </tr>\n",
       "    <tr>\n",
       "      <th>2524</th>\n",
       "      <td>3</td>\n",
       "      <td>1</td>\n",
       "      <td>1</td>\n",
       "      <td>0</td>\n",
       "      <td>3</td>\n",
       "      <td>3</td>\n",
       "      <td>1</td>\n",
       "      <td>3</td>\n",
       "      <td>1</td>\n",
       "      <td>1</td>\n",
       "      <td>0</td>\n",
       "      <td>0</td>\n",
       "      <td>1</td>\n",
       "      <td>2</td>\n",
       "      <td>24</td>\n",
       "      <td>16</td>\n",
       "    </tr>\n",
       "    <tr>\n",
       "      <th>2525</th>\n",
       "      <td>3</td>\n",
       "      <td>0</td>\n",
       "      <td>1</td>\n",
       "      <td>3</td>\n",
       "      <td>0</td>\n",
       "      <td>1</td>\n",
       "      <td>0</td>\n",
       "      <td>3</td>\n",
       "      <td>2</td>\n",
       "      <td>3</td>\n",
       "      <td>1</td>\n",
       "      <td>0</td>\n",
       "      <td>3</td>\n",
       "      <td>2</td>\n",
       "      <td>16</td>\n",
       "      <td>28</td>\n",
       "    </tr>\n",
       "    <tr>\n",
       "      <th>2526</th>\n",
       "      <td>3</td>\n",
       "      <td>0</td>\n",
       "      <td>0</td>\n",
       "      <td>2</td>\n",
       "      <td>2</td>\n",
       "      <td>1</td>\n",
       "      <td>2</td>\n",
       "      <td>3</td>\n",
       "      <td>2</td>\n",
       "      <td>3</td>\n",
       "      <td>2</td>\n",
       "      <td>0</td>\n",
       "      <td>1</td>\n",
       "      <td>3</td>\n",
       "      <td>20</td>\n",
       "      <td>28</td>\n",
       "    </tr>\n",
       "    <tr>\n",
       "      <th>2527</th>\n",
       "      <td>3</td>\n",
       "      <td>1</td>\n",
       "      <td>0</td>\n",
       "      <td>3</td>\n",
       "      <td>1</td>\n",
       "      <td>3</td>\n",
       "      <td>3</td>\n",
       "      <td>3</td>\n",
       "      <td>0</td>\n",
       "      <td>3</td>\n",
       "      <td>2</td>\n",
       "      <td>3</td>\n",
       "      <td>0</td>\n",
       "      <td>3</td>\n",
       "      <td>28</td>\n",
       "      <td>28</td>\n",
       "    </tr>\n",
       "    <tr>\n",
       "      <th>2528</th>\n",
       "      <td>3</td>\n",
       "      <td>1</td>\n",
       "      <td>1</td>\n",
       "      <td>1</td>\n",
       "      <td>3</td>\n",
       "      <td>3</td>\n",
       "      <td>0</td>\n",
       "      <td>3</td>\n",
       "      <td>3</td>\n",
       "      <td>2</td>\n",
       "      <td>2</td>\n",
       "      <td>3</td>\n",
       "      <td>1</td>\n",
       "      <td>2</td>\n",
       "      <td>24</td>\n",
       "      <td>32</td>\n",
       "    </tr>\n",
       "  </tbody>\n",
       "</table>\n",
       "<p>2529 rows × 16 columns</p>\n",
       "</div>"
      ],
      "text/plain": [
       "      Dryness in mouth. (Since 1 month)  \\\n",
       "0                                     0   \n",
       "1                                     0   \n",
       "2                                     0   \n",
       "3                                     0   \n",
       "4                                     0   \n",
       "...                                 ...   \n",
       "2524                                  3   \n",
       "2525                                  3   \n",
       "2526                                  3   \n",
       "2527                                  3   \n",
       "2528                                  3   \n",
       "\n",
       "      Difficulty in breathing. (Since 1 month)  \\\n",
       "0                                            3   \n",
       "1                                            0   \n",
       "2                                            3   \n",
       "3                                            3   \n",
       "4                                            1   \n",
       "...                                        ...   \n",
       "2524                                         1   \n",
       "2525                                         0   \n",
       "2526                                         0   \n",
       "2527                                         1   \n",
       "2528                                         1   \n",
       "\n",
       "      Experience trembling. (Since 1 month)  \\\n",
       "0                                         1   \n",
       "1                                         2   \n",
       "2                                         1   \n",
       "3                                         3   \n",
       "4                                         1   \n",
       "...                                     ...   \n",
       "2524                                      1   \n",
       "2525                                      1   \n",
       "2526                                      0   \n",
       "2527                                      0   \n",
       "2528                                      1   \n",
       "\n",
       "      Worried about panic and make a fool of themselves. (Since 1 month)  \\\n",
       "0                                                     2                    \n",
       "1                                                     2                    \n",
       "2                                                     2                    \n",
       "3                                                     1                    \n",
       "4                                                     3                    \n",
       "...                                                 ...                    \n",
       "2524                                                  0                    \n",
       "2525                                                  3                    \n",
       "2526                                                  2                    \n",
       "2527                                                  3                    \n",
       "2528                                                  1                    \n",
       "\n",
       "      Close to panic. (Since 1 month)  \\\n",
       "0                                   1   \n",
       "1                                   3   \n",
       "2                                   3   \n",
       "3                                   1   \n",
       "4                                   0   \n",
       "...                               ...   \n",
       "2524                                3   \n",
       "2525                                0   \n",
       "2526                                2   \n",
       "2527                                1   \n",
       "2528                                3   \n",
       "\n",
       "      Aware of the action of the heart in the absence of physical exertion. (Since 1 month)  \\\n",
       "0                                                     3                                       \n",
       "1                                                     1                                       \n",
       "2                                                     3                                       \n",
       "3                                                     2                                       \n",
       "4                                                     3                                       \n",
       "...                                                 ...                                       \n",
       "2524                                                  3                                       \n",
       "2525                                                  1                                       \n",
       "2526                                                  1                                       \n",
       "2527                                                  3                                       \n",
       "2528                                                  3                                       \n",
       "\n",
       "      Felt scared without any good reason. (Since 1 month)  \\\n",
       "0                                                     0      \n",
       "1                                                     2      \n",
       "2                                                     0      \n",
       "3                                                     2      \n",
       "4                                                     0      \n",
       "...                                                 ...      \n",
       "2524                                                  1      \n",
       "2525                                                  0      \n",
       "2526                                                  2      \n",
       "2527                                                  3      \n",
       "2528                                                  0      \n",
       "\n",
       "      Difficult to work up the initiative to do things. (Since 1 month)  \\\n",
       "0                                                     0                   \n",
       "1                                                     0                   \n",
       "2                                                     0                   \n",
       "3                                                     0                   \n",
       "4                                                     0                   \n",
       "...                                                 ...                   \n",
       "2524                                                  3                   \n",
       "2525                                                  3                   \n",
       "2526                                                  3                   \n",
       "2527                                                  3                   \n",
       "2528                                                  3                   \n",
       "\n",
       "      Couldn't experience the positive feeling. (Since 1 month)  \\\n",
       "0                                                     2           \n",
       "1                                                     3           \n",
       "2                                                     1           \n",
       "3                                                     0           \n",
       "4                                                     2           \n",
       "...                                                 ...           \n",
       "2524                                                  1           \n",
       "2525                                                  2           \n",
       "2526                                                  2           \n",
       "2527                                                  0           \n",
       "2528                                                  3           \n",
       "\n",
       "      Nothing to look forward. (Since 1 month)  \\\n",
       "0                                            1   \n",
       "1                                            1   \n",
       "2                                            2   \n",
       "3                                            2   \n",
       "4                                            1   \n",
       "...                                        ...   \n",
       "2524                                         1   \n",
       "2525                                         3   \n",
       "2526                                         3   \n",
       "2527                                         3   \n",
       "2528                                         2   \n",
       "\n",
       "      Felt down hearted and blue. (Since 1 month)  \\\n",
       "0                                               1   \n",
       "1                                               0   \n",
       "2                                               2   \n",
       "3                                               2   \n",
       "4                                               0   \n",
       "...                                           ...   \n",
       "2524                                            0   \n",
       "2525                                            1   \n",
       "2526                                            2   \n",
       "2527                                            2   \n",
       "2528                                            2   \n",
       "\n",
       "      Unable to become enthusiastic. (Since 1 month)  \\\n",
       "0                                                  0   \n",
       "1                                                  2   \n",
       "2                                                  3   \n",
       "3                                                  0   \n",
       "4                                                  2   \n",
       "...                                              ...   \n",
       "2524                                               0   \n",
       "2525                                               0   \n",
       "2526                                               0   \n",
       "2527                                               3   \n",
       "2528                                               3   \n",
       "\n",
       "      Felt wasn't worth much as person. (Since 1 month)  \\\n",
       "0                                                     0   \n",
       "1                                                     3   \n",
       "2                                                     3   \n",
       "3                                                     3   \n",
       "4                                                     1   \n",
       "...                                                 ...   \n",
       "2524                                                  1   \n",
       "2525                                                  3   \n",
       "2526                                                  1   \n",
       "2527                                                  0   \n",
       "2528                                                  1   \n",
       "\n",
       "      Felt life was meaningless. (Since 1 month)  AScore  DScore  \n",
       "0                                              0      20       8  \n",
       "1                                              1      20      20  \n",
       "2                                              3      24      28  \n",
       "3                                              3      24      20  \n",
       "4                                              0      16      12  \n",
       "...                                          ...     ...     ...  \n",
       "2524                                           2      24      16  \n",
       "2525                                           2      16      28  \n",
       "2526                                           3      20      28  \n",
       "2527                                           3      28      28  \n",
       "2528                                           2      24      32  \n",
       "\n",
       "[2529 rows x 16 columns]"
      ]
     },
     "execution_count": 7,
     "metadata": {},
     "output_type": "execute_result"
    }
   ],
   "source": [
    "df"
   ]
  },
  {
   "cell_type": "code",
   "execution_count": 8,
   "metadata": {
    "id": "5QJwHM3o3dtJ"
   },
   "outputs": [],
   "source": [
    "df=df.copy()"
   ]
  },
  {
   "cell_type": "code",
   "execution_count": 9,
   "metadata": {
    "id": "_mM3LwNL3pN0"
   },
   "outputs": [],
   "source": [
    "df.rename(columns={'Dryness in mouth. (Since 1 month)':'One','Difficulty in breathing. (Since 1 month)':'Two','Experience trembling. (Since 1 month)':'Three','Worried about panic and make a fool of themselves. (Since 1 month)':'Four','Close to panic. (Since 1 month)':'Five','Aware of the action of the heart in the absence of physical exertion. (Since 1 month)':'Six','Felt scared without any good reason. (Since 1 month)':'Seven','Difficult to work up the initiative to do things. (Since 1 month)':'Eight',\"Couldn't experience the positive feeling. (Since 1 month)\":'Nine','Nothing to look forward. (Since 1 month)':'Ten','Felt down hearted and blue. (Since 1 month)':'Eleven','Unable to become enthusiastic. (Since 1 month)':'Twelve',\"Felt wasn't worth much as person. (Since 1 month)\":'Thirteen','Felt life was meaningless. (Since 1 month)':'Fourteen'},inplace=True)"
   ]
  },
  {
   "cell_type": "code",
   "execution_count": 10,
   "metadata": {
    "colab": {
     "base_uri": "https://localhost:8080/",
     "height": 423
    },
    "executionInfo": {
     "elapsed": 37,
     "status": "ok",
     "timestamp": 1703053874870,
     "user": {
      "displayName": "Manthesh L",
      "userId": "04646793550545002401"
     },
     "user_tz": -330
    },
    "id": "x1egmXf63tho",
    "outputId": "1e4c9af7-258c-4813-b358-7898ac0166cf"
   },
   "outputs": [
    {
     "data": {
      "text/html": [
       "<div>\n",
       "<style scoped>\n",
       "    .dataframe tbody tr th:only-of-type {\n",
       "        vertical-align: middle;\n",
       "    }\n",
       "\n",
       "    .dataframe tbody tr th {\n",
       "        vertical-align: top;\n",
       "    }\n",
       "\n",
       "    .dataframe thead th {\n",
       "        text-align: right;\n",
       "    }\n",
       "</style>\n",
       "<table border=\"1\" class=\"dataframe\">\n",
       "  <thead>\n",
       "    <tr style=\"text-align: right;\">\n",
       "      <th></th>\n",
       "      <th>One</th>\n",
       "      <th>Two</th>\n",
       "      <th>Three</th>\n",
       "      <th>Four</th>\n",
       "      <th>Five</th>\n",
       "      <th>Six</th>\n",
       "      <th>Seven</th>\n",
       "      <th>Eight</th>\n",
       "      <th>Nine</th>\n",
       "      <th>Ten</th>\n",
       "      <th>Eleven</th>\n",
       "      <th>Twelve</th>\n",
       "      <th>Thirteen</th>\n",
       "      <th>Fourteen</th>\n",
       "      <th>AScore</th>\n",
       "      <th>DScore</th>\n",
       "    </tr>\n",
       "  </thead>\n",
       "  <tbody>\n",
       "    <tr>\n",
       "      <th>0</th>\n",
       "      <td>0</td>\n",
       "      <td>3</td>\n",
       "      <td>1</td>\n",
       "      <td>2</td>\n",
       "      <td>1</td>\n",
       "      <td>3</td>\n",
       "      <td>0</td>\n",
       "      <td>0</td>\n",
       "      <td>2</td>\n",
       "      <td>1</td>\n",
       "      <td>1</td>\n",
       "      <td>0</td>\n",
       "      <td>0</td>\n",
       "      <td>0</td>\n",
       "      <td>20</td>\n",
       "      <td>8</td>\n",
       "    </tr>\n",
       "    <tr>\n",
       "      <th>1</th>\n",
       "      <td>0</td>\n",
       "      <td>0</td>\n",
       "      <td>2</td>\n",
       "      <td>2</td>\n",
       "      <td>3</td>\n",
       "      <td>1</td>\n",
       "      <td>2</td>\n",
       "      <td>0</td>\n",
       "      <td>3</td>\n",
       "      <td>1</td>\n",
       "      <td>0</td>\n",
       "      <td>2</td>\n",
       "      <td>3</td>\n",
       "      <td>1</td>\n",
       "      <td>20</td>\n",
       "      <td>20</td>\n",
       "    </tr>\n",
       "    <tr>\n",
       "      <th>2</th>\n",
       "      <td>0</td>\n",
       "      <td>3</td>\n",
       "      <td>1</td>\n",
       "      <td>2</td>\n",
       "      <td>3</td>\n",
       "      <td>3</td>\n",
       "      <td>0</td>\n",
       "      <td>0</td>\n",
       "      <td>1</td>\n",
       "      <td>2</td>\n",
       "      <td>2</td>\n",
       "      <td>3</td>\n",
       "      <td>3</td>\n",
       "      <td>3</td>\n",
       "      <td>24</td>\n",
       "      <td>28</td>\n",
       "    </tr>\n",
       "    <tr>\n",
       "      <th>3</th>\n",
       "      <td>0</td>\n",
       "      <td>3</td>\n",
       "      <td>3</td>\n",
       "      <td>1</td>\n",
       "      <td>1</td>\n",
       "      <td>2</td>\n",
       "      <td>2</td>\n",
       "      <td>0</td>\n",
       "      <td>0</td>\n",
       "      <td>2</td>\n",
       "      <td>2</td>\n",
       "      <td>0</td>\n",
       "      <td>3</td>\n",
       "      <td>3</td>\n",
       "      <td>24</td>\n",
       "      <td>20</td>\n",
       "    </tr>\n",
       "    <tr>\n",
       "      <th>4</th>\n",
       "      <td>0</td>\n",
       "      <td>1</td>\n",
       "      <td>1</td>\n",
       "      <td>3</td>\n",
       "      <td>0</td>\n",
       "      <td>3</td>\n",
       "      <td>0</td>\n",
       "      <td>0</td>\n",
       "      <td>2</td>\n",
       "      <td>1</td>\n",
       "      <td>0</td>\n",
       "      <td>2</td>\n",
       "      <td>1</td>\n",
       "      <td>0</td>\n",
       "      <td>16</td>\n",
       "      <td>12</td>\n",
       "    </tr>\n",
       "    <tr>\n",
       "      <th>...</th>\n",
       "      <td>...</td>\n",
       "      <td>...</td>\n",
       "      <td>...</td>\n",
       "      <td>...</td>\n",
       "      <td>...</td>\n",
       "      <td>...</td>\n",
       "      <td>...</td>\n",
       "      <td>...</td>\n",
       "      <td>...</td>\n",
       "      <td>...</td>\n",
       "      <td>...</td>\n",
       "      <td>...</td>\n",
       "      <td>...</td>\n",
       "      <td>...</td>\n",
       "      <td>...</td>\n",
       "      <td>...</td>\n",
       "    </tr>\n",
       "    <tr>\n",
       "      <th>2524</th>\n",
       "      <td>3</td>\n",
       "      <td>1</td>\n",
       "      <td>1</td>\n",
       "      <td>0</td>\n",
       "      <td>3</td>\n",
       "      <td>3</td>\n",
       "      <td>1</td>\n",
       "      <td>3</td>\n",
       "      <td>1</td>\n",
       "      <td>1</td>\n",
       "      <td>0</td>\n",
       "      <td>0</td>\n",
       "      <td>1</td>\n",
       "      <td>2</td>\n",
       "      <td>24</td>\n",
       "      <td>16</td>\n",
       "    </tr>\n",
       "    <tr>\n",
       "      <th>2525</th>\n",
       "      <td>3</td>\n",
       "      <td>0</td>\n",
       "      <td>1</td>\n",
       "      <td>3</td>\n",
       "      <td>0</td>\n",
       "      <td>1</td>\n",
       "      <td>0</td>\n",
       "      <td>3</td>\n",
       "      <td>2</td>\n",
       "      <td>3</td>\n",
       "      <td>1</td>\n",
       "      <td>0</td>\n",
       "      <td>3</td>\n",
       "      <td>2</td>\n",
       "      <td>16</td>\n",
       "      <td>28</td>\n",
       "    </tr>\n",
       "    <tr>\n",
       "      <th>2526</th>\n",
       "      <td>3</td>\n",
       "      <td>0</td>\n",
       "      <td>0</td>\n",
       "      <td>2</td>\n",
       "      <td>2</td>\n",
       "      <td>1</td>\n",
       "      <td>2</td>\n",
       "      <td>3</td>\n",
       "      <td>2</td>\n",
       "      <td>3</td>\n",
       "      <td>2</td>\n",
       "      <td>0</td>\n",
       "      <td>1</td>\n",
       "      <td>3</td>\n",
       "      <td>20</td>\n",
       "      <td>28</td>\n",
       "    </tr>\n",
       "    <tr>\n",
       "      <th>2527</th>\n",
       "      <td>3</td>\n",
       "      <td>1</td>\n",
       "      <td>0</td>\n",
       "      <td>3</td>\n",
       "      <td>1</td>\n",
       "      <td>3</td>\n",
       "      <td>3</td>\n",
       "      <td>3</td>\n",
       "      <td>0</td>\n",
       "      <td>3</td>\n",
       "      <td>2</td>\n",
       "      <td>3</td>\n",
       "      <td>0</td>\n",
       "      <td>3</td>\n",
       "      <td>28</td>\n",
       "      <td>28</td>\n",
       "    </tr>\n",
       "    <tr>\n",
       "      <th>2528</th>\n",
       "      <td>3</td>\n",
       "      <td>1</td>\n",
       "      <td>1</td>\n",
       "      <td>1</td>\n",
       "      <td>3</td>\n",
       "      <td>3</td>\n",
       "      <td>0</td>\n",
       "      <td>3</td>\n",
       "      <td>3</td>\n",
       "      <td>2</td>\n",
       "      <td>2</td>\n",
       "      <td>3</td>\n",
       "      <td>1</td>\n",
       "      <td>2</td>\n",
       "      <td>24</td>\n",
       "      <td>32</td>\n",
       "    </tr>\n",
       "  </tbody>\n",
       "</table>\n",
       "<p>2529 rows × 16 columns</p>\n",
       "</div>"
      ],
      "text/plain": [
       "      One  Two  Three  Four  Five  Six  Seven  Eight  Nine  Ten  Eleven  \\\n",
       "0       0    3      1     2     1    3      0      0     2    1       1   \n",
       "1       0    0      2     2     3    1      2      0     3    1       0   \n",
       "2       0    3      1     2     3    3      0      0     1    2       2   \n",
       "3       0    3      3     1     1    2      2      0     0    2       2   \n",
       "4       0    1      1     3     0    3      0      0     2    1       0   \n",
       "...   ...  ...    ...   ...   ...  ...    ...    ...   ...  ...     ...   \n",
       "2524    3    1      1     0     3    3      1      3     1    1       0   \n",
       "2525    3    0      1     3     0    1      0      3     2    3       1   \n",
       "2526    3    0      0     2     2    1      2      3     2    3       2   \n",
       "2527    3    1      0     3     1    3      3      3     0    3       2   \n",
       "2528    3    1      1     1     3    3      0      3     3    2       2   \n",
       "\n",
       "      Twelve  Thirteen  Fourteen  AScore  DScore  \n",
       "0          0         0         0      20       8  \n",
       "1          2         3         1      20      20  \n",
       "2          3         3         3      24      28  \n",
       "3          0         3         3      24      20  \n",
       "4          2         1         0      16      12  \n",
       "...      ...       ...       ...     ...     ...  \n",
       "2524       0         1         2      24      16  \n",
       "2525       0         3         2      16      28  \n",
       "2526       0         1         3      20      28  \n",
       "2527       3         0         3      28      28  \n",
       "2528       3         1         2      24      32  \n",
       "\n",
       "[2529 rows x 16 columns]"
      ]
     },
     "execution_count": 10,
     "metadata": {},
     "output_type": "execute_result"
    }
   ],
   "source": [
    "df"
   ]
  },
  {
   "cell_type": "code",
   "execution_count": 11,
   "metadata": {
    "id": "i9FMHMVW3xoN"
   },
   "outputs": [],
   "source": [
    "from sklearn.preprocessing import LabelEncoder"
   ]
  },
  {
   "cell_type": "code",
   "execution_count": 12,
   "metadata": {
    "id": "9HFyUo3B4A4D"
   },
   "outputs": [],
   "source": [
    "le = LabelEncoder()"
   ]
  },
  {
   "cell_type": "code",
   "execution_count": 13,
   "metadata": {
    "id": "oZAHehvi4GjF"
   },
   "outputs": [],
   "source": [
    "#df['Gender'] = le.fit_transform(df['Gender'])"
   ]
  },
  {
   "cell_type": "code",
   "execution_count": 14,
   "metadata": {
    "colab": {
     "base_uri": "https://localhost:8080/",
     "height": 206
    },
    "executionInfo": {
     "elapsed": 28,
     "status": "ok",
     "timestamp": 1703053884329,
     "user": {
      "displayName": "Manthesh L",
      "userId": "04646793550545002401"
     },
     "user_tz": -330
    },
    "id": "xEzLb_lC4Mjp",
    "outputId": "5386b66b-85e0-4b98-b8e8-c7b3d676889e"
   },
   "outputs": [
    {
     "data": {
      "text/html": [
       "<div>\n",
       "<style scoped>\n",
       "    .dataframe tbody tr th:only-of-type {\n",
       "        vertical-align: middle;\n",
       "    }\n",
       "\n",
       "    .dataframe tbody tr th {\n",
       "        vertical-align: top;\n",
       "    }\n",
       "\n",
       "    .dataframe thead th {\n",
       "        text-align: right;\n",
       "    }\n",
       "</style>\n",
       "<table border=\"1\" class=\"dataframe\">\n",
       "  <thead>\n",
       "    <tr style=\"text-align: right;\">\n",
       "      <th></th>\n",
       "      <th>One</th>\n",
       "      <th>Two</th>\n",
       "      <th>Three</th>\n",
       "      <th>Four</th>\n",
       "      <th>Five</th>\n",
       "      <th>Six</th>\n",
       "      <th>Seven</th>\n",
       "      <th>Eight</th>\n",
       "      <th>Nine</th>\n",
       "      <th>Ten</th>\n",
       "      <th>Eleven</th>\n",
       "      <th>Twelve</th>\n",
       "      <th>Thirteen</th>\n",
       "      <th>Fourteen</th>\n",
       "      <th>AScore</th>\n",
       "      <th>DScore</th>\n",
       "    </tr>\n",
       "  </thead>\n",
       "  <tbody>\n",
       "    <tr>\n",
       "      <th>0</th>\n",
       "      <td>0</td>\n",
       "      <td>3</td>\n",
       "      <td>1</td>\n",
       "      <td>2</td>\n",
       "      <td>1</td>\n",
       "      <td>3</td>\n",
       "      <td>0</td>\n",
       "      <td>0</td>\n",
       "      <td>2</td>\n",
       "      <td>1</td>\n",
       "      <td>1</td>\n",
       "      <td>0</td>\n",
       "      <td>0</td>\n",
       "      <td>0</td>\n",
       "      <td>20</td>\n",
       "      <td>8</td>\n",
       "    </tr>\n",
       "    <tr>\n",
       "      <th>1</th>\n",
       "      <td>0</td>\n",
       "      <td>0</td>\n",
       "      <td>2</td>\n",
       "      <td>2</td>\n",
       "      <td>3</td>\n",
       "      <td>1</td>\n",
       "      <td>2</td>\n",
       "      <td>0</td>\n",
       "      <td>3</td>\n",
       "      <td>1</td>\n",
       "      <td>0</td>\n",
       "      <td>2</td>\n",
       "      <td>3</td>\n",
       "      <td>1</td>\n",
       "      <td>20</td>\n",
       "      <td>20</td>\n",
       "    </tr>\n",
       "    <tr>\n",
       "      <th>2</th>\n",
       "      <td>0</td>\n",
       "      <td>3</td>\n",
       "      <td>1</td>\n",
       "      <td>2</td>\n",
       "      <td>3</td>\n",
       "      <td>3</td>\n",
       "      <td>0</td>\n",
       "      <td>0</td>\n",
       "      <td>1</td>\n",
       "      <td>2</td>\n",
       "      <td>2</td>\n",
       "      <td>3</td>\n",
       "      <td>3</td>\n",
       "      <td>3</td>\n",
       "      <td>24</td>\n",
       "      <td>28</td>\n",
       "    </tr>\n",
       "    <tr>\n",
       "      <th>3</th>\n",
       "      <td>0</td>\n",
       "      <td>3</td>\n",
       "      <td>3</td>\n",
       "      <td>1</td>\n",
       "      <td>1</td>\n",
       "      <td>2</td>\n",
       "      <td>2</td>\n",
       "      <td>0</td>\n",
       "      <td>0</td>\n",
       "      <td>2</td>\n",
       "      <td>2</td>\n",
       "      <td>0</td>\n",
       "      <td>3</td>\n",
       "      <td>3</td>\n",
       "      <td>24</td>\n",
       "      <td>20</td>\n",
       "    </tr>\n",
       "    <tr>\n",
       "      <th>4</th>\n",
       "      <td>0</td>\n",
       "      <td>1</td>\n",
       "      <td>1</td>\n",
       "      <td>3</td>\n",
       "      <td>0</td>\n",
       "      <td>3</td>\n",
       "      <td>0</td>\n",
       "      <td>0</td>\n",
       "      <td>2</td>\n",
       "      <td>1</td>\n",
       "      <td>0</td>\n",
       "      <td>2</td>\n",
       "      <td>1</td>\n",
       "      <td>0</td>\n",
       "      <td>16</td>\n",
       "      <td>12</td>\n",
       "    </tr>\n",
       "  </tbody>\n",
       "</table>\n",
       "</div>"
      ],
      "text/plain": [
       "   One  Two  Three  Four  Five  Six  Seven  Eight  Nine  Ten  Eleven  Twelve  \\\n",
       "0    0    3      1     2     1    3      0      0     2    1       1       0   \n",
       "1    0    0      2     2     3    1      2      0     3    1       0       2   \n",
       "2    0    3      1     2     3    3      0      0     1    2       2       3   \n",
       "3    0    3      3     1     1    2      2      0     0    2       2       0   \n",
       "4    0    1      1     3     0    3      0      0     2    1       0       2   \n",
       "\n",
       "   Thirteen  Fourteen  AScore  DScore  \n",
       "0         0         0      20       8  \n",
       "1         3         1      20      20  \n",
       "2         3         3      24      28  \n",
       "3         3         3      24      20  \n",
       "4         1         0      16      12  "
      ]
     },
     "execution_count": 14,
     "metadata": {},
     "output_type": "execute_result"
    }
   ],
   "source": [
    "df.head()"
   ]
  },
  {
   "cell_type": "code",
   "execution_count": 15,
   "metadata": {
    "id": "trz5VTz64TOO"
   },
   "outputs": [],
   "source": [
    "from sklearn.linear_model import LogisticRegression\n",
    "from sklearn.ensemble import RandomForestClassifier\n",
    "from sklearn.svm import SVC\n",
    "from sklearn.tree import DecisionTreeClassifier\n",
    "from sklearn.neighbors import KNeighborsClassifier\n",
    "from sklearn.naive_bayes import GaussianNB\n",
    "import sklearn.metrics as metrics\n",
    "from sklearn.metrics import accuracy_score"
   ]
  },
  {
   "cell_type": "markdown",
   "metadata": {
    "id": "gLoU9lw49va3"
   },
   "source": [
    "Depression"
   ]
  },
  {
   "cell_type": "code",
   "execution_count": 16,
   "metadata": {
    "id": "Qc1myz2x4Yd4"
   },
   "outputs": [],
   "source": [
    "x = df.drop(columns=['One','Two',\t'Three',\t'Four',\t'Five','Six','Seven','AScore','DScore'],axis=1)\n",
    "y = df['DScore']"
   ]
  },
  {
   "cell_type": "code",
   "execution_count": 17,
   "metadata": {
    "id": "n5l_rPQJ4dWg"
   },
   "outputs": [],
   "source": [
    "from sklearn.model_selection import train_test_split"
   ]
  },
  {
   "cell_type": "code",
   "execution_count": 18,
   "metadata": {
    "id": "U4nMctvK4g7T"
   },
   "outputs": [],
   "source": [
    "x_train,x_test,y_train,y_test = train_test_split(x,y,test_size=0.2,random_state=44)"
   ]
  },
  {
   "cell_type": "code",
   "execution_count": 19,
   "metadata": {
    "colab": {
     "base_uri": "https://localhost:8080/"
    },
    "executionInfo": {
     "elapsed": 22,
     "status": "ok",
     "timestamp": 1703053895405,
     "user": {
      "displayName": "Manthesh L",
      "userId": "04646793550545002401"
     },
     "user_tz": -330
    },
    "id": "AR2vvHgj4lke",
    "outputId": "9599e084-55cc-4568-cb8d-42cb5426bbab"
   },
   "outputs": [
    {
     "data": {
      "text/plain": [
       "(2023, 7)"
      ]
     },
     "execution_count": 19,
     "metadata": {},
     "output_type": "execute_result"
    }
   ],
   "source": [
    "x_train.shape"
   ]
  },
  {
   "cell_type": "code",
   "execution_count": 20,
   "metadata": {
    "colab": {
     "base_uri": "https://localhost:8080/"
    },
    "executionInfo": {
     "elapsed": 435,
     "status": "ok",
     "timestamp": 1703053898715,
     "user": {
      "displayName": "Manthesh L",
      "userId": "04646793550545002401"
     },
     "user_tz": -330
    },
    "id": "RvimwGPi4pD0",
    "outputId": "f57af6f5-5a08-40a8-9aee-b48666c91884"
   },
   "outputs": [
    {
     "data": {
      "text/plain": [
       "(506, 7)"
      ]
     },
     "execution_count": 20,
     "metadata": {},
     "output_type": "execute_result"
    }
   ],
   "source": [
    "x_test.shape"
   ]
  },
  {
   "cell_type": "code",
   "execution_count": 21,
   "metadata": {
    "id": "aH_7pi7u4r92"
   },
   "outputs": [],
   "source": [
    "model = LogisticRegression()\n"
   ]
  },
  {
   "cell_type": "code",
   "execution_count": 22,
   "metadata": {
    "colab": {
     "base_uri": "https://localhost:8080/",
     "height": 213
    },
    "executionInfo": {
     "elapsed": 450,
     "status": "ok",
     "timestamp": 1703053902312,
     "user": {
      "displayName": "Manthesh L",
      "userId": "04646793550545002401"
     },
     "user_tz": -330
    },
    "id": "JUr68WbJ4yM4",
    "outputId": "87b97c7b-ef1b-4a96-cfbb-1a2ab94def67"
   },
   "outputs": [
    {
     "name": "stderr",
     "output_type": "stream",
     "text": [
      "C:\\Users\\madhu\\anaconda3\\lib\\site-packages\\sklearn\\linear_model\\_logistic.py:814: ConvergenceWarning: lbfgs failed to converge (status=1):\n",
      "STOP: TOTAL NO. of ITERATIONS REACHED LIMIT.\n",
      "\n",
      "Increase the number of iterations (max_iter) or scale the data as shown in:\n",
      "    https://scikit-learn.org/stable/modules/preprocessing.html\n",
      "Please also refer to the documentation for alternative solver options:\n",
      "    https://scikit-learn.org/stable/modules/linear_model.html#logistic-regression\n",
      "  n_iter_i = _check_optimize_result(\n"
     ]
    },
    {
     "data": {
      "text/plain": [
       "LogisticRegression()"
      ]
     },
     "execution_count": 22,
     "metadata": {},
     "output_type": "execute_result"
    }
   ],
   "source": [
    "model.fit(x_train, y_train)"
   ]
  },
  {
   "cell_type": "code",
   "execution_count": 23,
   "metadata": {
    "colab": {
     "base_uri": "https://localhost:8080/",
     "height": 423
    },
    "executionInfo": {
     "elapsed": 29,
     "status": "ok",
     "timestamp": 1703053904207,
     "user": {
      "displayName": "Manthesh L",
      "userId": "04646793550545002401"
     },
     "user_tz": -330
    },
    "id": "hMjgVmYC5gUS",
    "outputId": "c81cfb69-27ae-43f8-ee8e-006af718622b"
   },
   "outputs": [
    {
     "data": {
      "text/html": [
       "<div>\n",
       "<style scoped>\n",
       "    .dataframe tbody tr th:only-of-type {\n",
       "        vertical-align: middle;\n",
       "    }\n",
       "\n",
       "    .dataframe tbody tr th {\n",
       "        vertical-align: top;\n",
       "    }\n",
       "\n",
       "    .dataframe thead th {\n",
       "        text-align: right;\n",
       "    }\n",
       "</style>\n",
       "<table border=\"1\" class=\"dataframe\">\n",
       "  <thead>\n",
       "    <tr style=\"text-align: right;\">\n",
       "      <th></th>\n",
       "      <th>One</th>\n",
       "      <th>Two</th>\n",
       "      <th>Three</th>\n",
       "      <th>Four</th>\n",
       "      <th>Five</th>\n",
       "      <th>Six</th>\n",
       "      <th>Seven</th>\n",
       "      <th>Eight</th>\n",
       "      <th>Nine</th>\n",
       "      <th>Ten</th>\n",
       "      <th>Eleven</th>\n",
       "      <th>Twelve</th>\n",
       "      <th>Thirteen</th>\n",
       "      <th>Fourteen</th>\n",
       "      <th>AScore</th>\n",
       "      <th>DScore</th>\n",
       "    </tr>\n",
       "  </thead>\n",
       "  <tbody>\n",
       "    <tr>\n",
       "      <th>0</th>\n",
       "      <td>0</td>\n",
       "      <td>3</td>\n",
       "      <td>1</td>\n",
       "      <td>2</td>\n",
       "      <td>1</td>\n",
       "      <td>3</td>\n",
       "      <td>0</td>\n",
       "      <td>0</td>\n",
       "      <td>2</td>\n",
       "      <td>1</td>\n",
       "      <td>1</td>\n",
       "      <td>0</td>\n",
       "      <td>0</td>\n",
       "      <td>0</td>\n",
       "      <td>20</td>\n",
       "      <td>8</td>\n",
       "    </tr>\n",
       "    <tr>\n",
       "      <th>1</th>\n",
       "      <td>0</td>\n",
       "      <td>0</td>\n",
       "      <td>2</td>\n",
       "      <td>2</td>\n",
       "      <td>3</td>\n",
       "      <td>1</td>\n",
       "      <td>2</td>\n",
       "      <td>0</td>\n",
       "      <td>3</td>\n",
       "      <td>1</td>\n",
       "      <td>0</td>\n",
       "      <td>2</td>\n",
       "      <td>3</td>\n",
       "      <td>1</td>\n",
       "      <td>20</td>\n",
       "      <td>20</td>\n",
       "    </tr>\n",
       "    <tr>\n",
       "      <th>2</th>\n",
       "      <td>0</td>\n",
       "      <td>3</td>\n",
       "      <td>1</td>\n",
       "      <td>2</td>\n",
       "      <td>3</td>\n",
       "      <td>3</td>\n",
       "      <td>0</td>\n",
       "      <td>0</td>\n",
       "      <td>1</td>\n",
       "      <td>2</td>\n",
       "      <td>2</td>\n",
       "      <td>3</td>\n",
       "      <td>3</td>\n",
       "      <td>3</td>\n",
       "      <td>24</td>\n",
       "      <td>28</td>\n",
       "    </tr>\n",
       "    <tr>\n",
       "      <th>3</th>\n",
       "      <td>0</td>\n",
       "      <td>3</td>\n",
       "      <td>3</td>\n",
       "      <td>1</td>\n",
       "      <td>1</td>\n",
       "      <td>2</td>\n",
       "      <td>2</td>\n",
       "      <td>0</td>\n",
       "      <td>0</td>\n",
       "      <td>2</td>\n",
       "      <td>2</td>\n",
       "      <td>0</td>\n",
       "      <td>3</td>\n",
       "      <td>3</td>\n",
       "      <td>24</td>\n",
       "      <td>20</td>\n",
       "    </tr>\n",
       "    <tr>\n",
       "      <th>4</th>\n",
       "      <td>0</td>\n",
       "      <td>1</td>\n",
       "      <td>1</td>\n",
       "      <td>3</td>\n",
       "      <td>0</td>\n",
       "      <td>3</td>\n",
       "      <td>0</td>\n",
       "      <td>0</td>\n",
       "      <td>2</td>\n",
       "      <td>1</td>\n",
       "      <td>0</td>\n",
       "      <td>2</td>\n",
       "      <td>1</td>\n",
       "      <td>0</td>\n",
       "      <td>16</td>\n",
       "      <td>12</td>\n",
       "    </tr>\n",
       "    <tr>\n",
       "      <th>...</th>\n",
       "      <td>...</td>\n",
       "      <td>...</td>\n",
       "      <td>...</td>\n",
       "      <td>...</td>\n",
       "      <td>...</td>\n",
       "      <td>...</td>\n",
       "      <td>...</td>\n",
       "      <td>...</td>\n",
       "      <td>...</td>\n",
       "      <td>...</td>\n",
       "      <td>...</td>\n",
       "      <td>...</td>\n",
       "      <td>...</td>\n",
       "      <td>...</td>\n",
       "      <td>...</td>\n",
       "      <td>...</td>\n",
       "    </tr>\n",
       "    <tr>\n",
       "      <th>2524</th>\n",
       "      <td>3</td>\n",
       "      <td>1</td>\n",
       "      <td>1</td>\n",
       "      <td>0</td>\n",
       "      <td>3</td>\n",
       "      <td>3</td>\n",
       "      <td>1</td>\n",
       "      <td>3</td>\n",
       "      <td>1</td>\n",
       "      <td>1</td>\n",
       "      <td>0</td>\n",
       "      <td>0</td>\n",
       "      <td>1</td>\n",
       "      <td>2</td>\n",
       "      <td>24</td>\n",
       "      <td>16</td>\n",
       "    </tr>\n",
       "    <tr>\n",
       "      <th>2525</th>\n",
       "      <td>3</td>\n",
       "      <td>0</td>\n",
       "      <td>1</td>\n",
       "      <td>3</td>\n",
       "      <td>0</td>\n",
       "      <td>1</td>\n",
       "      <td>0</td>\n",
       "      <td>3</td>\n",
       "      <td>2</td>\n",
       "      <td>3</td>\n",
       "      <td>1</td>\n",
       "      <td>0</td>\n",
       "      <td>3</td>\n",
       "      <td>2</td>\n",
       "      <td>16</td>\n",
       "      <td>28</td>\n",
       "    </tr>\n",
       "    <tr>\n",
       "      <th>2526</th>\n",
       "      <td>3</td>\n",
       "      <td>0</td>\n",
       "      <td>0</td>\n",
       "      <td>2</td>\n",
       "      <td>2</td>\n",
       "      <td>1</td>\n",
       "      <td>2</td>\n",
       "      <td>3</td>\n",
       "      <td>2</td>\n",
       "      <td>3</td>\n",
       "      <td>2</td>\n",
       "      <td>0</td>\n",
       "      <td>1</td>\n",
       "      <td>3</td>\n",
       "      <td>20</td>\n",
       "      <td>28</td>\n",
       "    </tr>\n",
       "    <tr>\n",
       "      <th>2527</th>\n",
       "      <td>3</td>\n",
       "      <td>1</td>\n",
       "      <td>0</td>\n",
       "      <td>3</td>\n",
       "      <td>1</td>\n",
       "      <td>3</td>\n",
       "      <td>3</td>\n",
       "      <td>3</td>\n",
       "      <td>0</td>\n",
       "      <td>3</td>\n",
       "      <td>2</td>\n",
       "      <td>3</td>\n",
       "      <td>0</td>\n",
       "      <td>3</td>\n",
       "      <td>28</td>\n",
       "      <td>28</td>\n",
       "    </tr>\n",
       "    <tr>\n",
       "      <th>2528</th>\n",
       "      <td>3</td>\n",
       "      <td>1</td>\n",
       "      <td>1</td>\n",
       "      <td>1</td>\n",
       "      <td>3</td>\n",
       "      <td>3</td>\n",
       "      <td>0</td>\n",
       "      <td>3</td>\n",
       "      <td>3</td>\n",
       "      <td>2</td>\n",
       "      <td>2</td>\n",
       "      <td>3</td>\n",
       "      <td>1</td>\n",
       "      <td>2</td>\n",
       "      <td>24</td>\n",
       "      <td>32</td>\n",
       "    </tr>\n",
       "  </tbody>\n",
       "</table>\n",
       "<p>2529 rows × 16 columns</p>\n",
       "</div>"
      ],
      "text/plain": [
       "      One  Two  Three  Four  Five  Six  Seven  Eight  Nine  Ten  Eleven  \\\n",
       "0       0    3      1     2     1    3      0      0     2    1       1   \n",
       "1       0    0      2     2     3    1      2      0     3    1       0   \n",
       "2       0    3      1     2     3    3      0      0     1    2       2   \n",
       "3       0    3      3     1     1    2      2      0     0    2       2   \n",
       "4       0    1      1     3     0    3      0      0     2    1       0   \n",
       "...   ...  ...    ...   ...   ...  ...    ...    ...   ...  ...     ...   \n",
       "2524    3    1      1     0     3    3      1      3     1    1       0   \n",
       "2525    3    0      1     3     0    1      0      3     2    3       1   \n",
       "2526    3    0      0     2     2    1      2      3     2    3       2   \n",
       "2527    3    1      0     3     1    3      3      3     0    3       2   \n",
       "2528    3    1      1     1     3    3      0      3     3    2       2   \n",
       "\n",
       "      Twelve  Thirteen  Fourteen  AScore  DScore  \n",
       "0          0         0         0      20       8  \n",
       "1          2         3         1      20      20  \n",
       "2          3         3         3      24      28  \n",
       "3          0         3         3      24      20  \n",
       "4          2         1         0      16      12  \n",
       "...      ...       ...       ...     ...     ...  \n",
       "2524       0         1         2      24      16  \n",
       "2525       0         3         2      16      28  \n",
       "2526       0         1         3      20      28  \n",
       "2527       3         0         3      28      28  \n",
       "2528       3         1         2      24      32  \n",
       "\n",
       "[2529 rows x 16 columns]"
      ]
     },
     "execution_count": 23,
     "metadata": {},
     "output_type": "execute_result"
    }
   ],
   "source": [
    "df"
   ]
  },
  {
   "cell_type": "code",
   "execution_count": 24,
   "metadata": {
    "colab": {
     "base_uri": "https://localhost:8080/"
    },
    "executionInfo": {
     "elapsed": 18,
     "status": "ok",
     "timestamp": 1703053905929,
     "user": {
      "displayName": "Manthesh L",
      "userId": "04646793550545002401"
     },
     "user_tz": -330
    },
    "id": "ZbHDPvem5lxR",
    "outputId": "863e3a97-0b23-4d86-8d88-01c1822af05d"
   },
   "outputs": [
    {
     "data": {
      "text/plain": [
       "0.9762845849802372"
      ]
     },
     "execution_count": 24,
     "metadata": {},
     "output_type": "execute_result"
    }
   ],
   "source": [
    "predicted_output = model.predict(x_test)\n",
    "score=accuracy_score(predicted_output,y_test)\n",
    "score"
   ]
  },
  {
   "cell_type": "code",
   "execution_count": 25,
   "metadata": {
    "colab": {
     "base_uri": "https://localhost:8080/"
    },
    "executionInfo": {
     "elapsed": 669,
     "status": "ok",
     "timestamp": 1703053908450,
     "user": {
      "displayName": "Manthesh L",
      "userId": "04646793550545002401"
     },
     "user_tz": -330
    },
    "id": "oOJDI1xM7QdY",
    "outputId": "35e8fb6d-1c5c-4fc6-9e91-ccfcf38b2d6c"
   },
   "outputs": [
    {
     "data": {
      "text/plain": [
       "0.5948616600790514"
      ]
     },
     "execution_count": 25,
     "metadata": {},
     "output_type": "execute_result"
    }
   ],
   "source": [
    "model2=RandomForestClassifier()\n",
    "model2.fit(x_train, y_train)\n",
    "preds=model2.predict(x_test)\n",
    "score2=accuracy_score(preds,y_test)\n",
    "score2"
   ]
  },
  {
   "cell_type": "code",
   "execution_count": 26,
   "metadata": {
    "colab": {
     "base_uri": "https://localhost:8080/"
    },
    "executionInfo": {
     "elapsed": 13,
     "status": "ok",
     "timestamp": 1703053909843,
     "user": {
      "displayName": "Manthesh L",
      "userId": "04646793550545002401"
     },
     "user_tz": -330
    },
    "id": "cL3xldWn7Whw",
    "outputId": "f646d759-53bf-4592-ccba-0047d4783b7c"
   },
   "outputs": [
    {
     "data": {
      "text/plain": [
       "0.549407114624506"
      ]
     },
     "execution_count": 26,
     "metadata": {},
     "output_type": "execute_result"
    }
   ],
   "source": [
    "model3=DecisionTreeClassifier()\n",
    "model3.fit(x_train, y_train)\n",
    "pred1=model3.predict(x_test)\n",
    "score3=accuracy_score(pred1,y_test)\n",
    "score3"
   ]
  },
  {
   "cell_type": "code",
   "execution_count": 27,
   "metadata": {
    "colab": {
     "base_uri": "https://localhost:8080/"
    },
    "executionInfo": {
     "elapsed": 523,
     "status": "ok",
     "timestamp": 1703053911851,
     "user": {
      "displayName": "Manthesh L",
      "userId": "04646793550545002401"
     },
     "user_tz": -330
    },
    "id": "iGhcXVM17bmF",
    "outputId": "d14b4ce9-58d4-4291-b5c9-89d3c5627942"
   },
   "outputs": [
    {
     "data": {
      "text/plain": [
       "0.49604743083003955"
      ]
     },
     "execution_count": 27,
     "metadata": {},
     "output_type": "execute_result"
    }
   ],
   "source": [
    "model4=GaussianNB()\n",
    "model4.fit(x_train, y_train)\n",
    "pred2=model4.predict(x_test)\n",
    "score4=accuracy_score(pred2,y_test)\n",
    "score4"
   ]
  },
  {
   "cell_type": "code",
   "execution_count": 28,
   "metadata": {
    "colab": {
     "base_uri": "https://localhost:8080/"
    },
    "executionInfo": {
     "elapsed": 772,
     "status": "ok",
     "timestamp": 1703053913960,
     "user": {
      "displayName": "Manthesh L",
      "userId": "04646793550545002401"
     },
     "user_tz": -330
    },
    "id": "cinS8mz87f5l",
    "outputId": "81368748-4bf0-4949-b09f-01be57e1000f"
   },
   "outputs": [
    {
     "name": "stderr",
     "output_type": "stream",
     "text": [
      "C:\\Users\\madhu\\anaconda3\\lib\\site-packages\\sklearn\\neighbors\\_classification.py:228: FutureWarning: Unlike other reduction functions (e.g. `skew`, `kurtosis`), the default behavior of `mode` typically preserves the axis it acts along. In SciPy 1.11.0, this behavior will change: the default value of `keepdims` will become False, the `axis` over which the statistic is taken will be eliminated, and the value None will no longer be accepted. Set `keepdims` to True or False to avoid this warning.\n",
      "  mode, _ = stats.mode(_y[neigh_ind, k], axis=1)\n"
     ]
    },
    {
     "data": {
      "text/plain": [
       "0.5474308300395256"
      ]
     },
     "execution_count": 28,
     "metadata": {},
     "output_type": "execute_result"
    }
   ],
   "source": [
    "model5=KNeighborsClassifier()\n",
    "model5.fit(x_train, y_train)\n",
    "pred3=model5.predict(x_test)\n",
    "score5=accuracy_score(pred3,y_test)\n",
    "score5"
   ]
  },
  {
   "cell_type": "code",
   "execution_count": 29,
   "metadata": {
    "colab": {
     "base_uri": "https://localhost:8080/"
    },
    "executionInfo": {
     "elapsed": 601,
     "status": "ok",
     "timestamp": 1703053915978,
     "user": {
      "displayName": "Manthesh L",
      "userId": "04646793550545002401"
     },
     "user_tz": -330
    },
    "id": "k_dBuFgK7kgs",
    "outputId": "7e5d235d-7a0b-4f00-cada-7fb8fe93b5e5"
   },
   "outputs": [
    {
     "data": {
      "text/plain": [
       "0.9940711462450593"
      ]
     },
     "execution_count": 29,
     "metadata": {},
     "output_type": "execute_result"
    }
   ],
   "source": [
    "model6=SVC()\n",
    "model6.fit(x_train, y_train)\n",
    "pred4=model6.predict(x_test)\n",
    "score6=accuracy_score(pred4,y_test)\n",
    "score6"
   ]
  },
  {
   "cell_type": "markdown",
   "metadata": {
    "id": "aVKXnKGG9d8t"
   },
   "source": [
    "Anxiety"
   ]
  },
  {
   "cell_type": "code",
   "execution_count": 30,
   "metadata": {
    "executionInfo": {
     "elapsed": 675,
     "status": "ok",
     "timestamp": 1703055037726,
     "user": {
      "displayName": "Manthesh L",
      "userId": "04646793550545002401"
     },
     "user_tz": -330
    },
    "id": "vVMC_ru2FAla"
   },
   "outputs": [],
   "source": [
    "x = df.drop(columns=['Eight','Nine',\t'Ten',\t'Eleven',\t'Twelve','Thirteen','Fourteen','AScore','DScore'],axis=1)\n",
    "y = df['AScore']\n"
   ]
  },
  {
   "cell_type": "code",
   "execution_count": 31,
   "metadata": {
    "executionInfo": {
     "elapsed": 420,
     "status": "ok",
     "timestamp": 1703055044758,
     "user": {
      "displayName": "Manthesh L",
      "userId": "04646793550545002401"
     },
     "user_tz": -330
    },
    "id": "s8ltkemXJsC3"
   },
   "outputs": [],
   "source": [
    "from sklearn.model_selection import train_test_split"
   ]
  },
  {
   "cell_type": "code",
   "execution_count": 32,
   "metadata": {
    "executionInfo": {
     "elapsed": 687,
     "status": "ok",
     "timestamp": 1703055048457,
     "user": {
      "displayName": "Manthesh L",
      "userId": "04646793550545002401"
     },
     "user_tz": -330
    },
    "id": "ImRQkqeF8eh3"
   },
   "outputs": [],
   "source": [
    "x_train,x_test,y_train,y_test = train_test_split(x,y,test_size=0.2,random_state=44)"
   ]
  },
  {
   "cell_type": "code",
   "execution_count": 33,
   "metadata": {
    "colab": {
     "base_uri": "https://localhost:8080/"
    },
    "executionInfo": {
     "elapsed": 11,
     "status": "ok",
     "timestamp": 1703055048943,
     "user": {
      "displayName": "Manthesh L",
      "userId": "04646793550545002401"
     },
     "user_tz": -330
    },
    "id": "K25ponE_8jBQ",
    "outputId": "816dce00-71c1-4284-9807-bbfc3a6d6ba1"
   },
   "outputs": [
    {
     "data": {
      "text/plain": [
       "(2023, 7)"
      ]
     },
     "execution_count": 33,
     "metadata": {},
     "output_type": "execute_result"
    }
   ],
   "source": [
    "x_train.shape"
   ]
  },
  {
   "cell_type": "code",
   "execution_count": 34,
   "metadata": {
    "colab": {
     "base_uri": "https://localhost:8080/"
    },
    "executionInfo": {
     "elapsed": 9,
     "status": "ok",
     "timestamp": 1703055049664,
     "user": {
      "displayName": "Manthesh L",
      "userId": "04646793550545002401"
     },
     "user_tz": -330
    },
    "id": "mzCoSCV18maS",
    "outputId": "afec8a80-3b80-452d-d8ca-9cdd01a82d9f"
   },
   "outputs": [
    {
     "data": {
      "text/plain": [
       "(506, 7)"
      ]
     },
     "execution_count": 34,
     "metadata": {},
     "output_type": "execute_result"
    }
   ],
   "source": [
    "x_test.shape"
   ]
  },
  {
   "cell_type": "code",
   "execution_count": 35,
   "metadata": {
    "executionInfo": {
     "elapsed": 465,
     "status": "ok",
     "timestamp": 1703055053161,
     "user": {
      "displayName": "Manthesh L",
      "userId": "04646793550545002401"
     },
     "user_tz": -330
    },
    "id": "CGNkWnmK8ppU"
   },
   "outputs": [],
   "source": [
    "model = LogisticRegression()"
   ]
  },
  {
   "cell_type": "code",
   "execution_count": 36,
   "metadata": {
    "colab": {
     "base_uri": "https://localhost:8080/",
     "height": 213
    },
    "executionInfo": {
     "elapsed": 13,
     "status": "ok",
     "timestamp": 1703055053679,
     "user": {
      "displayName": "Manthesh L",
      "userId": "04646793550545002401"
     },
     "user_tz": -330
    },
    "id": "06OYYxG08tYq",
    "outputId": "fe92c144-d5e1-413c-9fee-4de2f40ec88b"
   },
   "outputs": [
    {
     "name": "stderr",
     "output_type": "stream",
     "text": [
      "C:\\Users\\madhu\\anaconda3\\lib\\site-packages\\sklearn\\linear_model\\_logistic.py:814: ConvergenceWarning: lbfgs failed to converge (status=1):\n",
      "STOP: TOTAL NO. of ITERATIONS REACHED LIMIT.\n",
      "\n",
      "Increase the number of iterations (max_iter) or scale the data as shown in:\n",
      "    https://scikit-learn.org/stable/modules/preprocessing.html\n",
      "Please also refer to the documentation for alternative solver options:\n",
      "    https://scikit-learn.org/stable/modules/linear_model.html#logistic-regression\n",
      "  n_iter_i = _check_optimize_result(\n"
     ]
    },
    {
     "data": {
      "text/plain": [
       "LogisticRegression()"
      ]
     },
     "execution_count": 36,
     "metadata": {},
     "output_type": "execute_result"
    }
   ],
   "source": [
    "model.fit(x_train, y_train)"
   ]
  },
  {
   "cell_type": "code",
   "execution_count": 37,
   "metadata": {
    "colab": {
     "base_uri": "https://localhost:8080/",
     "height": 423
    },
    "executionInfo": {
     "elapsed": 460,
     "status": "ok",
     "timestamp": 1703055055930,
     "user": {
      "displayName": "Manthesh L",
      "userId": "04646793550545002401"
     },
     "user_tz": -330
    },
    "id": "z62s4jsW8zHo",
    "outputId": "54fc428f-38d2-4815-827c-686841a49427"
   },
   "outputs": [
    {
     "data": {
      "text/html": [
       "<div>\n",
       "<style scoped>\n",
       "    .dataframe tbody tr th:only-of-type {\n",
       "        vertical-align: middle;\n",
       "    }\n",
       "\n",
       "    .dataframe tbody tr th {\n",
       "        vertical-align: top;\n",
       "    }\n",
       "\n",
       "    .dataframe thead th {\n",
       "        text-align: right;\n",
       "    }\n",
       "</style>\n",
       "<table border=\"1\" class=\"dataframe\">\n",
       "  <thead>\n",
       "    <tr style=\"text-align: right;\">\n",
       "      <th></th>\n",
       "      <th>One</th>\n",
       "      <th>Two</th>\n",
       "      <th>Three</th>\n",
       "      <th>Four</th>\n",
       "      <th>Five</th>\n",
       "      <th>Six</th>\n",
       "      <th>Seven</th>\n",
       "      <th>Eight</th>\n",
       "      <th>Nine</th>\n",
       "      <th>Ten</th>\n",
       "      <th>Eleven</th>\n",
       "      <th>Twelve</th>\n",
       "      <th>Thirteen</th>\n",
       "      <th>Fourteen</th>\n",
       "      <th>AScore</th>\n",
       "      <th>DScore</th>\n",
       "    </tr>\n",
       "  </thead>\n",
       "  <tbody>\n",
       "    <tr>\n",
       "      <th>0</th>\n",
       "      <td>0</td>\n",
       "      <td>3</td>\n",
       "      <td>1</td>\n",
       "      <td>2</td>\n",
       "      <td>1</td>\n",
       "      <td>3</td>\n",
       "      <td>0</td>\n",
       "      <td>0</td>\n",
       "      <td>2</td>\n",
       "      <td>1</td>\n",
       "      <td>1</td>\n",
       "      <td>0</td>\n",
       "      <td>0</td>\n",
       "      <td>0</td>\n",
       "      <td>20</td>\n",
       "      <td>8</td>\n",
       "    </tr>\n",
       "    <tr>\n",
       "      <th>1</th>\n",
       "      <td>0</td>\n",
       "      <td>0</td>\n",
       "      <td>2</td>\n",
       "      <td>2</td>\n",
       "      <td>3</td>\n",
       "      <td>1</td>\n",
       "      <td>2</td>\n",
       "      <td>0</td>\n",
       "      <td>3</td>\n",
       "      <td>1</td>\n",
       "      <td>0</td>\n",
       "      <td>2</td>\n",
       "      <td>3</td>\n",
       "      <td>1</td>\n",
       "      <td>20</td>\n",
       "      <td>20</td>\n",
       "    </tr>\n",
       "    <tr>\n",
       "      <th>2</th>\n",
       "      <td>0</td>\n",
       "      <td>3</td>\n",
       "      <td>1</td>\n",
       "      <td>2</td>\n",
       "      <td>3</td>\n",
       "      <td>3</td>\n",
       "      <td>0</td>\n",
       "      <td>0</td>\n",
       "      <td>1</td>\n",
       "      <td>2</td>\n",
       "      <td>2</td>\n",
       "      <td>3</td>\n",
       "      <td>3</td>\n",
       "      <td>3</td>\n",
       "      <td>24</td>\n",
       "      <td>28</td>\n",
       "    </tr>\n",
       "    <tr>\n",
       "      <th>3</th>\n",
       "      <td>0</td>\n",
       "      <td>3</td>\n",
       "      <td>3</td>\n",
       "      <td>1</td>\n",
       "      <td>1</td>\n",
       "      <td>2</td>\n",
       "      <td>2</td>\n",
       "      <td>0</td>\n",
       "      <td>0</td>\n",
       "      <td>2</td>\n",
       "      <td>2</td>\n",
       "      <td>0</td>\n",
       "      <td>3</td>\n",
       "      <td>3</td>\n",
       "      <td>24</td>\n",
       "      <td>20</td>\n",
       "    </tr>\n",
       "    <tr>\n",
       "      <th>4</th>\n",
       "      <td>0</td>\n",
       "      <td>1</td>\n",
       "      <td>1</td>\n",
       "      <td>3</td>\n",
       "      <td>0</td>\n",
       "      <td>3</td>\n",
       "      <td>0</td>\n",
       "      <td>0</td>\n",
       "      <td>2</td>\n",
       "      <td>1</td>\n",
       "      <td>0</td>\n",
       "      <td>2</td>\n",
       "      <td>1</td>\n",
       "      <td>0</td>\n",
       "      <td>16</td>\n",
       "      <td>12</td>\n",
       "    </tr>\n",
       "    <tr>\n",
       "      <th>...</th>\n",
       "      <td>...</td>\n",
       "      <td>...</td>\n",
       "      <td>...</td>\n",
       "      <td>...</td>\n",
       "      <td>...</td>\n",
       "      <td>...</td>\n",
       "      <td>...</td>\n",
       "      <td>...</td>\n",
       "      <td>...</td>\n",
       "      <td>...</td>\n",
       "      <td>...</td>\n",
       "      <td>...</td>\n",
       "      <td>...</td>\n",
       "      <td>...</td>\n",
       "      <td>...</td>\n",
       "      <td>...</td>\n",
       "    </tr>\n",
       "    <tr>\n",
       "      <th>2524</th>\n",
       "      <td>3</td>\n",
       "      <td>1</td>\n",
       "      <td>1</td>\n",
       "      <td>0</td>\n",
       "      <td>3</td>\n",
       "      <td>3</td>\n",
       "      <td>1</td>\n",
       "      <td>3</td>\n",
       "      <td>1</td>\n",
       "      <td>1</td>\n",
       "      <td>0</td>\n",
       "      <td>0</td>\n",
       "      <td>1</td>\n",
       "      <td>2</td>\n",
       "      <td>24</td>\n",
       "      <td>16</td>\n",
       "    </tr>\n",
       "    <tr>\n",
       "      <th>2525</th>\n",
       "      <td>3</td>\n",
       "      <td>0</td>\n",
       "      <td>1</td>\n",
       "      <td>3</td>\n",
       "      <td>0</td>\n",
       "      <td>1</td>\n",
       "      <td>0</td>\n",
       "      <td>3</td>\n",
       "      <td>2</td>\n",
       "      <td>3</td>\n",
       "      <td>1</td>\n",
       "      <td>0</td>\n",
       "      <td>3</td>\n",
       "      <td>2</td>\n",
       "      <td>16</td>\n",
       "      <td>28</td>\n",
       "    </tr>\n",
       "    <tr>\n",
       "      <th>2526</th>\n",
       "      <td>3</td>\n",
       "      <td>0</td>\n",
       "      <td>0</td>\n",
       "      <td>2</td>\n",
       "      <td>2</td>\n",
       "      <td>1</td>\n",
       "      <td>2</td>\n",
       "      <td>3</td>\n",
       "      <td>2</td>\n",
       "      <td>3</td>\n",
       "      <td>2</td>\n",
       "      <td>0</td>\n",
       "      <td>1</td>\n",
       "      <td>3</td>\n",
       "      <td>20</td>\n",
       "      <td>28</td>\n",
       "    </tr>\n",
       "    <tr>\n",
       "      <th>2527</th>\n",
       "      <td>3</td>\n",
       "      <td>1</td>\n",
       "      <td>0</td>\n",
       "      <td>3</td>\n",
       "      <td>1</td>\n",
       "      <td>3</td>\n",
       "      <td>3</td>\n",
       "      <td>3</td>\n",
       "      <td>0</td>\n",
       "      <td>3</td>\n",
       "      <td>2</td>\n",
       "      <td>3</td>\n",
       "      <td>0</td>\n",
       "      <td>3</td>\n",
       "      <td>28</td>\n",
       "      <td>28</td>\n",
       "    </tr>\n",
       "    <tr>\n",
       "      <th>2528</th>\n",
       "      <td>3</td>\n",
       "      <td>1</td>\n",
       "      <td>1</td>\n",
       "      <td>1</td>\n",
       "      <td>3</td>\n",
       "      <td>3</td>\n",
       "      <td>0</td>\n",
       "      <td>3</td>\n",
       "      <td>3</td>\n",
       "      <td>2</td>\n",
       "      <td>2</td>\n",
       "      <td>3</td>\n",
       "      <td>1</td>\n",
       "      <td>2</td>\n",
       "      <td>24</td>\n",
       "      <td>32</td>\n",
       "    </tr>\n",
       "  </tbody>\n",
       "</table>\n",
       "<p>2529 rows × 16 columns</p>\n",
       "</div>"
      ],
      "text/plain": [
       "      One  Two  Three  Four  Five  Six  Seven  Eight  Nine  Ten  Eleven  \\\n",
       "0       0    3      1     2     1    3      0      0     2    1       1   \n",
       "1       0    0      2     2     3    1      2      0     3    1       0   \n",
       "2       0    3      1     2     3    3      0      0     1    2       2   \n",
       "3       0    3      3     1     1    2      2      0     0    2       2   \n",
       "4       0    1      1     3     0    3      0      0     2    1       0   \n",
       "...   ...  ...    ...   ...   ...  ...    ...    ...   ...  ...     ...   \n",
       "2524    3    1      1     0     3    3      1      3     1    1       0   \n",
       "2525    3    0      1     3     0    1      0      3     2    3       1   \n",
       "2526    3    0      0     2     2    1      2      3     2    3       2   \n",
       "2527    3    1      0     3     1    3      3      3     0    3       2   \n",
       "2528    3    1      1     1     3    3      0      3     3    2       2   \n",
       "\n",
       "      Twelve  Thirteen  Fourteen  AScore  DScore  \n",
       "0          0         0         0      20       8  \n",
       "1          2         3         1      20      20  \n",
       "2          3         3         3      24      28  \n",
       "3          0         3         3      24      20  \n",
       "4          2         1         0      16      12  \n",
       "...      ...       ...       ...     ...     ...  \n",
       "2524       0         1         2      24      16  \n",
       "2525       0         3         2      16      28  \n",
       "2526       0         1         3      20      28  \n",
       "2527       3         0         3      28      28  \n",
       "2528       3         1         2      24      32  \n",
       "\n",
       "[2529 rows x 16 columns]"
      ]
     },
     "execution_count": 37,
     "metadata": {},
     "output_type": "execute_result"
    }
   ],
   "source": [
    "df"
   ]
  },
  {
   "cell_type": "code",
   "execution_count": 38,
   "metadata": {
    "colab": {
     "base_uri": "https://localhost:8080/"
    },
    "executionInfo": {
     "elapsed": 16,
     "status": "ok",
     "timestamp": 1703055058407,
     "user": {
      "displayName": "Manthesh L",
      "userId": "04646793550545002401"
     },
     "user_tz": -330
    },
    "id": "HGtx5ofp84wr",
    "outputId": "34bdc95f-f35c-41af-c092-4c6602368913"
   },
   "outputs": [
    {
     "data": {
      "text/plain": [
       "0.9664031620553359"
      ]
     },
     "execution_count": 38,
     "metadata": {},
     "output_type": "execute_result"
    }
   ],
   "source": [
    "predicted_output = model.predict(x_test)\n",
    "score=accuracy_score(predicted_output,y_test)\n",
    "score"
   ]
  },
  {
   "cell_type": "code",
   "execution_count": 39,
   "metadata": {
    "colab": {
     "base_uri": "https://localhost:8080/"
    },
    "executionInfo": {
     "elapsed": 835,
     "status": "ok",
     "timestamp": 1703055063795,
     "user": {
      "displayName": "Manthesh L",
      "userId": "04646793550545002401"
     },
     "user_tz": -330
    },
    "id": "XwZdFb8K89g2",
    "outputId": "c9f2ad40-a7ae-4b39-be6e-05114d637acb"
   },
   "outputs": [
    {
     "data": {
      "text/plain": [
       "0.6383399209486166"
      ]
     },
     "execution_count": 39,
     "metadata": {},
     "output_type": "execute_result"
    }
   ],
   "source": [
    "model2=RandomForestClassifier()\n",
    "model2.fit(x_train, y_train)\n",
    "preds=model2.predict(x_test)\n",
    "score2=accuracy_score(preds,y_test)\n",
    "score2"
   ]
  },
  {
   "cell_type": "code",
   "execution_count": 40,
   "metadata": {
    "colab": {
     "base_uri": "https://localhost:8080/"
    },
    "executionInfo": {
     "elapsed": 763,
     "status": "ok",
     "timestamp": 1703055066345,
     "user": {
      "displayName": "Manthesh L",
      "userId": "04646793550545002401"
     },
     "user_tz": -330
    },
    "id": "aZy53ISu9BQv",
    "outputId": "84dafeae-b8da-40ce-df8e-ed7e7989efa5"
   },
   "outputs": [
    {
     "data": {
      "text/plain": [
       "0.6146245059288538"
      ]
     },
     "execution_count": 40,
     "metadata": {},
     "output_type": "execute_result"
    }
   ],
   "source": [
    "model3=DecisionTreeClassifier()\n",
    "model3.fit(x_train, y_train)\n",
    "pred1=model3.predict(x_test)\n",
    "score3=accuracy_score(pred1,y_test)\n",
    "score3"
   ]
  },
  {
   "cell_type": "code",
   "execution_count": 41,
   "metadata": {
    "colab": {
     "base_uri": "https://localhost:8080/"
    },
    "executionInfo": {
     "elapsed": 502,
     "status": "ok",
     "timestamp": 1703055068834,
     "user": {
      "displayName": "Manthesh L",
      "userId": "04646793550545002401"
     },
     "user_tz": -330
    },
    "id": "KNZMmSwM9Frh",
    "outputId": "0088e521-ab76-479e-dcd7-09b098fb98b6"
   },
   "outputs": [
    {
     "data": {
      "text/plain": [
       "0.5177865612648221"
      ]
     },
     "execution_count": 41,
     "metadata": {},
     "output_type": "execute_result"
    }
   ],
   "source": [
    "model4=GaussianNB()\n",
    "model4.fit(x_train, y_train)\n",
    "pred2=model4.predict(x_test)\n",
    "score4=accuracy_score(pred2,y_test)\n",
    "score4"
   ]
  },
  {
   "cell_type": "code",
   "execution_count": 42,
   "metadata": {
    "colab": {
     "base_uri": "https://localhost:8080/"
    },
    "executionInfo": {
     "elapsed": 650,
     "status": "ok",
     "timestamp": 1703055071599,
     "user": {
      "displayName": "Manthesh L",
      "userId": "04646793550545002401"
     },
     "user_tz": -330
    },
    "id": "R3UtgacS9KAh",
    "outputId": "e9e3fcc2-fac7-4212-a364-78f1964378bd"
   },
   "outputs": [
    {
     "name": "stderr",
     "output_type": "stream",
     "text": [
      "C:\\Users\\madhu\\anaconda3\\lib\\site-packages\\sklearn\\neighbors\\_classification.py:228: FutureWarning: Unlike other reduction functions (e.g. `skew`, `kurtosis`), the default behavior of `mode` typically preserves the axis it acts along. In SciPy 1.11.0, this behavior will change: the default value of `keepdims` will become False, the `axis` over which the statistic is taken will be eliminated, and the value None will no longer be accepted. Set `keepdims` to True or False to avoid this warning.\n",
      "  mode, _ = stats.mode(_y[neigh_ind, k], axis=1)\n"
     ]
    },
    {
     "data": {
      "text/plain": [
       "0.6185770750988142"
      ]
     },
     "execution_count": 42,
     "metadata": {},
     "output_type": "execute_result"
    }
   ],
   "source": [
    "model5=KNeighborsClassifier()\n",
    "model5.fit(x_train, y_train)\n",
    "pred3=model5.predict(x_test)\n",
    "score5=accuracy_score(pred3,y_test)\n",
    "score5"
   ]
  },
  {
   "cell_type": "code",
   "execution_count": 43,
   "metadata": {
    "colab": {
     "base_uri": "https://localhost:8080/"
    },
    "executionInfo": {
     "elapsed": 625,
     "status": "ok",
     "timestamp": 1703055074147,
     "user": {
      "displayName": "Manthesh L",
      "userId": "04646793550545002401"
     },
     "user_tz": -330
    },
    "id": "r1jRmKSG9Twt",
    "outputId": "238e20cf-c807-440b-a943-bec031394718"
   },
   "outputs": [
    {
     "data": {
      "text/plain": [
       "0.9822134387351779"
      ]
     },
     "execution_count": 43,
     "metadata": {},
     "output_type": "execute_result"
    }
   ],
   "source": [
    "model6=SVC()\n",
    "model6.fit(x_train, y_train)\n",
    "pred4=model6.predict(x_test)\n",
    "score6=accuracy_score(pred4,y_test)\n",
    "score6"
   ]
  },
  {
   "cell_type": "code",
   "execution_count": null,
   "metadata": {
    "id": "kBM9dYsP9Xt0"
   },
   "outputs": [],
   "source": []
  }
 ],
 "metadata": {
  "colab": {
   "authorship_tag": "ABX9TyPpFa8GP5McVAdlqRNSNx6L",
   "provenance": []
  },
  "kernelspec": {
   "display_name": "Python 3 (ipykernel)",
   "language": "python",
   "name": "python3"
  },
  "language_info": {
   "codemirror_mode": {
    "name": "ipython",
    "version": 3
   },
   "file_extension": ".py",
   "mimetype": "text/x-python",
   "name": "python",
   "nbconvert_exporter": "python",
   "pygments_lexer": "ipython3",
   "version": "3.9.12"
  }
 },
 "nbformat": 4,
 "nbformat_minor": 1
}
